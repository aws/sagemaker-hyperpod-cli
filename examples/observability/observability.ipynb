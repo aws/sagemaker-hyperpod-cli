{
 "cells": [
  {
   "cell_type": "code",
   "execution_count": 1,
   "id": "b5f69c26-af46-4380-9df0-bea0f6e4963c",
   "metadata": {},
   "outputs": [],
   "source": [
    "from sagemaker.hyperpod.utils import get_monitoring_config, is_observability_addon_enabled"
   ]
  },
  {
   "cell_type": "code",
   "execution_count": 2,
   "id": "6a86998a-59dc-46e5-9aa7-33d5386b16f9",
   "metadata": {},
   "outputs": [],
   "source": [
    "monitor_config = get_monitoring_config()"
   ]
  },
  {
   "cell_type": "code",
   "execution_count": 5,
   "id": "15fffc00-d8d0-44e2-98b4-005e654e3cf4",
   "metadata": {},
   "outputs": [
    {
     "data": {
      "text/plain": [
       "'https://g-b4a6fed76b.grafana-workspace.us-west-2.amazonaws.com/d/aws-sm-hp-observability-cluster-v1_0'"
      ]
     },
     "execution_count": 5,
     "metadata": {},
     "output_type": "execute_result"
    }
   ],
   "source": [
    "monitor_config.grafanaURL"
   ]
  },
  {
   "cell_type": "code",
   "execution_count": 6,
   "id": "14c00535-7274-48ac-8c94-9fa10bbf2324",
   "metadata": {},
   "outputs": [
    {
     "data": {
      "text/plain": [
       "'https://aps-workspaces.us-west-2.amazonaws.com/workspaces/ws-e372a1c1-d909-45f8-9c0d-d0912095f4d6'"
      ]
     },
     "execution_count": 6,
     "metadata": {},
     "output_type": "execute_result"
    }
   ],
   "source": [
    "monitor_config.prometheusURL"
   ]
  },
  {
   "cell_type": "code",
   "execution_count": null,
   "id": "42d930cb-7655-4409-99c9-e0240d4346a0",
   "metadata": {},
   "outputs": [],
   "source": []
  }
 ],
 "metadata": {
  "kernelspec": {
   "display_name": "Python 3 (ipykernel)",
   "language": "python",
   "name": "python3"
  },
  "language_info": {
   "codemirror_mode": {
    "name": "ipython",
    "version": 3
   },
   "file_extension": ".py",
   "mimetype": "text/x-python",
   "name": "python",
   "nbconvert_exporter": "python",
   "pygments_lexer": "ipython3",
   "version": "3.12.5"
  }
 },
 "nbformat": 4,
 "nbformat_minor": 5
}
