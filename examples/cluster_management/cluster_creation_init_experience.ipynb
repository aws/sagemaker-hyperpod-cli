{
 "cells": [
  {
   "cell_type": "markdown",
   "metadata": {},
   "source": [
    "# SageMaker HyperPod Cluster Creation - Init Experience\n",
    "\n",
    "This notebook demonstrates the complete end-to-end workflow for creating a SageMaker HyperPod cluster using the HyperPod CLI. The init experience provides a guided approach to cluster creation with validation and configuration management.\n",
    "\n",
    "## Prerequisites\n",
    "\n",
    "- AWS CLI configured with appropriate permissions\n",
    "- SageMaker HyperPod CLI installed (`pip install sagemaker-hyperpod`)\n",
    "- Helm installed (required for cluster operations)\n",
    "- Python 3.8+ environment\n",
    "\n",
    "## Workflow Overview\n",
    "\n",
    "1. **Initialize** - Create initial cluster configuration\n",
    "2. **Configure** - Customize cluster settings and tags\n",
    "3. **Validate** - Verify configuration before deployment\n",
    "4. **Create** - Deploy the cluster infrastructure\n",
    "5. **Monitor** - Check cluster status and manage lifecycle\n"
   ]
  },
  {
   "cell_type": "markdown",
   "metadata": {},
   "source": [
    "## Step 1: Initialize Cluster Configuration\n",
    "\n",
    "The `hyp init cluster-stack` command creates a new cluster configuration template with default settings. This generates a `config.yaml` file that serves as the foundation for your cluster deployment.\n",
    "\n",
    "**What this does:**\n",
    "- Creates a new `config.yaml` with default cluster settings\n",
    "- Sets up basic infrastructure components (VPC, EKS, S3, etc.)\n",
    "- Generates unique resource names to avoid conflicts\n"
   ]
  },
  {
   "cell_type": "code",
   "metadata": {
    "ExecuteTime": {
     "end_time": "2025-08-22T23:54:55.997821Z",
     "start_time": "2025-08-22T23:54:53.373909Z"
    }
   },
   "source": [
    "# Initialize a new cluster stack configuration\n",
    "!hyp init cluster-stack"
   ],
   "outputs": [
    {
     "name": "stdout",
     "output_type": "stream",
     "text": [
      "Initializing new scaffold for 'cluster-stack'…\r\n",
      "Configuration saved to: /Users/nargokul/workspace/private-sagemaker-hyperpod-cli-staging/examples/config.yaml\r\n",
      "Cloudformation Parameters Jinja template saved to: /Users/nargokul/workspace/private-sagemaker-hyperpod-cli-staging/examples/cfn_params.jinja\u001B[0m\r\n",
      "\u001B[32m✔️  cluster-stack for schema version='1.0' is initialized in /Users/nargokul/workspace/private-sagemaker-hyperpod-cli-staging/examples\u001B[0m\r\n",
      "\u001B[32m🚀 Welcome!\r\n",
      "📘 See /Users/nargokul/workspace/private-sagemaker-hyperpod-cli-staging/examples/README.md for usage.\r\n",
      "\u001B[0m\r\n"
     ]
    }
   ],
   "execution_count": 1
  },
  {
   "cell_type": "markdown",
   "metadata": {},
   "source": [
    "## Step 2: Configure Cluster Settings\n",
    "\n",
    "The `hyp configure` command allows you to customize your cluster configuration. You can add tags for resource management, modify instance types, adjust networking settings, and more.\n",
    "\n",
    "**Key configuration options:**\n",
    "- **Tags**: For resource organization and cost tracking\n",
    "- **Instance Groups**: Define compute resources and their specifications\n",
    "- **Networking**: VPC, subnets, and security group settings\n",
    "- **Storage**: FSx and EBS volume configurations\n"
   ]
  },
  {
   "cell_type": "code",
   "metadata": {
    "ExecuteTime": {
     "end_time": "2025-08-22T23:54:58.343369Z",
     "start_time": "2025-08-22T23:54:56.007289Z"
    }
   },
   "source": [
    "# Configure cluster with custom tags for resource management\n",
    "# Tags help with cost tracking, resource organization, and compliance\n",
    "!hyp configure --tags '[{\"Key\": \"Environment\", \"Value\": \"Development\"}, {\"Key\": \"Project\", \"Value\": \"MLTraining\"}, {\"Key\": \"Owner\", \"Value\": \"DataScienceTeam\"}, {\"Key\": \"CostCenter\", \"Value\": \"ML-Research\"}]'"
   ],
   "outputs": [
    {
     "name": "stdout",
     "output_type": "stream",
     "text": [
      "\u001B[32m✔️  Configuration updated successfully!\u001B[0m\r\n",
      "Configuration saved to: /Users/nargokul/workspace/private-sagemaker-hyperpod-cli-staging/examples/config.yaml\r\n",
      "\u001B[32m✔️  config.yaml updated successfully.\u001B[0m\r\n"
     ]
    }
   ],
   "execution_count": 2
  },
  {
   "cell_type": "markdown",
   "metadata": {},
   "source": [
    "### View Current Configuration\n",
    "\n",
    "Let's examine the generated configuration to understand what will be deployed:"
   ]
  },
  {
   "cell_type": "code",
   "metadata": {
    "ExecuteTime": {
     "end_time": "2025-08-22T23:54:58.736198Z",
     "start_time": "2025-08-22T23:54:58.600019Z"
    }
   },
   "source": [
    "# Display the current configuration\n",
    "!cat config.yaml | head -50"
   ],
   "outputs": [
    {
     "name": "stdout",
     "output_type": "stream",
     "text": [
      "# Template type\r\n",
      "template: cluster-stack\r\n",
      "\r\n",
      "# Schema version (latest available version used by default)\r\n",
      "version: 1.0\r\n",
      "\r\n",
      "# Deployment stage (gamma, prod)\r\n",
      "stage: prod\r\n",
      "\r\n",
      "# Feature flag for enabling HP inference\r\n",
      "enable_hp_inference_feature: False\r\n",
      "\r\n",
      "# Custom S3 bucket name for templates\r\n",
      "custom_bucket_name: \r\n",
      "\r\n",
      "# Unique prefix for all resources (must be different for each deployment)\r\n",
      "resource_name_prefix: hyperpod-cli-integ-test\r\n",
      "\r\n",
      "# The IP range (CIDR notation) for the VPC\r\n",
      "vpc_cidr: 10.192.0.0/16\r\n",
      "\r\n",
      "# List of AZs to deploy subnets in\r\n",
      "availability_zone_ids:\r\n",
      "  - use2-az1\r\n",
      "  - use2-az2\r\n",
      "  - use2-az3\r\n",
      "\r\n",
      "# The ID of the VPC\r\n",
      "vpc_id: \r\n",
      "\r\n",
      "# List of NAT Gateway IDs\r\n",
      "nat_gateway_ids: \r\n",
      "\r\n",
      "# The ID of the security group\r\n",
      "security_group_id: \r\n",
      "\r\n",
      "# The Kubernetes version\r\n",
      "kubernetes_version: 1.31\r\n",
      "\r\n",
      "# The node provisioning mode\r\n",
      "node_provisioning_mode: Continuous\r\n",
      "\r\n",
      "# The name of the EKS cluster\r\n",
      "eks_cluster_name: eks\r\n",
      "\r\n",
      "# List of private subnet IDs\r\n",
      "eks_private_subnet_ids: \r\n",
      "\r\n",
      "# List of cluster security group IDs\r\n",
      "security_group_ids: \r\n"
     ]
    }
   ],
   "execution_count": 3
  },
  {
   "cell_type": "markdown",
   "metadata": {},
   "source": [
    "## Step 3: Validate Configuration\n",
    "\n",
    "The `hyp validate` command performs comprehensive validation of your cluster configuration before deployment. This helps catch configuration errors early and ensures all prerequisites are met.\n",
    "\n",
    "**Validation checks include:**\n",
    "- AWS credentials and permissions\n",
    "- Resource quotas and limits\n",
    "- Configuration syntax and values\n",
    "- Network and security settings\n",
    "- Instance type availability in target regions\n"
   ]
  },
  {
   "cell_type": "code",
   "metadata": {
    "ExecuteTime": {
     "end_time": "2025-08-22T23:55:00.863743Z",
     "start_time": "2025-08-22T23:54:58.745824Z"
    }
   },
   "source": [
    "# Validate the cluster configuration\n",
    "# This checks for potential issues before deployment\n",
    "!hyp validate"
   ],
   "outputs": [
    {
     "name": "stdout",
     "output_type": "stream",
     "text": [
      "\u001B[32m✔️  config.yaml is valid!\u001B[0m\r\n"
     ]
    }
   ],
   "execution_count": 4
  },
  {
   "cell_type": "markdown",
   "metadata": {},
   "source": [
    "## Step 4: Reset Configuration (Optional)\n",
    "\n",
    "The `hyp reset` command allows you to reset your configuration to defaults or clean up any partial deployments. This is useful when you want to start fresh or if validation reveals issues that require a clean slate.\n",
    "\n",
    "**Use cases for reset:**\n",
    "- Starting over with a clean configuration\n",
    "- Cleaning up after failed deployments\n",
    "- Switching between different cluster configurations\n"
   ]
  },
  {
   "cell_type": "code",
   "metadata": {
    "ExecuteTime": {
     "end_time": "2025-08-22T23:55:00.874999Z",
     "start_time": "2025-08-22T23:55:00.872965Z"
    }
   },
   "source": [
    "# Reset configuration if needed (uncomment to use)\n",
    "# !hyp reset\n",
    "\n",
    "print(\"Reset command available if configuration changes are needed\")"
   ],
   "outputs": [
    {
     "name": "stdout",
     "output_type": "stream",
     "text": [
      "Reset command available if configuration changes are needed\n"
     ]
    }
   ],
   "execution_count": 5
  },
  {
   "cell_type": "markdown",
   "metadata": {},
   "source": [
    "## Step 5: Create the Cluster\n",
    "\n",
    "The `hyp create` command deploys your HyperPod cluster infrastructure. This process creates all the necessary AWS resources including VPC, EKS cluster, IAM roles, S3 buckets, and the HyperPod cluster itself.\n",
    "\n",
    "**Deployment includes:**\n",
    "- VPC and networking infrastructure\n",
    "- EKS cluster with managed node groups\n",
    "- SageMaker HyperPod cluster\n",
    "- IAM roles and policies\n",
    "- S3 buckets for artifacts\n",
    "- FSx file system (if configured)\n",
    "\n",
    "**Note:** This process typically takes 15-30 minutes to complete.\n"
   ]
  },
  {
   "cell_type": "code",
   "metadata": {
    "ExecuteTime": {
     "end_time": "2025-08-22T23:55:05.020376Z",
     "start_time": "2025-08-22T23:55:00.884963Z"
    }
   },
   "source": [
    "# Create the HyperPod cluster\n",
    "# This will deploy all infrastructure components\n",
    "!hyp create"
   ],
   "outputs": [
    {
     "name": "stdout",
     "output_type": "stream",
     "text": [
      "\u001B[32m✔️  config.yaml is valid!\u001B[0m\r\n",
      "\u001B[32m✔️  Configuration is valid!\u001B[0m\r\n",
      "\u001B[32m✔️  Submitted! Files written to /Users/nargokul/workspace/private-sagemaker-hyperpod-cli-staging/examples/run/20250822T165502\u001B[0m\r\n",
      "\u001B[33mSubmitting to default region: us-east-2.\u001B[0m\r\n",
      "Stack creation initiated. Stack ID: arn:aws:cloudformation:us-east-2:211125564141:stack/HyperpodClusterStack-ba60b/6be3a540-7fb3-11f0-8bc0-0aa797f4fc05\u001B[0m\r\n"
     ]
    }
   ],
   "execution_count": 6
  },
  {
   "cell_type": "markdown",
   "metadata": {},
   "source": [
    "## Step 6: Monitor Cluster Creation\n",
    "\n",
    "While the cluster is being created, you can monitor its progress using the describe and list commands. These provide real-time status updates on the deployment process.\n"
   ]
  },
  {
   "cell_type": "code",
   "metadata": {
    "ExecuteTime": {
     "end_time": "2025-08-22T23:55:30.395246Z",
     "start_time": "2025-08-22T23:55:05.031506Z"
    }
   },
   "source": [
    "# Check cluster creation status\n",
    "import time\n",
    "\n",
    "print(\"Monitoring cluster creation progress...\")\n",
    "for i in range(5):\n",
    "    print(f\"\\n--- Status Check {i+1} ---\")\n",
    "    !hyp describe cluster-stack <STACK_NAME>\n",
    "    time.sleep(30)  # Wait 30 seconds between checks"
   ],
   "outputs": [
    {
     "name": "stdout",
     "output_type": "stream",
     "text": [
      "Monitoring cluster creation progress...\n",
      "\n",
      "--- Status Check 1 ---\n",
      "Usage: hyp describe cluster-stack [OPTIONS] STACK_NAME\r\n",
      "Try 'hyp describe cluster-stack --help' for help.\r\n",
      "\r\n",
      "Error: Missing argument 'STACK_NAME'.\r\n"
     ]
    },
    {
     "ename": "KeyboardInterrupt",
     "evalue": "",
     "output_type": "error",
     "traceback": [
      "\u001B[0;31m---------------------------------------------------------------------------\u001B[0m",
      "\u001B[0;31mKeyboardInterrupt\u001B[0m                         Traceback (most recent call last)",
      "Cell \u001B[0;32mIn[7], line 8\u001B[0m\n\u001B[1;32m      6\u001B[0m \u001B[38;5;28mprint\u001B[39m(\u001B[38;5;124mf\u001B[39m\u001B[38;5;124m\"\u001B[39m\u001B[38;5;130;01m\\n\u001B[39;00m\u001B[38;5;124m--- Status Check \u001B[39m\u001B[38;5;132;01m{\u001B[39;00mi\u001B[38;5;241m+\u001B[39m\u001B[38;5;241m1\u001B[39m\u001B[38;5;132;01m}\u001B[39;00m\u001B[38;5;124m ---\u001B[39m\u001B[38;5;124m\"\u001B[39m)\n\u001B[1;32m      7\u001B[0m get_ipython()\u001B[38;5;241m.\u001B[39msystem(\u001B[38;5;124m'\u001B[39m\u001B[38;5;124mhyp describe cluster-stack\u001B[39m\u001B[38;5;124m'\u001B[39m)\n\u001B[0;32m----> 8\u001B[0m \u001B[43mtime\u001B[49m\u001B[38;5;241;43m.\u001B[39;49m\u001B[43msleep\u001B[49m\u001B[43m(\u001B[49m\u001B[38;5;241;43m30\u001B[39;49m\u001B[43m)\u001B[49m  \u001B[38;5;66;03m# Wait 30 seconds between checks\u001B[39;00m\n",
      "\u001B[0;31mKeyboardInterrupt\u001B[0m: "
     ]
    }
   ],
   "execution_count": 7
  },
  {
   "cell_type": "markdown",
   "metadata": {},
   "source": [
    "## Step 7: Describe Cluster Stack\n",
    "\n",
    "The `hyp describe cluster-stack` command provides detailed information about your deployed cluster, including resource IDs, endpoints, and current status.\n",
    "\n",
    "**Information provided:**\n",
    "- Cluster status and health\n",
    "- Resource ARNs and IDs\n",
    "- Network configuration details\n",
    "- Instance group information\n",
    "- Storage configuration\n"
   ]
  },
  {
   "cell_type": "code",
   "execution_count": null,
   "metadata": {},
   "outputs": [],
   "source": [
    "# Get detailed information about the cluster stack\n",
    "!hyp describe cluster-stack  <STACK_NAME>"
   ]
  },
  {
   "cell_type": "markdown",
   "metadata": {},
   "source": [
    "## Step 8: List All Cluster Stacks\n",
    "\n",
    "The `hyp list cluster-stack` command shows all HyperPod cluster stacks in your account. This is useful for managing multiple clusters and getting an overview of your infrastructure.\n",
    "\n",
    "**Displays:**\n",
    "- All cluster stacks in the current region\n",
    "- Stack names and creation timestamps\n",
    "- Current status of each stack\n",
    "- Resource counts and types\n"
   ]
  },
  {
   "cell_type": "code",
   "metadata": {
    "ExecuteTime": {
     "end_time": "2025-08-23T00:01:49.558778Z",
     "start_time": "2025-08-23T00:01:45.803295Z"
    }
   },
   "source": [
    "# List all cluster stacks in your account\n",
    "!hyp list cluster-stack"
   ],
   "outputs": [
    {
     "name": "stdout",
     "output_type": "stream",
     "text": [
      "📋 HyperPod Cluster Stacks (20 found)\r\n",
      "\r\n",
      "[1] Stack Details:\r\n",
      " Field               | Value\r\n",
      "---------------------+---------------------------------------------------------------------------------------------------------------------------------------------------\r\n",
      " StackId             | arn:aws:cloudformation:us-east-2:211125564141:stack/HyperpodClusterStack-ba60b-EKSClusterStack-1F8N74LGLG0RG/ef977740-7fb3-11f0-adbe-0a785f9dc1d7\r\n",
      " StackName           | HyperpodClusterStack-ba60b-EKSClusterStack-1F8N74LGLG0RG\r\n",
      " TemplateDescription | EKS Cluster Stack\r\n",
      " CreationTime        | 2025-08-22 23:58:44\r\n",
      " StackStatus         | CREATE_IN_PROGRESS\r\n",
      " ParentId            | arn:aws:cloudformation:us-east-2:211125564141:stack/HyperpodClusterStack-ba60b/6be3a540-7fb3-11f0-8bc0-0aa797f4fc05\r\n",
      " RootId              | arn:aws:cloudformation:us-east-2:211125564141:stack/HyperpodClusterStack-ba60b/6be3a540-7fb3-11f0-8bc0-0aa797f4fc05\r\n",
      " DriftInformation    | {'StackDriftStatus': 'NOT_CHECKED'}\r\n",
      "\r\n",
      "[2] Stack Details:\r\n",
      " Field               | Value\r\n",
      "---------------------+---------------------------------------------------------------------------------------------------------------------------------------------------\r\n",
      " StackId             | arn:aws:cloudformation:us-east-2:211125564141:stack/HyperpodClusterStack-ba60b-S3EndpointStack-1F485MTXTGTSQ/ef7f8270-7fb3-11f0-a769-06e2f8357815\r\n",
      " StackName           | HyperpodClusterStack-ba60b-S3EndpointStack-1F485MTXTGTSQ\r\n",
      " TemplateDescription | S3 Endpoint Stack\r\n",
      " CreationTime        | 2025-08-22 23:58:44\r\n",
      " StackStatus         | CREATE_COMPLETE\r\n",
      " ParentId            | arn:aws:cloudformation:us-east-2:211125564141:stack/HyperpodClusterStack-ba60b/6be3a540-7fb3-11f0-8bc0-0aa797f4fc05\r\n",
      " RootId              | arn:aws:cloudformation:us-east-2:211125564141:stack/HyperpodClusterStack-ba60b/6be3a540-7fb3-11f0-8bc0-0aa797f4fc05\r\n",
      " DriftInformation    | {'StackDriftStatus': 'NOT_CHECKED'}\r\n",
      "\r\n",
      "[3] Stack Details:\r\n",
      " Field               | Value\r\n",
      "---------------------+-----------------------------------------------------------------------------------------------------------------------------------------------------\r\n",
      " StackId             | arn:aws:cloudformation:us-east-2:211125564141:stack/HyperpodClusterStack-ba60b-PrivateSubnetStack-ODC4IO5EISBL/dae464c0-7fb3-11f0-bf64-0aecf71cc499\r\n",
      " StackName           | HyperpodClusterStack-ba60b-PrivateSubnetStack-ODC4IO5EISBL\r\n",
      " TemplateDescription | Private Subnet Stack\r\n",
      " CreationTime        | 2025-08-22 23:58:09\r\n",
      " StackStatus         | CREATE_COMPLETE\r\n",
      " ParentId            | arn:aws:cloudformation:us-east-2:211125564141:stack/HyperpodClusterStack-ba60b/6be3a540-7fb3-11f0-8bc0-0aa797f4fc05\r\n",
      " RootId              | arn:aws:cloudformation:us-east-2:211125564141:stack/HyperpodClusterStack-ba60b/6be3a540-7fb3-11f0-8bc0-0aa797f4fc05\r\n",
      " DriftInformation    | {'StackDriftStatus': 'NOT_CHECKED'}\r\n",
      "\r\n",
      "[4] Stack Details:\r\n",
      " Field               | Value\r\n",
      "---------------------+------------------------------------------------------------------------------------------------------------------------------------------------------\r\n",
      " StackId             | arn:aws:cloudformation:us-east-2:211125564141:stack/HyperpodClusterStack-ba60b-SecurityGroupStack-14GCN0FZOR6W1/dae6d5c0-7fb3-11f0-b517-0a66a60f6c1b\r\n",
      " StackName           | HyperpodClusterStack-ba60b-SecurityGroupStack-14GCN0FZOR6W1\r\n",
      " TemplateDescription | Security Group Stack\r\n",
      " CreationTime        | 2025-08-22 23:58:09\r\n",
      " StackStatus         | CREATE_COMPLETE\r\n",
      " ParentId            | arn:aws:cloudformation:us-east-2:211125564141:stack/HyperpodClusterStack-ba60b/6be3a540-7fb3-11f0-8bc0-0aa797f4fc05\r\n",
      " RootId              | arn:aws:cloudformation:us-east-2:211125564141:stack/HyperpodClusterStack-ba60b/6be3a540-7fb3-11f0-8bc0-0aa797f4fc05\r\n",
      " DriftInformation    | {'StackDriftStatus': 'NOT_CHECKED'}\r\n",
      "\r\n",
      "[5] Stack Details:\r\n",
      " Field               | Value\r\n",
      "---------------------+-------------------------------------------------------------------------------------------------------------------------------------------------------\r\n",
      " StackId             | arn:aws:cloudformation:us-east-2:211125564141:stack/HyperpodClusterStack-ba60b-LifeCycleScriptStack-8E1H4UC10XUH/8a3ad3b0-7fb3-11f0-b43d-06f3f29b3e8b\r\n",
      " StackName           | HyperpodClusterStack-ba60b-LifeCycleScriptStack-8E1H4UC10XUH\r\n",
      " TemplateDescription | Lifecycle Script Stack\r\n",
      " CreationTime        | 2025-08-22 23:55:54\r\n",
      " StackStatus         | CREATE_COMPLETE\r\n",
      " ParentId            | arn:aws:cloudformation:us-east-2:211125564141:stack/HyperpodClusterStack-ba60b/6be3a540-7fb3-11f0-8bc0-0aa797f4fc05\r\n",
      " RootId              | arn:aws:cloudformation:us-east-2:211125564141:stack/HyperpodClusterStack-ba60b/6be3a540-7fb3-11f0-8bc0-0aa797f4fc05\r\n",
      " DriftInformation    | {'StackDriftStatus': 'NOT_CHECKED'}\r\n",
      "\r\n",
      "[6] Stack Details:\r\n",
      " Field               | Value\r\n",
      "---------------------+------------------------------------------------------------------------------------------------------------------------------------------------\r\n",
      " StackId             | arn:aws:cloudformation:us-east-2:211125564141:stack/HyperpodClusterStack-ba60b-S3BucketStack-ZHUTTZ4KK505/6dd03300-7fb3-11f0-9b78-02b1dca75f6d\r\n",
      " StackName           | HyperpodClusterStack-ba60b-S3BucketStack-ZHUTTZ4KK505\r\n",
      " TemplateDescription | S3 Bucket Stack\r\n",
      " CreationTime        | 2025-08-22 23:55:06\r\n",
      " StackStatus         | CREATE_COMPLETE\r\n",
      " ParentId            | arn:aws:cloudformation:us-east-2:211125564141:stack/HyperpodClusterStack-ba60b/6be3a540-7fb3-11f0-8bc0-0aa797f4fc05\r\n",
      " RootId              | arn:aws:cloudformation:us-east-2:211125564141:stack/HyperpodClusterStack-ba60b/6be3a540-7fb3-11f0-8bc0-0aa797f4fc05\r\n",
      " DriftInformation    | {'StackDriftStatus': 'NOT_CHECKED'}\r\n",
      "\r\n",
      "[7] Stack Details:\r\n",
      " Field               | Value\r\n",
      "---------------------+-------------------------------------------------------------------------------------------------------------------------------------------\r\n",
      " StackId             | arn:aws:cloudformation:us-east-2:211125564141:stack/HyperpodClusterStack-ba60b-VPCStack-69L3DKIIHKVE/6dc0c9b0-7fb3-11f0-962c-022a90d98dd5\r\n",
      " StackName           | HyperpodClusterStack-ba60b-VPCStack-69L3DKIIHKVE\r\n",
      " TemplateDescription | VPC Stack\r\n",
      " CreationTime        | 2025-08-22 23:55:06\r\n",
      " StackStatus         | CREATE_COMPLETE\r\n",
      " ParentId            | arn:aws:cloudformation:us-east-2:211125564141:stack/HyperpodClusterStack-ba60b/6be3a540-7fb3-11f0-8bc0-0aa797f4fc05\r\n",
      " RootId              | arn:aws:cloudformation:us-east-2:211125564141:stack/HyperpodClusterStack-ba60b/6be3a540-7fb3-11f0-8bc0-0aa797f4fc05\r\n",
      " DriftInformation    | {'StackDriftStatus': 'NOT_CHECKED'}\r\n",
      "\r\n",
      "[8] Stack Details:\r\n",
      " Field               | Value\r\n",
      "---------------------+---------------------------------------------------------------------------------------------------------------------\r\n",
      " StackId             | arn:aws:cloudformation:us-east-2:211125564141:stack/HyperpodClusterStack-ba60b/6be3a540-7fb3-11f0-8bc0-0aa797f4fc05\r\n",
      " StackName           | HyperpodClusterStack-ba60b\r\n",
      " TemplateDescription | Main Stack for EKS based HyperPod Cluster\r\n",
      " CreationTime        | 2025-08-22 23:55:03\r\n",
      " StackStatus         | CREATE_IN_PROGRESS\r\n",
      " DriftInformation    | {'StackDriftStatus': 'NOT_CHECKED'}\r\n",
      "\r\n",
      "[9] Stack Details:\r\n",
      " Field            | Value\r\n",
      "------------------+-------------------------------------------------------------------------------------------------------------------------------------------------------\r\n",
      " StackId          | arn:aws:cloudformation:us-east-2:211125564141:stack/HyperpodClusterStack-4f830-HyperPodClusterStack-OAYLONSIUGI2/59815c30-7f95-11f0-ad1b-0a80552334d7\r\n",
      " StackName        | HyperpodClusterStack-4f830-HyperPodClusterStack-OAYLONSIUGI2\r\n",
      " CreationTime     | 2025-08-22 20:19:47\r\n",
      " DeletionTime     | 2025-08-22 23:56:57\r\n",
      " StackStatus      | DELETE_IN_PROGRESS\r\n",
      " ParentId         | arn:aws:cloudformation:us-east-2:211125564141:stack/HyperpodClusterStack-4f830/7dd3a320-7f92-11f0-849a-022d30099b05\r\n",
      " RootId           | arn:aws:cloudformation:us-east-2:211125564141:stack/HyperpodClusterStack-4f830/7dd3a320-7f92-11f0-849a-022d30099b05\r\n",
      " DriftInformation | {'StackDriftStatus': 'NOT_CHECKED'}\r\n",
      "\r\n",
      "[10] Stack Details:\r\n",
      " Field               | Value\r\n",
      "---------------------+------------------------------------------------------------------------------------------------------------------------------------------------------------\r\n",
      " StackId             | arn:aws:cloudformation:us-east-2:211125564141:stack/HyperpodClusterStack-4f830-HyperPodParamClusterStack-7IXDI6IK67EL/3d136020-7f95-11f0-a9e3-0245c83daae1\r\n",
      " StackName           | HyperpodClusterStack-4f830-HyperPodParamClusterStack-7IXDI6IK67EL\r\n",
      " TemplateDescription | HyperPod Cluster Stack\r\n",
      " CreationTime        | 2025-08-22 20:19:00\r\n",
      " StackStatus         | CREATE_COMPLETE\r\n",
      " ParentId            | arn:aws:cloudformation:us-east-2:211125564141:stack/HyperpodClusterStack-4f830/7dd3a320-7f92-11f0-849a-022d30099b05\r\n",
      " RootId              | arn:aws:cloudformation:us-east-2:211125564141:stack/HyperpodClusterStack-4f830/7dd3a320-7f92-11f0-849a-022d30099b05\r\n",
      " DriftInformation    | {'StackDriftStatus': 'NOT_CHECKED'}\r\n",
      "\r\n",
      "[11] Stack Details:\r\n",
      " Field               | Value\r\n",
      "---------------------+--------------------------------------------------------------------------------------------------------------------------------------------------------------------------------------------\r\n",
      " StackId             | arn:aws:cloudformation:us-east-2:211125564141:stack/eksctl-hyperpod-cli-demo-gokul-8b75-eks-addon-iamserviceaccount-kube-system-fsx-csi-controller-sa/e705a6c0-7f94-11f0-aa0e-024adb10a4ed\r\n",
      " StackName           | eksctl-hyperpod-cli-demo-gokul-8b75-eks-addon-iamserviceaccount-kube-system-fsx-csi-controller-sa\r\n",
      " TemplateDescription | IAM role for serviceaccount \"kube-system/fsx-csi-controller-sa\" [created and managed by eksctl]\r\n",
      " CreationTime        | 2025-08-22 20:16:35\r\n",
      " StackStatus         | CREATE_COMPLETE\r\n",
      " DriftInformation    | {'StackDriftStatus': 'NOT_CHECKED'}\r\n",
      "\r\n",
      "[12] Stack Details:\r\n",
      " Field               | Value\r\n",
      "---------------------+-------------------------------------------------------------------------------------------------------------------------------------------\r\n",
      " StackId             | arn:aws:cloudformation:us-east-2:211125564141:stack/HyperpodClusterStack-4f830-FsxStack-I2VGWPJGG1HO/bf1e5990-7f94-11f0-8f30-0204a5c74c51\r\n",
      " StackName           | HyperpodClusterStack-4f830-FsxStack-I2VGWPJGG1HO\r\n",
      " TemplateDescription | Fsx Stack\r\n",
      " CreationTime        | 2025-08-22 20:15:28\r\n",
      " StackStatus         | CREATE_COMPLETE\r\n",
      " ParentId            | arn:aws:cloudformation:us-east-2:211125564141:stack/HyperpodClusterStack-4f830/7dd3a320-7f92-11f0-849a-022d30099b05\r\n",
      " RootId              | arn:aws:cloudformation:us-east-2:211125564141:stack/HyperpodClusterStack-4f830/7dd3a320-7f92-11f0-849a-022d30099b05\r\n",
      " DriftInformation    | {'StackDriftStatus': 'NOT_CHECKED'}\r\n",
      "\r\n",
      "[13] Stack Details:\r\n",
      " Field               | Value\r\n",
      "---------------------+---------------------------------------------------------------------------------------------------------------------------------------------------------\r\n",
      " StackId             | arn:aws:cloudformation:us-east-2:211125564141:stack/HyperpodClusterStack-4f830-SageMakerIAMRoleStack-1K5ICCHSDF85T/6edadd50-7f94-11f0-b247-020fdc56222b\r\n",
      " StackName           | HyperpodClusterStack-4f830-SageMakerIAMRoleStack-1K5ICCHSDF85T\r\n",
      " TemplateDescription | SageMaker IAM Role Stack\r\n",
      " CreationTime        | 2025-08-22 20:13:14\r\n",
      " StackStatus         | CREATE_COMPLETE\r\n",
      " ParentId            | arn:aws:cloudformation:us-east-2:211125564141:stack/HyperpodClusterStack-4f830/7dd3a320-7f92-11f0-849a-022d30099b05\r\n",
      " RootId              | arn:aws:cloudformation:us-east-2:211125564141:stack/HyperpodClusterStack-4f830/7dd3a320-7f92-11f0-849a-022d30099b05\r\n",
      " DriftInformation    | {'StackDriftStatus': 'NOT_CHECKED'}\r\n",
      "\r\n",
      "[14] Stack Details:\r\n",
      " Field               | Value\r\n",
      "---------------------+--------------------------------------------------------------------------------------------------------------------------------------------------\r\n",
      " StackId             | arn:aws:cloudformation:us-east-2:211125564141:stack/HyperpodClusterStack-4f830-HelmChartStack-1NGHHYR9BZP9P/6ec24c40-7f94-11f0-94d3-06f606547bc7\r\n",
      " StackName           | HyperpodClusterStack-4f830-HelmChartStack-1NGHHYR9BZP9P\r\n",
      " TemplateDescription | Helm Chart Stack\r\n",
      " CreationTime        | 2025-08-22 20:13:13\r\n",
      " StackStatus         | CREATE_COMPLETE\r\n",
      " ParentId            | arn:aws:cloudformation:us-east-2:211125564141:stack/HyperpodClusterStack-4f830/7dd3a320-7f92-11f0-849a-022d30099b05\r\n",
      " RootId              | arn:aws:cloudformation:us-east-2:211125564141:stack/HyperpodClusterStack-4f830/7dd3a320-7f92-11f0-849a-022d30099b05\r\n",
      " DriftInformation    | {'StackDriftStatus': 'NOT_CHECKED'}\r\n",
      "\r\n",
      "[15] Stack Details:\r\n",
      " Field               | Value\r\n",
      "---------------------+---------------------------------------------------------------------------------------------------------------------------------------------------\r\n",
      " StackId             | arn:aws:cloudformation:us-east-2:211125564141:stack/HyperpodClusterStack-4f830-EKSClusterStack-1J1DKJ23S8R0I/f521ef40-7f92-11f0-8205-06546539f52f\r\n",
      " StackName           | HyperpodClusterStack-4f830-EKSClusterStack-1J1DKJ23S8R0I\r\n",
      " TemplateDescription | EKS Cluster Stack\r\n",
      " CreationTime        | 2025-08-22 20:02:40\r\n",
      " StackStatus         | CREATE_COMPLETE\r\n",
      " ParentId            | arn:aws:cloudformation:us-east-2:211125564141:stack/HyperpodClusterStack-4f830/7dd3a320-7f92-11f0-849a-022d30099b05\r\n",
      " RootId              | arn:aws:cloudformation:us-east-2:211125564141:stack/HyperpodClusterStack-4f830/7dd3a320-7f92-11f0-849a-022d30099b05\r\n",
      " DriftInformation    | {'StackDriftStatus': 'NOT_CHECKED'}\r\n",
      "\r\n",
      "[16] Stack Details:\r\n",
      " Field               | Value\r\n",
      "---------------------+------------------------------------------------------------------------------------------------------------------------------------------------------\r\n",
      " StackId             | arn:aws:cloudformation:us-east-2:211125564141:stack/HyperpodClusterStack-4f830-PrivateSubnetStack-1T0ZLLZW1G0I6/e0812c40-7f92-11f0-a801-060528005977\r\n",
      " StackName           | HyperpodClusterStack-4f830-PrivateSubnetStack-1T0ZLLZW1G0I6\r\n",
      " TemplateDescription | Private Subnet Stack\r\n",
      " CreationTime        | 2025-08-22 20:02:05\r\n",
      " StackStatus         | CREATE_COMPLETE\r\n",
      " ParentId            | arn:aws:cloudformation:us-east-2:211125564141:stack/HyperpodClusterStack-4f830/7dd3a320-7f92-11f0-849a-022d30099b05\r\n",
      " RootId              | arn:aws:cloudformation:us-east-2:211125564141:stack/HyperpodClusterStack-4f830/7dd3a320-7f92-11f0-849a-022d30099b05\r\n",
      " DriftInformation    | {'StackDriftStatus': 'NOT_CHECKED'}\r\n",
      "\r\n",
      "[17] Stack Details:\r\n",
      " Field               | Value\r\n",
      "---------------------+-----------------------------------------------------------------------------------------------------------------------------------------------------\r\n",
      " StackId             | arn:aws:cloudformation:us-east-2:211125564141:stack/HyperpodClusterStack-4f830-SecurityGroupStack-QXICJD8K7X2R/e06d0800-7f92-11f0-a7ce-06cce35ead41\r\n",
      " StackName           | HyperpodClusterStack-4f830-SecurityGroupStack-QXICJD8K7X2R\r\n",
      " TemplateDescription | Security Group Stack\r\n",
      " CreationTime        | 2025-08-22 20:02:05\r\n",
      " StackStatus         | CREATE_COMPLETE\r\n",
      " ParentId            | arn:aws:cloudformation:us-east-2:211125564141:stack/HyperpodClusterStack-4f830/7dd3a320-7f92-11f0-849a-022d30099b05\r\n",
      " RootId              | arn:aws:cloudformation:us-east-2:211125564141:stack/HyperpodClusterStack-4f830/7dd3a320-7f92-11f0-849a-022d30099b05\r\n",
      " DriftInformation    | {'StackDriftStatus': 'NOT_CHECKED'}\r\n",
      "\r\n",
      "[18] Stack Details:\r\n",
      " Field               | Value\r\n",
      "---------------------+------------------------------------------------------------------------------------------------------------------------------------------------\r\n",
      " StackId             | arn:aws:cloudformation:us-east-2:211125564141:stack/HyperpodClusterStack-4f830-S3BucketStack-7HBRU8MRBHL0/821f0870-7f92-11f0-abac-027140366217\r\n",
      " StackName           | HyperpodClusterStack-4f830-S3BucketStack-7HBRU8MRBHL0\r\n",
      " TemplateDescription | S3 Bucket Stack\r\n",
      " CreationTime        | 2025-08-22 19:59:27\r\n",
      " StackStatus         | CREATE_COMPLETE\r\n",
      " ParentId            | arn:aws:cloudformation:us-east-2:211125564141:stack/HyperpodClusterStack-4f830/7dd3a320-7f92-11f0-849a-022d30099b05\r\n",
      " RootId              | arn:aws:cloudformation:us-east-2:211125564141:stack/HyperpodClusterStack-4f830/7dd3a320-7f92-11f0-849a-022d30099b05\r\n",
      " DriftInformation    | {'StackDriftStatus': 'NOT_CHECKED'}\r\n",
      "\r\n",
      "[19] Stack Details:\r\n",
      " Field               | Value\r\n",
      "---------------------+--------------------------------------------------------------------------------------------------------------------------------------------\r\n",
      " StackId             | arn:aws:cloudformation:us-east-2:211125564141:stack/HyperpodClusterStack-4f830-VPCStack-160B1414TTNGI/8215e0b0-7f92-11f0-97eb-0a9b7449e121\r\n",
      " StackName           | HyperpodClusterStack-4f830-VPCStack-160B1414TTNGI\r\n",
      " TemplateDescription | VPC Stack\r\n",
      " CreationTime        | 2025-08-22 19:59:27\r\n",
      " StackStatus         | CREATE_COMPLETE\r\n",
      " ParentId            | arn:aws:cloudformation:us-east-2:211125564141:stack/HyperpodClusterStack-4f830/7dd3a320-7f92-11f0-849a-022d30099b05\r\n",
      " RootId              | arn:aws:cloudformation:us-east-2:211125564141:stack/HyperpodClusterStack-4f830/7dd3a320-7f92-11f0-849a-022d30099b05\r\n",
      " DriftInformation    | {'StackDriftStatus': 'NOT_CHECKED'}\r\n",
      "\r\n",
      "[20] Stack Details:\r\n",
      " Field               | Value\r\n",
      "---------------------+---------------------------------------------------------------------------------------------------------------------\r\n",
      " StackId             | arn:aws:cloudformation:us-east-2:211125564141:stack/HyperpodClusterStack-4f830/7dd3a320-7f92-11f0-849a-022d30099b05\r\n",
      " StackName           | HyperpodClusterStack-4f830\r\n",
      " TemplateDescription | Main Stack for EKS based HyperPod Cluster\r\n",
      " CreationTime        | 2025-08-22 19:59:20\r\n",
      " DeletionTime        | 2025-08-22 23:56:54\r\n",
      " StackStatus         | DELETE_IN_PROGRESS\r\n",
      " DriftInformation    | {'StackDriftStatus': 'NOT_CHECKED'}\r\n"
     ]
    }
   ],
   "execution_count": 8
  },
  {
   "cell_type": "markdown",
   "metadata": {},
   "source": [
    "## Step 9: Update Cluster Configuration\n",
    "\n",
    "The `hyp update cluster` command allows you to modify your existing cluster configuration. You can add or remove instance groups, update tags, or modify other cluster settings.\n",
    "\n",
    "**Common update scenarios:**\n",
    "- Scaling instance groups up or down\n",
    "- Adding new instance types\n",
    "- Updating cluster tags\n",
    "- Modifying storage configurations\n",
    "\n",
    "**Note:** Some changes may require cluster restart or recreation.\n"
   ]
  },
  {
   "cell_type": "code",
   "execution_count": null,
   "metadata": {},
   "outputs": [],
   "source": [
    "# Update cluster configuration (example: adding more tags)\n",
    "# Uncomment and modify as needed\n",
    "# !hyp update cluster --add-tags '[{\"Key\": \"UpdatedBy\", \"Value\": \"NotebookExample\"}]'\n",
    "\n",
    "print(\"Update command available for cluster modifications\")"
   ]
  },
  {
   "cell_type": "markdown",
   "metadata": {},
   "source": [
    "## Step 10: Verify Cluster Connectivity\n",
    "\n",
    "Once your cluster is created, verify that you can connect to it and that all components are functioning properly.\n"
   ]
  },
  {
   "cell_type": "code",
   "execution_count": null,
   "metadata": {},
   "outputs": [],
   "source": [
    "# Set cluster context for kubectl operations\n",
    "# Replace 'your-cluster-name' with your actual cluster name\n",
    "# !hyp set-cluster-context --cluster-name your-cluster-name\n",
    "\n",
    "# Get cluster context information\n",
    "# !hyp get-cluster-context\n",
    "\n",
    "print(\"Cluster connectivity commands available after deployment\")"
   ]
  },
  {
   "cell_type": "markdown",
   "metadata": {},
   "source": [
    "## Next Steps\n",
    "\n",
    "After successfully creating your HyperPod cluster, you can:\n",
    "\n",
    "1. **Submit Training Jobs**: Use `hyp create hyp-pytorch-job` to run distributed training\n",
    "2. **Deploy Inference Endpoints**: Use `hyp create hyp-jumpstart-endpoint` for model serving\n",
    "3. **Monitor Resources**: Check pod status with `hyp list-pods`\n",
    "4. **Access Logs**: View training logs with `hyp get-logs`\n",
    "5. **Scale Cluster**: Add or remove instance groups as needed\n",
    "\n",
    "## Troubleshooting\n",
    "\n",
    "If you encounter issues during cluster creation:\n",
    "\n",
    "- Check AWS CloudFormation console for detailed error messages\n",
    "- Verify AWS credentials and permissions\n",
    "- Ensure resource quotas are sufficient\n",
    "- Review the configuration file for syntax errors\n",
    "- Use `hyp validate` to identify configuration issues\n",
    "\n",
    "## Cleanup\n",
    "\n",
    "To avoid ongoing charges, remember to delete your cluster when no longer needed:\n",
    "\n",
    "```bash\n",
    "hyp delete cluster-stack --stack-name your-stack-name\n",
    "```\n"
   ]
  },
  {
   "cell_type": "markdown",
   "metadata": {},
   "source": [
    "## Summary\n",
    "\n",
    "This notebook demonstrated the complete HyperPod cluster creation workflow:\n",
    "\n",
    "✅ **Initialized** cluster configuration with `hyp init cluster-stack`  \n",
    "✅ **Configured** cluster settings and tags with `hyp configure`  \n",
    "✅ **Validated** configuration with `hyp validate`  \n",
    "✅ **Created** cluster infrastructure with `hyp create`  \n",
    "✅ **Monitored** deployment with `hyp describe cluster-stack`  \n",
    "✅ **Listed** all clusters with `hyp list cluster-stack`  \n",
    "✅ **Updated** cluster configuration with `hyp update cluster`  \n",
    "\n",
    "Your HyperPod cluster is now ready for distributed machine learning workloads!\n"
   ]
  }
 ],
 "metadata": {
  "kernelspec": {
   "display_name": "Python 3",
   "language": "python",
   "name": "python3"
  },
  "language_info": {
   "codemirror_mode": {
    "name": "ipython",
    "version": 3
   },
   "file_extension": ".py",
   "mimetype": "text/x-python",
   "name": "python",
   "nbconvert_exporter": "python",
   "pygments_lexer": "ipython3",
   "version": "3.8.0"
  }
 },
 "nbformat": 4,
 "nbformat_minor": 4
}
