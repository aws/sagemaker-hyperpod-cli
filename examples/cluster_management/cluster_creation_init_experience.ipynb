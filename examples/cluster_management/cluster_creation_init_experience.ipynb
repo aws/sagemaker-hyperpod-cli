{
 "cells": [
  {
   "cell_type": "markdown",
   "metadata": {},
   "source": [
    "# SageMaker HyperPod Cluster Creation - Init Experience\n",
    "\n",
    "This notebook demonstrates the complete end-to-end workflow for creating a SageMaker HyperPod cluster using the HyperPod CLI. The init experience provides a guided approach to cluster creation with validation and configuration management.\n",
    "\n",
    "## Prerequisites\n",
    "\n",
    "- AWS CLI configured with appropriate permissions\n",
    "- SageMaker HyperPod CLI installed (`pip install sagemaker-hyperpod`)\n",
    "- Helm installed (required for cluster operations)\n",
    "- Python 3.8+ environment\n",
    "\n",
    "## Workflow Overview\n",
    "\n",
    "1. **Initialize** - Create initial cluster configuration\n",
    "2. **Configure** - Customize cluster settings and tags\n",
    "3. **Validate** - Verify configuration before deployment\n",
    "4. **Create** - Deploy the cluster infrastructure\n",
    "5. **Monitor** - Check cluster status and manage lifecycle\n"
   ]
  },
  {
   "cell_type": "markdown",
   "metadata": {},
   "source": [
    "## Step 1: Initialize Cluster Configuration\n",
    "\n",
    "The `hyp init cluster-stack` command creates a new cluster configuration template with default settings. This generates a `config.yaml` file that serves as the foundation for your cluster deployment.\n",
    "\n",
    "**What this does:**\n",
    "- Creates a new `config.yaml` with default cluster settings\n",
    "- Sets up basic infrastructure components (VPC, EKS, S3, etc.)\n",
    "- Generates unique resource names to avoid conflicts\n"
   ]
  },
  {
   "cell_type": "code",
   "metadata": {},
   "source": [
    "# Initialize a new cluster stack configuration\n",
    "!hyp init cluster-stack"
   ],
   "outputs": [],
   "execution_count": null
  },
  {
   "cell_type": "markdown",
   "metadata": {},
   "source": [
    "## Step 2: Configure Cluster Settings\n",
    "\n",
    "The `hyp configure` command allows you to customize your cluster configuration. You can add tags for resource management, modify instance types, adjust networking settings, and more.\n",
    "\n",
    "**Key configuration options:**\n",
    "- **Tags**: For resource organization and cost tracking\n",
    "- **Instance Groups**: Define compute resources and their specifications\n",
    "- **Networking**: VPC, subnets, and security group settings\n",
    "- **Storage**: FSx and EBS volume configurations\n"
   ]
  },
  {
   "cell_type": "code",
   "metadata": {},
   "source": [
    "# Configure cluster with custom tags for resource management\n",
    "# Tags help with cost tracking, resource organization, and compliance\n",
    "!hyp configure --tags '[{\"Key\": \"Environment\", \"Value\": \"Development\"}, {\"Key\": \"Project\", \"Value\": \"MLTraining\"}, {\"Key\": \"Owner\", \"Value\": \"DataScienceTeam\"}, {\"Key\": \"CostCenter\", \"Value\": \"ML-Research\"}]'"
   ],
   "outputs": [],
   "execution_count": null
  },
  {
   "cell_type": "markdown",
   "metadata": {},
   "source": [
    "### View Current Configuration\n",
    "\n",
    "Let's examine the generated configuration to understand what will be deployed:"
   ]
  },
  {
   "cell_type": "code",
   "metadata": {},
   "source": [
    "# Display the current configuration\n",
    "!cat config.yaml | head -50"
   ],
   "outputs": [],
   "execution_count": null
  },
  {
   "cell_type": "markdown",
   "metadata": {},
   "source": [
    "## Step 3: Validate Configuration\n",
    "\n",
    "The `hyp validate` command performs comprehensive validation of your cluster configuration before deployment. This helps catch configuration errors early and ensures all prerequisites are met.\n",
    "\n",
    "**Validation checks include:**\n",
    "- AWS credentials and permissions\n",
    "- Resource quotas and limits\n",
    "- Configuration syntax and values\n",
    "- Network and security settings\n",
    "- Instance type availability in target regions\n"
   ]
  },
  {
   "cell_type": "code",
   "metadata": {},
   "source": [
    "# Validate the cluster configuration\n",
    "# This checks for potential issues before deployment\n",
    "!hyp validate"
   ],
   "outputs": [],
   "execution_count": null
  },
  {
   "cell_type": "markdown",
   "metadata": {},
   "source": [
    "## Step 4: Reset Configuration (Optional)\n",
    "\n",
    "The `hyp reset` command allows you to reset your configuration to defaults or clean up any partial deployments. This is useful when you want to start fresh or if validation reveals issues that require a clean slate.\n",
    "\n",
    "**Use cases for reset:**\n",
    "- Starting over with a clean configuration\n",
    "- Cleaning up after failed deployments\n",
    "- Switching between different cluster configurations\n"
   ]
  },
  {
   "cell_type": "code",
   "metadata": {},
   "source": [
    "# Reset configuration if needed (uncomment to use)\n",
    "# !hyp reset\n",
    "\n",
    "print(\"Reset command available if configuration changes are needed\")"
   ],
   "outputs": [],
   "execution_count": null
  },
  {
   "cell_type": "markdown",
   "metadata": {},
   "source": [
    "## Step 5: Create the Cluster\n",
    "\n",
    "The `hyp create` command deploys your HyperPod cluster infrastructure. This process creates all the necessary AWS resources including VPC, EKS cluster, IAM roles, S3 buckets, and the HyperPod cluster itself.\n",
    "\n",
    "**Deployment includes:**\n",
    "- VPC and networking infrastructure\n",
    "- EKS cluster with managed node groups\n",
    "- SageMaker HyperPod cluster\n",
    "- IAM roles and policies\n",
    "- S3 buckets for artifacts\n",
    "- FSx file system (if configured)\n",
    "\n",
    "**Note:** This process typically takes 15-30 minutes to complete.\n"
   ]
  },
  {
   "cell_type": "code",
   "metadata": {},
   "source": [
    "# Create the HyperPod cluster\n",
    "# This will deploy all infrastructure components\n",
    "!hyp create"
   ],
   "outputs": [],
   "execution_count": null
  },
  {
   "cell_type": "markdown",
   "metadata": {},
   "source": [
    "## Step 6: Monitor Cluster Creation\n",
    "\n",
    "While the cluster is being created, you can monitor its progress using the describe and list commands. These provide real-time status updates on the deployment process.\n"
   ]
  },
  {
   "cell_type": "code",
   "metadata": {},
   "source": [
    "# Check cluster creation status\n",
    "import time\n",
    "\n",
    "print(\"Monitoring cluster creation progress...\")\n",
    "for i in range(5):\n",
    "    print(f\"\\n--- Status Check {i+1} ---\")\n",
    "    !hyp describe cluster-stack <STACK_NAME>\n",
    "    time.sleep(30)  # Wait 30 seconds between checks"
   ],
   "outputs": [],
   "execution_count": null
  },
  {
   "cell_type": "markdown",
   "metadata": {},
   "source": [
    "## Step 7: Describe Cluster Stack\n",
    "\n",
    "The `hyp describe cluster-stack` command provides detailed information about your deployed cluster, including resource IDs, endpoints, and current status.\n",
    "\n",
    "**Information provided:**\n",
    "- Cluster status and health\n",
    "- Resource ARNs and IDs\n",
    "- Network configuration details\n",
    "- Instance group information\n",
    "- Storage configuration\n"
   ]
  },
  {
   "cell_type": "code",
   "metadata": {},
   "source": [
    "# Get detailed information about the cluster stack\n",
    "!hyp describe cluster-stack  <STACK_NAME>"
   ],
   "outputs": [],
   "execution_count": null
  },
  {
   "cell_type": "markdown",
   "metadata": {},
   "source": [
    "## Step 8: List All Cluster Stacks\n",
    "\n",
    "The `hyp list cluster-stack` command shows all HyperPod cluster stacks in your account. This is useful for managing multiple clusters and getting an overview of your infrastructure.\n",
    "\n",
    "**Displays:**\n",
    "- All cluster stacks in the current region\n",
    "- Stack names and creation timestamps\n",
    "- Current status of each stack\n",
    "- Resource counts and types\n"
   ]
  },
  {
   "cell_type": "code",
   "metadata": {},
   "source": [
    "# List all cluster stacks in your account\n",
    "!hyp list cluster-stack"
   ],
   "outputs": [],
   "execution_count": null
  },
  {
   "cell_type": "markdown",
   "metadata": {},
   "source": [
    "## Step 9: Update Cluster Configuration\n",
    "\n",
    "The `hyp update cluster` command allows you to modify your existing cluster configuration. You can add or remove instance groups, update tags, or modify other cluster settings.\n",
    "\n",
    "**Common update scenarios:**\n",
    "- Scaling instance groups up or down\n",
    "- Adding new instance types\n",
    "- Updating cluster tags\n",
    "- Modifying storage configurations\n",
    "\n",
    "**Note:** Some changes may require cluster restart or recreation.\n"
   ]
  },
  {
   "cell_type": "code",
   "metadata": {},
   "source": [
    "# Update cluster configuration (example: adding more tags)\n",
    "# Uncomment and modify as needed\n",
    "# !hyp update cluster --add-tags '[{\"Key\": \"UpdatedBy\", \"Value\": \"NotebookExample\"}]'\n",
    "\n",
    "print(\"Update command available for cluster modifications\")"
   ],
   "outputs": [],
   "execution_count": null
  },
  {
   "cell_type": "markdown",
   "metadata": {},
   "source": [
    "## Step 10: Verify Cluster Connectivity\n",
    "\n",
    "Once your cluster is created, verify that you can connect to it and that all components are functioning properly.\n"
   ]
  },
  {
   "cell_type": "code",
   "metadata": {},
   "source": [
    "# Set cluster context for kubectl operations\n",
    "# Replace 'your-cluster-name' with your actual cluster name\n",
    "# !hyp set-cluster-context --cluster-name your-cluster-name\n",
    "\n",
    "# Get cluster context information\n",
    "# !hyp get-cluster-context\n",
    "\n",
    "print(\"Cluster connectivity commands available after deployment\")"
   ],
   "outputs": [],
   "execution_count": null
  },
  {
   "cell_type": "markdown",
   "metadata": {},
   "source": [
    "## Next Steps\n",
    "\n",
    "After successfully creating your HyperPod cluster, you can:\n",
    "\n",
    "1. **Submit Training Jobs**: Use `hyp create hyp-pytorch-job` to run distributed training\n",
    "2. **Deploy Inference Endpoints**: Use `hyp create hyp-jumpstart-endpoint` for model serving\n",
    "3. **Monitor Resources**: Check pod status with `hyp list-pods`\n",
    "4. **Access Logs**: View training logs with `hyp get-logs`\n",
    "5. **Scale Cluster**: Add or remove instance groups as needed\n",
    "\n",
    "## Troubleshooting\n",
    "\n",
    "If you encounter issues during cluster creation:\n",
    "\n",
    "- Check AWS CloudFormation console for detailed error messages\n",
    "- Verify AWS credentials and permissions\n",
    "- Ensure resource quotas are sufficient\n",
    "- Review the configuration file for syntax errors\n",
    "- Use `hyp validate` to identify configuration issues\n",
    "\n",
    "## Cleanup\n",
    "\n",
    "To avoid ongoing charges, remember to delete your cluster when no longer needed:\n",
    "\n",
    "```bash\n",
    "hyp delete cluster-stack --stack-name your-stack-name\n",
    "```\n"
   ]
  },
  {
   "cell_type": "markdown",
   "metadata": {},
   "source": [
    "## Summary\n",
    "\n",
    "This notebook demonstrated the complete HyperPod cluster creation workflow:\n",
    "\n",
    "✅ **Initialized** cluster configuration with `hyp init cluster-stack`  \n",
    "✅ **Configured** cluster settings and tags with `hyp configure`  \n",
    "✅ **Validated** configuration with `hyp validate`  \n",
    "✅ **Created** cluster infrastructure with `hyp create`  \n",
    "✅ **Monitored** deployment with `hyp describe cluster-stack`  \n",
    "✅ **Listed** all clusters with `hyp list cluster-stack`  \n",
    "✅ **Updated** cluster configuration with `hyp update cluster`  \n",
    "\n",
    "Your HyperPod cluster is now ready for distributed machine learning workloads!\n"
   ]
  }
 ],
 "metadata": {
  "kernelspec": {
   "display_name": "Python 3",
   "language": "python",
   "name": "python3"
  },
  "language_info": {
   "codemirror_mode": {
    "name": "ipython",
    "version": 3
   },
   "file_extension": ".py",
   "mimetype": "text/x-python",
   "name": "python",
   "nbconvert_exporter": "python",
   "pygments_lexer": "ipython3",
   "version": "3.8.0"
  }
 },
 "nbformat": 4,
 "nbformat_minor": 4
}
