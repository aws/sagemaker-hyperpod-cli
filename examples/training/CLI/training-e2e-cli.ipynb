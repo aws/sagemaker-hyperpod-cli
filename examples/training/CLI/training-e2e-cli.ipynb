{
 "cells": [
  {
   "cell_type": "markdown",
   "id": "2d275612",
   "metadata": {},
   "source": [
    "## Training Operator CLI E2E Experience "
   ]
  },
  {
   "cell_type": "markdown",
   "id": "f70ed187",
   "metadata": {},
   "source": [
    "Make sure you have installed pacakges:\n",
    "- sagemaker-hyperpod\n",
    "- hyperpod-pytorchjob-config-schemas"
   ]
  },
  {
   "cell_type": "code",
   "execution_count": null,
   "id": "9df747dbfa211453",
   "metadata": {},
   "outputs": [],
   "source": [
    "!hyp list-cluster --output table"
   ]
  },
  {
   "cell_type": "code",
   "execution_count": null,
   "id": "8db986d2b42a9e88",
   "metadata": {},
   "outputs": [],
   "source": [
    "!hyp set-cluster-context --cluster-name <cluster-name>"
   ]
  },
  {
   "cell_type": "code",
   "execution_count": null,
   "id": "ba996d7dc8e128d5",
   "metadata": {},
   "outputs": [],
   "source": [
    "#verify the cluster context\n",
    "!hyp get-cluster-context "
   ]
  },
  {
   "cell_type": "code",
   "execution_count": null,
   "id": "a541575e45e68b3d",
   "metadata": {
    "jupyter": {
     "is_executing": true
    }
   },
   "outputs": [],
   "source": [
    "# To verify the opinionated list of arguments\n",
    "!hyp create hyp-pytorch-job --help"
   ]
  },
  {
   "cell_type": "code",
   "execution_count": null,
   "id": "4061a65b",
   "metadata": {},
   "outputs": [],
   "source": [
    "#example command\n",
    "!hyp create hyp-pytorch-job \\\n",
    "  --version 1.0 \\\n",
    "  --job-name test-pytorch-job-cli \\\n",
    "  --image 448049793756.dkr.ecr.us-west-2.amazonaws.com/ptjob:mnist \\\n",
    "  --pull-policy \"Always\" \\\n",
    "  --tasks-per-node 1 \\\n",
    "  --max-retry 1\n"
   ]
  },
  {
   "cell_type": "code",
   "execution_count": null,
   "id": "98d444d4",
   "metadata": {},
   "outputs": [],
   "source": [
    "# get the job name from the list\n",
    "# The given name in create will be appended with uuid\n",
    "!hyp list hyp-pytorch-job \n"
   ]
  },
  {
   "cell_type": "code",
   "execution_count": null,
   "id": "19c32fa0",
   "metadata": {},
   "outputs": [],
   "source": [
    "!hyp describe hyp-pytorch-job --job-name test-pytorch-job-cli"
   ]
  },
  {
   "cell_type": "code",
   "execution_count": null,
   "id": "7d90c1ab",
   "metadata": {},
   "outputs": [],
   "source": [
    "!hyp get-operator-logs hyp-pytorch-job --since-hours 0.5"
   ]
  },
  {
   "cell_type": "code",
   "execution_count": null,
   "id": "dca0cb1f",
   "metadata": {},
   "outputs": [],
   "source": [
    "!hyp list-pods hyp-pytorch-job --job-name test-pytorch-job-cli"
   ]
  },
  {
   "cell_type": "code",
   "execution_count": null,
   "id": "64ae67bf",
   "metadata": {},
   "outputs": [],
   "source": [
    "!hyp get-logs hyp-pytorch-job --pod-name test-pytorch-job-cli-pod-0 --job-name test-pytorch-job-cli"
   ]
  },
  {
   "cell_type": "code",
   "execution_count": null,
   "id": "fcf2161f",
   "metadata": {},
   "outputs": [],
   "source": [
    "!hyp delete hyp-pytorch-job --job-name test-pytorch-job-cli\n"
   ]
  }
 ],
 "metadata": {
  "kernelspec": {
   "display_name": "Python 3",
   "language": "python",
   "name": "python3"
  },
  "language_info": {
   "codemirror_mode": {
    "name": "ipython",
    "version": 3
   },
   "file_extension": ".py",
   "mimetype": "text/x-python",
   "name": "python",
   "nbconvert_exporter": "python",
   "pygments_lexer": "ipython3",
   "version": "3.12.2"
  }
 },
 "nbformat": 4,
 "nbformat_minor": 5
}
