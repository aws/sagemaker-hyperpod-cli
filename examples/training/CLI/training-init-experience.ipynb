{
 "cells": [
  {
   "cell_type": "markdown",
   "metadata": {},
   "source": [
    "# SageMaker HyperPod Pytorch Job - Init Experience\n",
    "\n",
    "This notebook demonstrates the complete end-to-end workflow for creating a SageMaker HyperPod Pytorch Job using the HyperPod CLI. The init experience provides a guided approach to create Hyperpod Pytorch Job with validation and configuration management.\n",
    "\n",
    "## Prerequisites\n",
    "\n",
    "- SageMaker HyperPod CLI installed (`pip install sagemaker-hyperpod`)\n",
    "- Hyperpod pytorch job template installed (`pip install hyperpod-pytorch-job-template`)\n",
    "- Hyperpod training operator installed in your hyperpod cluster\n",
    "- Python 3.8+ environment\n",
    "\n",
    "## Workflow Overview\n",
    "\n",
    "1. **Initialize** - Create initial pytorch job configuration\n",
    "2. **Configure** - Customize pytorch job parameters\n",
    "3. **Validate** - Verify configuration before deployment\n",
    "4. **Create** - Deploy the pytorch job creation\n",
    "5. **Monitor** - Check pytorch job status and manage lifecycle\n"
   ]
  },
  {
   "cell_type": "markdown",
   "metadata": {},
   "source": [
    "## Step 0: Connect to your Hyperpod cluster\n",
    "\n",
    "Make sure you have installed hyperpod training operator in your hyperpod cluster.\n"
   ]
  },
  {
   "cell_type": "code",
   "execution_count": null,
   "metadata": {},
   "outputs": [],
   "source": [
    "# List all available SageMaker HyperPod clusters in your account\n",
    "!hyp list-cluster"
   ]
  },
  {
   "cell_type": "code",
   "execution_count": null,
   "metadata": {},
   "outputs": [],
   "source": [
    "# Configure your local kubectl environment to interact with a specific SageMaker HyperPod cluster (and namespace)\n",
    "!hyp set-cluster-context --cluster-name ml-cluster-integ-test"
   ]
  },
  {
   "cell_type": "markdown",
   "metadata": {},
   "source": [
    "## Step 1: Initialize Pytorch Job Configuration\n",
    "\n",
    "The `hyp init hyp-pytorch-job` command creates a new configuration template with default settings. This generates a `config.yaml` file that serves as the foundation for your deployment.\n",
    "\n",
    "**What this does:**\n",
    "- Creates a `config.yaml` with default pytorch job settings.\n",
    "- Creates a `k8s.jinja` which is a reference to the k8s payload that is going to be submitted with. Users can refer this to understand how the parameters are being used. \n",
    "- Creates a `README.md` which is a detailed explanation of the init experience.\n"
   ]
  },
  {
   "cell_type": "code",
   "execution_count": null,
   "metadata": {},
   "outputs": [],
   "source": [
    "# Initialize a new pytorch job configuration in the current directory\n",
    "!hyp init hyp-pytorch-job"
   ]
  },
  {
   "cell_type": "markdown",
   "metadata": {},
   "source": [
    "## Step 2: Configure Pytorch Job Settings\n",
    "\n",
    "The `hyp configure` command allows you to customize your pytorch job configuration.\n",
    "\n",
    "**Key configuration options:**\n",
    "- **job_name**: Job name\n",
    "- **image**: Docker image for training"
   ]
  },
  {
   "cell_type": "code",
   "execution_count": null,
   "metadata": {},
   "outputs": [],
   "source": [
    "!hyp configure --job-name my-pytorch-job"
   ]
  },
  {
   "cell_type": "markdown",
   "metadata": {},
   "source": [
    "### View Current Configuration\n",
    "\n",
    "Let's examine the generated configuration to understand what will be deployed:"
   ]
  },
  {
   "cell_type": "code",
   "execution_count": null,
   "metadata": {},
   "outputs": [],
   "source": [
    "# Display the current configuration\n",
    "!cat config.yaml | head -50"
   ]
  },
  {
   "cell_type": "markdown",
   "metadata": {},
   "source": [
    "## Step 3: Validate Configuration\n",
    "\n",
    "The `hyp validate` command performs syntax validation of your pytorch job configuration before deployment. This helps catch configuration errors early and ensures all prerequisites are met.\n"
   ]
  },
  {
   "cell_type": "code",
   "execution_count": null,
   "metadata": {},
   "outputs": [],
   "source": [
    "# Validate the pytorch job configuration\n",
    "# This checks for potential issues before deployment\n",
    "!hyp validate"
   ]
  },
  {
   "cell_type": "markdown",
   "metadata": {},
   "source": [
    "## Step 4: Reset Configuration (Optional)\n",
    "\n",
    "The `hyp reset` command allows you to reset your configuration to defaults or clean up any partial deployments. This is useful when you want to start fresh or if validation reveals issues that require a clean slate.\n",
    "\n",
    "**Use cases for reset:**\n",
    "- Starting over with a clean configuration\n",
    "- Cleaning up after failed deployments\n",
    "- Switching between different pytorch job configurations\n"
   ]
  },
  {
   "cell_type": "code",
   "execution_count": null,
   "metadata": {},
   "outputs": [],
   "source": [
    "# Reset configuration if needed (uncomment to use)\n",
    "# !hyp reset\n",
    "\n",
    "print(\"Reset command available if configuration changes are needed\")"
   ]
  },
  {
   "cell_type": "markdown",
   "metadata": {},
   "source": [
    "## Step 5: Create the Pytorch Job\n",
    "\n",
    "The `hyp create` command deploys your HyperPod pytorch job with configurations in the config.yaml. A timestamped folder is created in the `runs` folder, where the config.yaml and the values-injected k8s.yaml kubernates payload is saved."
   ]
  },
  {
   "cell_type": "code",
   "execution_count": null,
   "metadata": {},
   "outputs": [],
   "source": [
    "# Create the pytorch job\n",
    "!hyp create"
   ]
  },
  {
   "cell_type": "markdown",
   "metadata": {},
   "source": [
    "## Step 6: Monitor Pytorch Job Creation\n",
    "\n",
    "While the pytorch job is being created, you can monitor its progress using the describe and list commands. These provide real-time status updates on the deployment process."
   ]
  },
  {
   "cell_type": "code",
   "execution_count": null,
   "metadata": {},
   "outputs": [],
   "source": [
    "# Check pytorch job creation status\n",
    "import time\n",
    "\n",
    "print(\"Monitoring pytorch job progress...\")\n",
    "for i in range(5):\n",
    "    print(f\"\\n--- Status Check {i+1} ---\")\n",
    "    !hyp describe hyp-pytorch-job --name my-pytorch-job\n",
    "    time.sleep(30)  # Wait 30 seconds between checks"
   ]
  },
  {
   "cell_type": "markdown",
   "metadata": {},
   "source": [
    "## Step 7: Describe Pytorch Job\n",
    "\n",
    "The `hyp describe hyp-pytorch-job` command provides detailed information about your pytorch job deployment status and sagemaker pytorch job status."
   ]
  },
  {
   "cell_type": "code",
   "execution_count": null,
   "metadata": {},
   "outputs": [],
   "source": [
    "# Get detailed information about the pytorch job\n",
    "!hyp describe hyp-pytorch-job  --name my-pytorch-job"
   ]
  },
  {
   "cell_type": "markdown",
   "metadata": {},
   "source": [
    "## Step 8: List All Pytorch Jobs\n",
    "\n",
    "The `hyp list hyp-pytorch-job` command shows all HyperPod pytorch jobs in your account. This is useful for managing multiple pytorch job deployments and getting an overview of your deployments.\n"
   ]
  },
  {
   "cell_type": "code",
   "execution_count": null,
   "metadata": {},
   "outputs": [],
   "source": [
    "# List all pytorch jobs in your account\n",
    "!hyp list hyp-pytorch-job"
   ]
  },
  {
   "cell_type": "markdown",
   "metadata": {},
   "source": [
    "## Next Steps\n",
    "\n",
    "After successfully creating your HyperPod Pytorch Job, you can:\n",
    "\n",
    "1. **Monitor Resources**: Check pod status with `hyp list-pods hyp-pytorch-job`\n",
    "2. **Access Logs**: View pod logs with `hyp get-logs hyp-pytorch-job`\n",
    "\n",
    "\n",
    "## Troubleshooting\n",
    "\n",
    "If you encounter issues during Pytorch Job creation:\n",
    "\n",
    "- Use `hyp get-operator-logs hyp-pytorch-job` to check potential operator log errors\n",
    "- Verify AWS credentials and permissions\n",
    "- Ensure resource quotas are sufficient\n",
    "- Review the configuration file for syntax errors\n",
    "- Use `hyp validate` to identify configuration issues\n",
    "\n",
    "## Cleanup\n",
    "\n",
    "To avoid ongoing charges, remember to delete your pytorch job when no longer needed:\n",
    "\n",
    "```bash\n",
    "hyp delete hyp-pytorch-job --name my-pytorch-job\n",
    "```\n"
   ]
  }
 ],
 "metadata": {
  "kernelspec": {
   "display_name": "Python 3",
   "language": "python",
   "name": "python3"
  },
  "language_info": {
   "codemirror_mode": {
    "name": "ipython",
    "version": 3
   },
   "file_extension": ".py",
   "mimetype": "text/x-python",
   "name": "python",
   "nbconvert_exporter": "python",
   "pygments_lexer": "ipython3",
   "version": "3.12.2"
  }
 },
 "nbformat": 4,
 "nbformat_minor": 4
}
