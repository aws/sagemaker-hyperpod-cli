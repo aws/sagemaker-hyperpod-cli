{
 "cells": [
  {
   "cell_type": "markdown",
   "id": "981c0ec9",
   "metadata": {},
   "source": [
    "## HyperPod Training SDK Experience"
   ]
  },
  {
   "cell_type": "code",
   "execution_count": null,
   "id": "e27c9058",
   "metadata": {},
   "outputs": [],
   "source": [
    "import sys\n",
    "import warnings\n",
    "\n",
    "warnings.filterwarnings(\"ignore\")\n",
    "sys.path.insert(0, '/Users/pintaoz/workspace/private-sagemaker-hyperpod-cli-staging/sagemaker-hyperpod/src/sagemaker')\n",
    "sys.path"
   ]
  },
  {
   "cell_type": "markdown",
   "id": "1de498b6",
   "metadata": {},
   "source": [
    "### Create a HyperPodTrainingJob with a full spec"
   ]
  },
  {
   "cell_type": "code",
   "execution_count": null,
   "id": "08dd30b7",
   "metadata": {},
   "outputs": [],
   "source": [
    "from sagemaker.hyperpod.training import (\n",
    "    HyperPodPytorchJob,\n",
    "    Containers,\n",
    "    ReplicaSpec,\n",
    "    Resources,\n",
    "    RunPolicy,\n",
    "    Spec,\n",
    "    Template,\n",
    ")\n",
    "from sagemaker.hyperpod.common.config import Metadata\n",
    "\n",
    "\n",
    "nproc_per_node=\"1\"\n",
    "replica_specs=[\n",
    "    ReplicaSpec(\n",
    "        name=\"pod\",\n",
    "        template=Template(\n",
    "            spec=Spec(\n",
    "                containers=[\n",
    "                    Containers(\n",
    "                        name=\"container-name\",\n",
    "                        image=\"448049793756.dkr.ecr.us-west-2.amazonaws.com/ptjob:mnist\",\n",
    "                        image_pull_policy=\"Always\",\n",
    "                        resources=Resources(\n",
    "                            requests={\"nvidia.com/gpu\": \"0\"},\n",
    "                            limits={\"nvidia.com/gpu\": \"0\"},\n",
    "                        ),\n",
    "                        # command=[]\n",
    "                    )\n",
    "                ]\n",
    "            )\n",
    "        ),\n",
    "    )\n",
    "]\n",
    "run_policy=RunPolicy(clean_pod_policy=\"None\")\n",
    "\n",
    "pytorch_job = HyperPodPytorchJob(\n",
    "    metadata=Metadata(name=\"demo\"),\n",
    "    nproc_per_node=\"1\",\n",
    "    replica_specs=replica_specs,\n",
    "    run_policy=run_policy,\n",
    ")\n",
    "pytorch_job.create()"
   ]
  },
  {
   "cell_type": "markdown",
   "id": "4a2bf38b",
   "metadata": {},
   "source": [
    "### Get the status of created jobs"
   ]
  },
  {
   "cell_type": "code",
   "execution_count": null,
   "id": "5f4981a0",
   "metadata": {},
   "outputs": [],
   "source": [
    "import yaml\n",
    "print(\"List all jobs:\")\n",
    "print(yaml.dump(HyperPodPytorchJob.list()))\n",
    "\n",
    "print(\"Refresh job demo and check the status:\")\n",
    "pytorch_job.refresh()\n",
    "print(yaml.dump(pytorch_job.status))"
   ]
  },
  {
   "cell_type": "markdown",
   "id": "f5005333",
   "metadata": {},
   "source": [
    "### Get model training logs from the pod"
   ]
  },
  {
   "cell_type": "code",
   "execution_count": null,
   "id": "663aff79",
   "metadata": {},
   "outputs": [],
   "source": [
    "print(\"List all pods created for this job:\")\n",
    "print(pytorch_job.list_pods())\n",
    "\n",
    "print(\"Check the logs from pod0:\")\n",
    "print(pytorch_job.get_logs_from_pod(\"demo-pod-0\"))"
   ]
  },
  {
   "cell_type": "markdown",
   "id": "3b0e4b5d",
   "metadata": {},
   "source": [
    "### Delete the job"
   ]
  },
  {
   "cell_type": "code",
   "execution_count": null,
   "id": "7acb1210",
   "metadata": {},
   "outputs": [],
   "source": [
    "pytorch_job.delete()"
   ]
  },
  {
   "cell_type": "markdown",
   "id": "06bd8d41",
   "metadata": {},
   "source": []
  }
 ],
 "metadata": {
  "kernelspec": {
   "display_name": "py3.10",
   "language": "python",
   "name": "python3"
  },
  "language_info": {
   "codemirror_mode": {
    "name": "ipython",
    "version": 3
   },
   "file_extension": ".py",
   "mimetype": "text/x-python",
   "name": "python",
   "nbconvert_exporter": "python",
   "pygments_lexer": "ipython3",
   "version": "3.10.14"
  }
 },
 "nbformat": 4,
 "nbformat_minor": 5
}
