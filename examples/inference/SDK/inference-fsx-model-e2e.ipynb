{
 "cells": [
  {
   "cell_type": "code",
   "execution_count": 1,
   "id": "f8caf125-ab9d-4655-a59e-edbaeed9e919",
   "metadata": {},
   "outputs": [
    {
     "name": "stdout",
     "output_type": "stream",
     "text": [
      "Orchestrator    Cluster Name\n",
      "--------------  ----------------------------\n",
      "EKS             hp-cluster-for-inf-Beta2try1\n",
      "Updated context arn:aws:eks:us-east-2:637423555983:cluster/EKSClusterForInf-Beta2try1 in /tmp/kubeconfig\n",
      "Successfully set current cluster as: hp-cluster-for-inf-Beta2try1\n"
     ]
    }
   ],
   "source": [
    "from sagemaker.hyperpod.hyperpod_manager import HyperPodManager\n",
    "\n",
    "HyperPodManager.list_clusters(region='us-east-2')\n",
    "HyperPodManager.set_context('hp-cluster-for-inf-Beta2try1', region='us-east-2')"
   ]
  },
  {
   "cell_type": "code",
   "execution_count": 2,
   "id": "32f976ba-d113-4e73-9698-2e5d8c7c44f6",
   "metadata": {},
   "outputs": [],
   "source": [
    "from sagemaker.hyperpod.inference.config.hp_endpoint_config import CloudWatchTrigger, PrometheusTrigger, AutoScalingSpec, ModelMetrics, Metrics, FsxStorage, ModelSourceConfig, Tags, TlsConfig, ConfigMapKeyRef, FieldRef, ResourceFieldRef, SecretKeyRef, ValueFrom, EnvironmentVariables, ModelInvocationPort, ModelVolumeMount, Claims, Resources, Worker\n",
    "from sagemaker.hyperpod.inference.hp_endpoint import HPEndpoint\n",
    "import yaml\n",
    "import time"
   ]
  },
  {
   "cell_type": "code",
   "execution_count": 3,
   "id": "67f9a718-524a-4a3d-9885-31385c995c18",
   "metadata": {},
   "outputs": [],
   "source": [
    "tls_config=TlsConfig(tls_certificate_output_s3_uri='s3://tls-bucket-inf1-beta2')\n",
    "\n",
    "model_source_config = ModelSourceConfig(\n",
    "    model_source_type='fsx',\n",
    "    model_location=\"deepseek-1-5b\",\n",
    "    fsx_storage=FsxStorage(\n",
    "        file_system_id='fs-0e6a92495c35a81f2'\n",
    "    ),\n",
    ")\n",
    "\n",
    "environment_variables = [\n",
    "    EnvironmentVariables(name=\"HF_MODEL_ID\", value=\"/opt/ml/model\"),\n",
    "    EnvironmentVariables(name=\"SAGEMAKER_PROGRAM\", value=\"inference.py\"),\n",
    "    EnvironmentVariables(name=\"SAGEMAKER_SUBMIT_DIRECTORY\", value=\"/opt/ml/model/code\"),\n",
    "    EnvironmentVariables(name=\"MODEL_CACHE_ROOT\", value=\"/opt/ml/model\"),\n",
    "    EnvironmentVariables(name=\"SAGEMAKER_ENV\", value=\"1\"),\n",
    "]\n",
    "\n",
    "worker = Worker(\n",
    "    image='763104351884.dkr.ecr.us-east-2.amazonaws.com/huggingface-pytorch-tgi-inference:2.4.0-tgi2.3.1-gpu-py311-cu124-ubuntu22.04-v2.0',\n",
    "    model_volume_mount=ModelVolumeMount(\n",
    "        name='model-weights',\n",
    "    ),\n",
    "    model_invocation_port=ModelInvocationPort(container_port=8080),\n",
    "    resources=Resources(\n",
    "            requests={\"cpu\": \"30000m\", \"nvidia.com/gpu\": 1, \"memory\": \"100Gi\"},\n",
    "            limits={\"nvidia.com/gpu\": 1}\n",
    "    ),\n",
    "    environment_variables=environment_variables,\n",
    ")"
   ]
  },
  {
   "cell_type": "code",
   "execution_count": 4,
   "id": "ae599413-e275-47c3-9dca-05b80b1bb6e2",
   "metadata": {},
   "outputs": [],
   "source": [
    "fsx_endpoint = HPEndpoint(\n",
    "    endpoint_name='test-endpoint-name-fsx-pysdk-07-01-1',\n",
    "    instance_type='ml.g5.8xlarge',\n",
    "    # use a new model_name every new deployment.\n",
    "    # Older image version has a bug that causes 502 bad gateway from invoking endpoint\n",
    "    model_name='deepseek15b-fsx-test-pysdk-07-01-1',\n",
    "    tls_config=tls_config,\n",
    "    model_source_config=model_source_config,\n",
    "    worker=worker,\n",
    ")"
   ]
  },
  {
   "cell_type": "code",
   "execution_count": 5,
   "id": "bf04c78e-745d-4530-8342-216cf1fbcfc4",
   "metadata": {},
   "outputs": [],
   "source": [
    "fsx_endpoint.create()"
   ]
  },
  {
   "cell_type": "code",
   "execution_count": 6,
   "id": "ec2cfae4-a056-465d-823a-75f5b6b9a495",
   "metadata": {},
   "outputs": [
    {
     "name": "stdout",
     "output_type": "stream",
     "text": [
      "Refreshing instance status...\n",
      "Refreshing instance status...\n",
      "Refreshing instance status...\n",
      "Refreshing instance status...\n",
      "Refreshing instance status...\n",
      "Refreshing instance status...\n",
      "Refreshing instance status...\n",
      "Refreshing instance status...\n",
      "Refreshing instance status...\n",
      "Refreshing instance status...\n",
      "Refreshing instance status...\n",
      "Refreshing instance status...\n",
      "Refreshing instance status...\n",
      "Refreshing instance status...\n",
      "Refreshing instance status...\n",
      "Refreshing instance status...\n",
      "Refreshing instance status...\n",
      "Refreshing instance status...\n",
      "Refreshing instance status...\n",
      "Refreshing instance status...\n",
      "Refreshing instance status...\n",
      "Endpoint is available!\n"
     ]
    }
   ],
   "source": [
    "# poll status\n",
    "t = 0\n",
    "timeout = 600  # 600 seconds timeout  \n",
    "interval = 15  # poll every 15 seconds\n",
    "\n",
    "while t < timeout:\n",
    "    # use refresh to fetch latest status\n",
    "    fsx_endpoint.refresh()\n",
    "\n",
    "    print('Refreshing instance status...')\n",
    "\n",
    "    try:\n",
    "        # deployment status will be available immediately\n",
    "        deployment_status = fsx_endpoint.status.deploymentStatus.deploymentObjectOverallState\n",
    "        if deployment_status== 'DeploymentFailed':\n",
    "            print('Deployment failed!')\n",
    "            break\n",
    "\n",
    "        # endpoint status will appear be available from refresh() at some point\n",
    "        endpoint_status = fsx_endpoint.status.endpoints.sagemaker.state\n",
    "        if endpoint_status == 'CreationCompleted':\n",
    "            print('Endpoint is available!')\n",
    "            break\n",
    "    except:\n",
    "        pass\n",
    "\n",
    "    time.sleep(interval)\n",
    "    t += interval\n",
    "\n",
    "if t >= timeout:\n",
    "    print('Endpoint creation timed out!')\n",
    "\n",
    "# print endpoint in yaml\n",
    "def print_yaml(endpoint):\n",
    "    print(yaml.dump(endpoint.model_dump(exclude_none=True)))"
   ]
  },
  {
   "cell_type": "code",
   "execution_count": 7,
   "id": "d606c862-0f03-4cd9-9324-c5960d6be362",
   "metadata": {
    "scrolled": true
   },
   "outputs": [
    {
     "name": "stdout",
     "output_type": "stream",
     "text": [
      "endpointName: test-endpoint-name-fsx-pysdk-07-01-1\n",
      "instanceType: ml.g5.8xlarge\n",
      "invocationEndpoint: invocations\n",
      "metadata:\n",
      "  name: deepseek15b-fsx-test-pysdk-07-01-1\n",
      "  namespace: default\n",
      "modelName: deepseek15b-fsx-test-pysdk-07-01-1\n",
      "modelSourceConfig:\n",
      "  fsxStorage:\n",
      "    fileSystemId: fs-0e6a92495c35a81f2\n",
      "  modelLocation: deepseek-1-5b\n",
      "  modelSourceType: fsx\n",
      "  prefetchEnabled: false\n",
      "replicas: 1\n",
      "status:\n",
      "  conditions:\n",
      "  - lastTransitionTime: '2025-07-01T19:13:44Z'\n",
      "    message: Deployment or SageMaker endpoint registration creation for model is in\n",
      "      progress\n",
      "    reason: InProgress\n",
      "    status: 'True'\n",
      "    type: DeploymentInProgress\n",
      "  - lastTransitionTime: '2025-07-01T19:18:59Z'\n",
      "    message: Deployment and SageMaker endpoint registration for model have been created\n",
      "      successfully\n",
      "    reason: Success\n",
      "    status: 'True'\n",
      "    type: DeploymentComplete\n",
      "  deploymentStatus:\n",
      "    deploymentObjectOverallState: DeploymentComplete\n",
      "    lastUpdated: '2025-07-01T19:18:59Z'\n",
      "    name: deepseek15b-fsx-test-pysdk-07-01-1\n",
      "    reason: NativeDeploymentObjectFound\n",
      "    status:\n",
      "      availableReplicas: 1\n",
      "      conditions:\n",
      "      - lastTransitionTime: '2025-07-01T19:13:50Z'\n",
      "        lastUpdateTime: '2025-07-01T19:13:50Z'\n",
      "        message: Deployment has minimum availability.\n",
      "        reason: MinimumReplicasAvailable\n",
      "        status: 'True'\n",
      "        type: Available\n",
      "      - lastTransitionTime: '2025-07-01T19:13:39Z'\n",
      "        lastUpdateTime: '2025-07-01T19:13:50Z'\n",
      "        message: ReplicaSet \"deepseek15b-fsx-test-pysdk-07-01-1-784ff48ddd\" has successfully\n",
      "          progressed.\n",
      "        reason: NewReplicaSetAvailable\n",
      "        status: 'True'\n",
      "        type: Progressing\n",
      "      observedGeneration: 1\n",
      "      readyReplicas: 1\n",
      "      replicas: 1\n",
      "      updatedReplicas: 1\n",
      "  endpoints:\n",
      "    sagemaker:\n",
      "      endpointArn: arn:aws:sagemaker:us-east-2:637423555983:endpoint/test-endpoint-name-fsx-pysdk-07-01-1\n",
      "      state: CreationCompleted\n",
      "  replicas: 1\n",
      "  selector: app=deepseek15b-fsx-test-pysdk-07-01-1,deploying-service=hyperpod-inference\n",
      "  state: DeploymentComplete\n",
      "  tlsCertificate:\n",
      "    certificateARN: arn:aws:acm:us-east-2:637423555983:certificate/dcb2b3a7-1c42-48d9-9dc6-a9b047f234ed\n",
      "    certificateDomainNames:\n",
      "    - internal-k8s-default-albdeeps-a0be78c706-1457361892.us-east-2.elb.amazonaws.com\n",
      "    certificateName: deepseek15b-fsx-test-pysdk-07-01-1-certificate\n",
      "    importedCertificates:\n",
      "    - arn:aws:acm:us-east-2:637423555983:certificate/dcb2b3a7-1c42-48d9-9dc6-a9b047f234ed\n",
      "    issuerName: deepseek15b-fsx-test-pysdk-07-01-1-issuer\n",
      "    lastCertExpiryTime: '2026-07-01T19:13:44Z'\n",
      "    tlsCertificateOutputS3Bucket: tls-bucket-inf1-beta2\n",
      "    tlsCertificateS3Keys:\n",
      "    - 52c2qrh8q2ts/default-deepseek15b-fsx-test-pysdk-07-01-1-1751397218/deepseek15b-fsx-test-pysdk-07-01-1-certificate-1782933224.pem\n",
      "tlsConfig:\n",
      "  tlsCertificateOutputS3Uri: s3://tls-bucket-inf1-beta2\n",
      "worker:\n",
      "  environmentVariables:\n",
      "  - name: HF_MODEL_ID\n",
      "    value: /opt/ml/model\n",
      "  - name: SAGEMAKER_PROGRAM\n",
      "    value: inference.py\n",
      "  - name: SAGEMAKER_SUBMIT_DIRECTORY\n",
      "    value: /opt/ml/model/code\n",
      "  - name: MODEL_CACHE_ROOT\n",
      "    value: /opt/ml/model\n",
      "  - name: SAGEMAKER_ENV\n",
      "    value: '1'\n",
      "  image: 763104351884.dkr.ecr.us-east-2.amazonaws.com/huggingface-pytorch-tgi-inference:2.4.0-tgi2.3.1-gpu-py311-cu124-ubuntu22.04-v2.0\n",
      "  modelInvocationPort:\n",
      "    containerPort: 8080\n",
      "    name: http\n",
      "  modelVolumeMount:\n",
      "    mountPath: /opt/ml/model\n",
      "    name: model-weights\n",
      "  resources:\n",
      "    limits:\n",
      "      nvidia.com/gpu: 1\n",
      "    requests:\n",
      "      cpu: 30000m\n",
      "      memory: 100Gi\n",
      "      nvidia.com/gpu: 1\n",
      "\n"
     ]
    }
   ],
   "source": [
    "# list all endpoints\n",
    "endpoint_list = HPEndpoint.list()\n",
    "print_yaml(endpoint_list[0])"
   ]
  },
  {
   "cell_type": "code",
   "execution_count": 8,
   "id": "e31b2d84-78e3-4c79-bb2c-e0844601492c",
   "metadata": {},
   "outputs": [],
   "source": [
    "endpoint = HPEndpoint.get(name='deepseek15b-fsx-test-pysdk-07-01-1')"
   ]
  },
  {
   "cell_type": "code",
   "execution_count": 9,
   "id": "59d65df2-fe0c-4e3c-b584-dfd10e9e7264",
   "metadata": {},
   "outputs": [
    {
     "data": {
      "text/html": [
       "<pre style=\"white-space:pre;overflow-x:auto;line-height:normal;font-family:Menlo,'DejaVu Sans Mono',consolas,'Courier New',monospace\"><span style=\"color: #7fbfbf; text-decoration-color: #7fbfbf\">[07/01/25 12:20:31] </span><span style=\"color: #d7af00; text-decoration-color: #d7af00; font-weight: bold\">WARNING </span> No boto3 session provided. Creating a new session.                        <a href=\"file:///Users/jzhaoqwa/miniconda3/lib/python3.12/site-packages/sagemaker_core/main/utils.py\" target=\"_blank\"><span style=\"color: #7f7f7f; text-decoration-color: #7f7f7f\">utils.py</span></a><span style=\"color: #7f7f7f; text-decoration-color: #7f7f7f\">:</span><a href=\"file:///Users/jzhaoqwa/miniconda3/lib/python3.12/site-packages/sagemaker_core/main/utils.py#353\" target=\"_blank\"><span style=\"color: #7f7f7f; text-decoration-color: #7f7f7f\">353</span></a>\n",
       "</pre>\n"
      ],
      "text/plain": [
       "\u001b[2;36m[07/01/25 12:20:31]\u001b[0m\u001b[2;36m \u001b[0m\u001b[1;38;2;215;175;0mWARNING \u001b[0m No boto3 session provided. Creating a new session.                        \u001b]8;id=537599;file:///Users/jzhaoqwa/miniconda3/lib/python3.12/site-packages/sagemaker_core/main/utils.py\u001b\\\u001b[2mutils.py\u001b[0m\u001b]8;;\u001b\\\u001b[2m:\u001b[0m\u001b]8;id=527086;file:///Users/jzhaoqwa/miniconda3/lib/python3.12/site-packages/sagemaker_core/main/utils.py#353\u001b\\\u001b[2m353\u001b[0m\u001b]8;;\u001b\\\n"
      ]
     },
     "metadata": {},
     "output_type": "display_data"
    },
    {
     "name": "stderr",
     "output_type": "stream",
     "text": [
      "WARNING:sagemaker_core.main.utils:No boto3 session provided. Creating a new session.\n"
     ]
    },
    {
     "data": {
      "text/html": [
       "<pre style=\"white-space:pre;overflow-x:auto;line-height:normal;font-family:Menlo,'DejaVu Sans Mono',consolas,'Courier New',monospace\"><span style=\"color: #7fbfbf; text-decoration-color: #7fbfbf\">                    </span><span style=\"color: #d7af00; text-decoration-color: #d7af00; font-weight: bold\">WARNING </span> No config provided. Using default config.                                 <a href=\"file:///Users/jzhaoqwa/miniconda3/lib/python3.12/site-packages/sagemaker_core/main/utils.py\" target=\"_blank\"><span style=\"color: #7f7f7f; text-decoration-color: #7f7f7f\">utils.py</span></a><span style=\"color: #7f7f7f; text-decoration-color: #7f7f7f\">:</span><a href=\"file:///Users/jzhaoqwa/miniconda3/lib/python3.12/site-packages/sagemaker_core/main/utils.py#361\" target=\"_blank\"><span style=\"color: #7f7f7f; text-decoration-color: #7f7f7f\">361</span></a>\n",
       "</pre>\n"
      ],
      "text/plain": [
       "\u001b[2;36m                   \u001b[0m\u001b[2;36m \u001b[0m\u001b[1;38;2;215;175;0mWARNING \u001b[0m No config provided. Using default config.                                 \u001b]8;id=159127;file:///Users/jzhaoqwa/miniconda3/lib/python3.12/site-packages/sagemaker_core/main/utils.py\u001b\\\u001b[2mutils.py\u001b[0m\u001b]8;;\u001b\\\u001b[2m:\u001b[0m\u001b]8;id=343698;file:///Users/jzhaoqwa/miniconda3/lib/python3.12/site-packages/sagemaker_core/main/utils.py#361\u001b\\\u001b[2m361\u001b[0m\u001b]8;;\u001b\\\n"
      ]
     },
     "metadata": {},
     "output_type": "display_data"
    },
    {
     "name": "stderr",
     "output_type": "stream",
     "text": [
      "WARNING:sagemaker_core.main.utils:No config provided. Using default config.\n"
     ]
    },
    {
     "data": {
      "text/plain": [
       "b'[{\"generated_text\":\"What is the capital of Japan? What is the capital of the United States? What is the capital of Brazil? What is the capital of the United Kingdom? What is the capital of Germany? What is the capital of Spain? What is the capital of_connecting_\\xe5\\x8f\\xa3\\xe4\\xb8\\xad_only_have_three_quarter_bagels? What is the capital of China?\\\\n\\\\n**Pairing the series:  I: Tokyo, II: New York, III: Paris, IV: London, V: Berlin, VI: Madrid, VII: Moscow, VIII\"}]'"
      ]
     },
     "execution_count": 9,
     "metadata": {},
     "output_type": "execute_result"
    }
   ],
   "source": [
    "# invoke\n",
    "data='{\"inputs\": \"What is the capital of Japan?\"}'\n",
    "\n",
    "# invoke\n",
    "endpoint.invoke(body=data).body.read()"
   ]
  },
  {
   "cell_type": "code",
   "execution_count": null,
   "id": "d2b3a2ce-6531-4d8d-bd17-e1daabf557cc",
   "metadata": {},
   "outputs": [],
   "source": [
    "# delete endpoint\n",
    "endpoint.delete()"
   ]
  }
 ],
 "metadata": {
  "kernelspec": {
   "display_name": "Python 3 (ipykernel)",
   "language": "python",
   "name": "python3"
  },
  "language_info": {
   "codemirror_mode": {
    "name": "ipython",
    "version": 3
   },
   "file_extension": ".py",
   "mimetype": "text/x-python",
   "name": "python",
   "nbconvert_exporter": "python",
   "pygments_lexer": "ipython3",
   "version": "3.12.3"
  }
 },
 "nbformat": 4,
 "nbformat_minor": 5
}
