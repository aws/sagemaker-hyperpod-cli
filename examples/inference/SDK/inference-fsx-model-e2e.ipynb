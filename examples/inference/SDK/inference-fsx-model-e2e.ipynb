{
 "cells": [
  {
   "cell_type": "code",
   "id": "f8caf125-ab9d-4655-a59e-edbaeed9e919",
   "metadata": {},
   "source": [
    "from sagemaker.hyperpod.hyperpod_manager import HyperPodManager\n",
    "\n",
    "HyperPodManager.list_clusters(region='us-east-2')\n",
    "HyperPodManager.set_context('hp-cluster-for-inf-Beta2try1', region='us-east-2')"
   ],
   "outputs": [],
   "execution_count": null
  },
  {
   "cell_type": "code",
   "id": "32f976ba-d113-4e73-9698-2e5d8c7c44f6",
   "metadata": {
    "ExecuteTime": {
     "end_time": "2025-07-02T17:41:27.430475Z",
     "start_time": "2025-07-02T17:41:24.735632Z"
    }
   },
   "source": [
    "from sagemaker.hyperpod.inference.config.hp_endpoint_config import CloudWatchTrigger, PrometheusTrigger, AutoScalingSpec, ModelMetrics, Metrics, FsxStorage, ModelSourceConfig, Tags, TlsConfig, ConfigMapKeyRef, FieldRef, ResourceFieldRef, SecretKeyRef, ValueFrom, EnvironmentVariables, ModelInvocationPort, ModelVolumeMount, Claims, Resources, Worker\n",
    "from sagemaker.hyperpod.inference.hp_endpoint import HPEndpoint\n",
    "import yaml\n",
    "import time"
   ],
   "outputs": [
    {
     "name": "stderr",
     "output_type": "stream",
     "text": [
      "/Library/Python/3.9/site-packages/pydantic/_internal/_fields.py:200: UserWarning: Field name \"json\" in \"MonitoringDatasetFormat\" shadows an attribute in parent \"Base\"\n",
      "  warnings.warn(\n"
     ]
    }
   ],
   "execution_count": 2
  },
  {
   "cell_type": "code",
   "id": "67f9a718-524a-4a3d-9885-31385c995c18",
   "metadata": {
    "ExecuteTime": {
     "end_time": "2025-07-02T17:41:32.046174Z",
     "start_time": "2025-07-02T17:41:32.041511Z"
    }
   },
   "source": [
    "tls_config=TlsConfig(tls_certificate_output_s3_uri='s3://tls-bucket-inf1-beta2')\n",
    "\n",
    "model_source_config = ModelSourceConfig(\n",
    "    model_source_type='fsx',\n",
    "    model_location=\"deepseek-1-5b\",\n",
    "    fsx_storage=FsxStorage(\n",
    "        file_system_id='fs-0e6a92495c35a81f2'\n",
    "    ),\n",
    ")\n",
    "\n",
    "environment_variables = [\n",
    "    EnvironmentVariables(name=\"HF_MODEL_ID\", value=\"/opt/ml/model\"),\n",
    "    EnvironmentVariables(name=\"SAGEMAKER_PROGRAM\", value=\"inference.py\"),\n",
    "    EnvironmentVariables(name=\"SAGEMAKER_SUBMIT_DIRECTORY\", value=\"/opt/ml/model/code\"),\n",
    "    EnvironmentVariables(name=\"MODEL_CACHE_ROOT\", value=\"/opt/ml/model\"),\n",
    "    EnvironmentVariables(name=\"SAGEMAKER_ENV\", value=\"1\"),\n",
    "]\n",
    "\n",
    "worker = Worker(\n",
    "    image='763104351884.dkr.ecr.us-east-2.amazonaws.com/huggingface-pytorch-tgi-inference:2.4.0-tgi2.3.1-gpu-py311-cu124-ubuntu22.04-v2.0',\n",
    "    model_volume_mount=ModelVolumeMount(\n",
    "        name='model-weights',\n",
    "    ),\n",
    "    model_invocation_port=ModelInvocationPort(container_port=8080),\n",
    "    resources=Resources(\n",
    "            requests={\"cpu\": \"30000m\", \"nvidia.com/gpu\": 1, \"memory\": \"100Gi\"},\n",
    "            limits={\"nvidia.com/gpu\": 1}\n",
    "    ),\n",
    "    environment_variables=environment_variables,\n",
    ")"
   ],
   "outputs": [],
   "execution_count": 3
  },
  {
   "cell_type": "code",
   "id": "ae599413-e275-47c3-9dca-05b80b1bb6e2",
   "metadata": {},
   "source": [
    "fsx_endpoint = HPEndpoint(\n",
    "    endpoint_name='test-endpoint-name-fsx-pysdk-07-01-1',\n",
    "    instance_type='ml.g5.8xlarge',\n",
    "    # use a new model_name every new deployment.\n",
    "    # Older image version has a bug that causes 502 bad gateway from invoking endpoint\n",
    "    model_name='deepseek15b-fsx-test-pysdk-07-01-1',\n",
    "    tls_config=tls_config,\n",
    "    model_source_config=model_source_config,\n",
    "    worker=worker,\n",
    ")"
   ],
   "outputs": [],
   "execution_count": null
  },
  {
   "cell_type": "code",
   "id": "bf04c78e-745d-4530-8342-216cf1fbcfc4",
   "metadata": {},
   "source": [
    "fsx_endpoint.create()"
   ],
   "outputs": [],
   "execution_count": null
  },
  {
   "cell_type": "code",
   "id": "ec2cfae4-a056-465d-823a-75f5b6b9a495",
   "metadata": {},
   "source": [
    "# poll status\n",
    "t = 0\n",
    "timeout = 600  # 600 seconds timeout  \n",
    "interval = 15  # poll every 15 seconds\n",
    "\n",
    "while t < timeout:\n",
    "    # use refresh to fetch latest status\n",
    "    fsx_endpoint.refresh()\n",
    "\n",
    "    print('Refreshing instance status...')\n",
    "\n",
    "    try:\n",
    "        # deployment status will be available immediately\n",
    "        deployment_status = fsx_endpoint.status.deploymentStatus.deploymentObjectOverallState\n",
    "        if deployment_status== 'DeploymentFailed':\n",
    "            print('Deployment failed!')\n",
    "            break\n",
    "\n",
    "        # endpoint status will appear be available from refresh() at some point\n",
    "        endpoint_status = fsx_endpoint.status.endpoints.sagemaker.state\n",
    "        if endpoint_status == 'CreationCompleted':\n",
    "            print('Endpoint is available!')\n",
    "            break\n",
    "    except:\n",
    "        pass\n",
    "\n",
    "    time.sleep(interval)\n",
    "    t += interval\n",
    "\n",
    "if t >= timeout:\n",
    "    print('Endpoint creation timed out!')\n",
    "\n",
    "# print endpoint in yaml\n",
    "def print_yaml(endpoint):\n",
    "    print(yaml.dump(endpoint.model_dump(exclude_none=True)))"
   ],
   "outputs": [],
   "execution_count": null
  },
  {
   "cell_type": "code",
   "id": "d606c862-0f03-4cd9-9324-c5960d6be362",
   "metadata": {
    "scrolled": true,
    "ExecuteTime": {
     "end_time": "2025-07-02T18:15:19.686234Z",
     "start_time": "2025-07-02T18:15:16.694713Z"
    }
   },
   "source": [
    "# list all endpoints\n",
    "endpoint_list = HPEndpoint.list()\n",
    "print_yaml(endpoint_list[0])"
   ],
   "outputs": [
    {
     "data": {
      "text/plain": [
       "\u001B[38;2;255;0;0m╭─\u001B[0m\u001B[38;2;255;0;0m──────────────────────────────\u001B[0m\u001B[38;2;255;0;0m \u001B[0m\u001B[1;38;2;255;0;0mTraceback \u001B[0m\u001B[1;2;38;2;255;0;0m(most recent call last)\u001B[0m\u001B[38;2;255;0;0m \u001B[0m\u001B[38;2;255;0;0m───────────────────────────────\u001B[0m\u001B[38;2;255;0;0m─╮\u001B[0m\n",
       "\u001B[38;2;255;0;0m│\u001B[0m in \u001B[92m<module>\u001B[0m:\u001B[94m2\u001B[0m                                                                                    \u001B[38;2;255;0;0m│\u001B[0m\n",
       "\u001B[38;2;255;0;0m│\u001B[0m                                                                                                  \u001B[38;2;255;0;0m│\u001B[0m\n",
       "\u001B[38;2;255;0;0m│\u001B[0m   \u001B[2m1 \u001B[0m\u001B[2m# list all endpoints\u001B[0m                                                                         \u001B[38;2;255;0;0m│\u001B[0m\n",
       "\u001B[38;2;255;0;0m│\u001B[0m \u001B[31m❱ \u001B[0m2 endpoint_list = HPEndpoint.list()                                                            \u001B[38;2;255;0;0m│\u001B[0m\n",
       "\u001B[38;2;255;0;0m│\u001B[0m   \u001B[2m3 \u001B[0mprint_yaml(endpoint_list[\u001B[94m0\u001B[0m])                                                                 \u001B[38;2;255;0;0m│\u001B[0m\n",
       "\u001B[38;2;255;0;0m│\u001B[0m   \u001B[2m4 \u001B[0m                                                                                             \u001B[38;2;255;0;0m│\u001B[0m\n",
       "\u001B[38;2;255;0;0m│\u001B[0m                                                                                                  \u001B[38;2;255;0;0m│\u001B[0m\n",
       "\u001B[38;2;255;0;0m│\u001B[0m \u001B[2;33m/Users/nargokul/workspace/private-sagemaker-hyperpod-cli-staging/src/sagemaker/hyperpod/inferenc\u001B[0m \u001B[38;2;255;0;0m│\u001B[0m\n",
       "\u001B[38;2;255;0;0m│\u001B[0m \u001B[2;33me/\u001B[0m\u001B[1;33mhp_endpoint.py\u001B[0m:\u001B[94m102\u001B[0m in \u001B[92mlist\u001B[0m                                                                     \u001B[38;2;255;0;0m│\u001B[0m\n",
       "\u001B[38;2;255;0;0m│\u001B[0m                                                                                                  \u001B[38;2;255;0;0m│\u001B[0m\n",
       "\u001B[38;2;255;0;0m│\u001B[0m   \u001B[2m 99 \u001B[0m\u001B[2m│   │   \u001B[0m\u001B[94mif\u001B[0m response \u001B[95mand\u001B[0m response[\u001B[33m\"\u001B[0m\u001B[33mitems\u001B[0m\u001B[33m\"\u001B[0m]:                                                 \u001B[38;2;255;0;0m│\u001B[0m\n",
       "\u001B[38;2;255;0;0m│\u001B[0m   \u001B[2m100 \u001B[0m\u001B[2m│   │   │   \u001B[0m\u001B[94mfor\u001B[0m item \u001B[95min\u001B[0m response[\u001B[33m\"\u001B[0m\u001B[33mitems\u001B[0m\u001B[33m\"\u001B[0m]:                                                 \u001B[38;2;255;0;0m│\u001B[0m\n",
       "\u001B[38;2;255;0;0m│\u001B[0m   \u001B[2m101 \u001B[0m\u001B[2m│   │   │   │   \u001B[0mname = item[\u001B[33m\"\u001B[0m\u001B[33mmetadata\u001B[0m\u001B[33m\"\u001B[0m][\u001B[33m\"\u001B[0m\u001B[33mname\u001B[0m\u001B[33m\"\u001B[0m]                                            \u001B[38;2;255;0;0m│\u001B[0m\n",
       "\u001B[38;2;255;0;0m│\u001B[0m \u001B[31m❱ \u001B[0m102 \u001B[2m│   │   │   │   \u001B[0mendpoints.append(\u001B[96mcls\u001B[0m.get(name, namespace=namespace))                       \u001B[38;2;255;0;0m│\u001B[0m\n",
       "\u001B[38;2;255;0;0m│\u001B[0m   \u001B[2m103 \u001B[0m\u001B[2m│   │   \u001B[0m                                                                                   \u001B[38;2;255;0;0m│\u001B[0m\n",
       "\u001B[38;2;255;0;0m│\u001B[0m   \u001B[2m104 \u001B[0m\u001B[2m│   │   \u001B[0m\u001B[94mreturn\u001B[0m endpoints                                                                   \u001B[38;2;255;0;0m│\u001B[0m\n",
       "\u001B[38;2;255;0;0m│\u001B[0m   \u001B[2m105 \u001B[0m                                                                                           \u001B[38;2;255;0;0m│\u001B[0m\n",
       "\u001B[38;2;255;0;0m│\u001B[0m                                                                                                  \u001B[38;2;255;0;0m│\u001B[0m\n",
       "\u001B[38;2;255;0;0m│\u001B[0m \u001B[2;33m/Users/nargokul/workspace/private-sagemaker-hyperpod-cli-staging/src/sagemaker/hyperpod/inferenc\u001B[0m \u001B[38;2;255;0;0m│\u001B[0m\n",
       "\u001B[38;2;255;0;0m│\u001B[0m \u001B[2;33me/\u001B[0m\u001B[1;33mhp_endpoint.py\u001B[0m:\u001B[94m114\u001B[0m in \u001B[92mget\u001B[0m                                                                      \u001B[38;2;255;0;0m│\u001B[0m\n",
       "\u001B[38;2;255;0;0m│\u001B[0m                                                                                                  \u001B[38;2;255;0;0m│\u001B[0m\n",
       "\u001B[38;2;255;0;0m│\u001B[0m   \u001B[2m111 \u001B[0m\u001B[2m│   │   │   \u001B[0mnamespace=namespace,                                                           \u001B[38;2;255;0;0m│\u001B[0m\n",
       "\u001B[38;2;255;0;0m│\u001B[0m   \u001B[2m112 \u001B[0m\u001B[2m│   │   \u001B[0m)                                                                                  \u001B[38;2;255;0;0m│\u001B[0m\n",
       "\u001B[38;2;255;0;0m│\u001B[0m   \u001B[2m113 \u001B[0m\u001B[2m│   │   \u001B[0m                                                                                   \u001B[38;2;255;0;0m│\u001B[0m\n",
       "\u001B[38;2;255;0;0m│\u001B[0m \u001B[31m❱ \u001B[0m114 \u001B[2m│   │   \u001B[0mendpoint = HPEndpoint.model_validate(response[\u001B[33m\"\u001B[0m\u001B[33mspec\u001B[0m\u001B[33m\"\u001B[0m], by_name=\u001B[94mTrue\u001B[0m)               \u001B[38;2;255;0;0m│\u001B[0m\n",
       "\u001B[38;2;255;0;0m│\u001B[0m   \u001B[2m115 \u001B[0m\u001B[2m│   │   \u001B[0mstatus = response.get(\u001B[33m\"\u001B[0m\u001B[33mstatus\u001B[0m\u001B[33m\"\u001B[0m)                                                    \u001B[38;2;255;0;0m│\u001B[0m\n",
       "\u001B[38;2;255;0;0m│\u001B[0m   \u001B[2m116 \u001B[0m\u001B[2m│   │   \u001B[0m\u001B[94mif\u001B[0m status \u001B[95mis\u001B[0m \u001B[95mnot\u001B[0m \u001B[94mNone\u001B[0m:                                                             \u001B[38;2;255;0;0m│\u001B[0m\n",
       "\u001B[38;2;255;0;0m│\u001B[0m   \u001B[2m117 \u001B[0m\u001B[2m│   │   │   \u001B[0m\u001B[94mtry\u001B[0m:                                                                           \u001B[38;2;255;0;0m│\u001B[0m\n",
       "\u001B[38;2;255;0;0m╰──────────────────────────────────────────────────────────────────────────────────────────────────╯\u001B[0m\n",
       "\u001B[1;91mTypeError: \u001B[0m\u001B[1;38;2;225;0;225mmodel_validate\u001B[0m\u001B[1m(\u001B[0m\u001B[1m)\u001B[0m got an unexpected keyword argument \u001B[38;2;0;135;0m'by_name'\u001B[0m\n"
      ],
      "text/html": [
       "<pre style=\"white-space:pre;overflow-x:auto;line-height:normal;font-family:Menlo,'DejaVu Sans Mono',consolas,'Courier New',monospace\"><span style=\"color: #ff0000; text-decoration-color: #ff0000\">╭─────────────────────────────── </span><span style=\"color: #ff0000; text-decoration-color: #ff0000; font-weight: bold\">Traceback </span><span style=\"color: #ff7f7f; text-decoration-color: #ff7f7f; font-weight: bold\">(most recent call last)</span><span style=\"color: #ff0000; text-decoration-color: #ff0000\"> ────────────────────────────────╮</span>\n",
       "<span style=\"color: #ff0000; text-decoration-color: #ff0000\">│</span> in <span style=\"color: #00ff00; text-decoration-color: #00ff00\">&lt;module&gt;</span>:<span style=\"color: #0000ff; text-decoration-color: #0000ff\">2</span>                                                                                    <span style=\"color: #ff0000; text-decoration-color: #ff0000\">│</span>\n",
       "<span style=\"color: #ff0000; text-decoration-color: #ff0000\">│</span>                                                                                                  <span style=\"color: #ff0000; text-decoration-color: #ff0000\">│</span>\n",
       "<span style=\"color: #ff0000; text-decoration-color: #ff0000\">│</span>   <span style=\"color: #7f7f7f; text-decoration-color: #7f7f7f\">1 # list all endpoints</span>                                                                         <span style=\"color: #ff0000; text-decoration-color: #ff0000\">│</span>\n",
       "<span style=\"color: #ff0000; text-decoration-color: #ff0000\">│</span> <span style=\"color: #800000; text-decoration-color: #800000\">❱ </span>2 endpoint_list = HPEndpoint.list()                                                            <span style=\"color: #ff0000; text-decoration-color: #ff0000\">│</span>\n",
       "<span style=\"color: #ff0000; text-decoration-color: #ff0000\">│</span>   <span style=\"color: #7f7f7f; text-decoration-color: #7f7f7f\">3 </span>print_yaml(endpoint_list[<span style=\"color: #0000ff; text-decoration-color: #0000ff\">0</span>])                                                                 <span style=\"color: #ff0000; text-decoration-color: #ff0000\">│</span>\n",
       "<span style=\"color: #ff0000; text-decoration-color: #ff0000\">│</span>   <span style=\"color: #7f7f7f; text-decoration-color: #7f7f7f\">4 </span>                                                                                             <span style=\"color: #ff0000; text-decoration-color: #ff0000\">│</span>\n",
       "<span style=\"color: #ff0000; text-decoration-color: #ff0000\">│</span>                                                                                                  <span style=\"color: #ff0000; text-decoration-color: #ff0000\">│</span>\n",
       "<span style=\"color: #ff0000; text-decoration-color: #ff0000\">│</span> <span style=\"color: #bfbf7f; text-decoration-color: #bfbf7f\">/Users/nargokul/workspace/private-sagemaker-hyperpod-cli-staging/src/sagemaker/hyperpod/inferenc</span> <span style=\"color: #ff0000; text-decoration-color: #ff0000\">│</span>\n",
       "<span style=\"color: #ff0000; text-decoration-color: #ff0000\">│</span> <span style=\"color: #bfbf7f; text-decoration-color: #bfbf7f\">e/</span><span style=\"color: #808000; text-decoration-color: #808000; font-weight: bold\">hp_endpoint.py</span>:<span style=\"color: #0000ff; text-decoration-color: #0000ff\">102</span> in <span style=\"color: #00ff00; text-decoration-color: #00ff00\">list</span>                                                                     <span style=\"color: #ff0000; text-decoration-color: #ff0000\">│</span>\n",
       "<span style=\"color: #ff0000; text-decoration-color: #ff0000\">│</span>                                                                                                  <span style=\"color: #ff0000; text-decoration-color: #ff0000\">│</span>\n",
       "<span style=\"color: #ff0000; text-decoration-color: #ff0000\">│</span>   <span style=\"color: #7f7f7f; text-decoration-color: #7f7f7f\"> 99 </span><span style=\"color: #7f7f7f; text-decoration-color: #7f7f7f\">│   │   </span><span style=\"color: #0000ff; text-decoration-color: #0000ff\">if</span> response <span style=\"color: #ff00ff; text-decoration-color: #ff00ff\">and</span> response[<span style=\"color: #808000; text-decoration-color: #808000\">\"items\"</span>]:                                                 <span style=\"color: #ff0000; text-decoration-color: #ff0000\">│</span>\n",
       "<span style=\"color: #ff0000; text-decoration-color: #ff0000\">│</span>   <span style=\"color: #7f7f7f; text-decoration-color: #7f7f7f\">100 </span><span style=\"color: #7f7f7f; text-decoration-color: #7f7f7f\">│   │   │   </span><span style=\"color: #0000ff; text-decoration-color: #0000ff\">for</span> item <span style=\"color: #ff00ff; text-decoration-color: #ff00ff\">in</span> response[<span style=\"color: #808000; text-decoration-color: #808000\">\"items\"</span>]:                                                 <span style=\"color: #ff0000; text-decoration-color: #ff0000\">│</span>\n",
       "<span style=\"color: #ff0000; text-decoration-color: #ff0000\">│</span>   <span style=\"color: #7f7f7f; text-decoration-color: #7f7f7f\">101 </span><span style=\"color: #7f7f7f; text-decoration-color: #7f7f7f\">│   │   │   │   </span>name = item[<span style=\"color: #808000; text-decoration-color: #808000\">\"metadata\"</span>][<span style=\"color: #808000; text-decoration-color: #808000\">\"name\"</span>]                                            <span style=\"color: #ff0000; text-decoration-color: #ff0000\">│</span>\n",
       "<span style=\"color: #ff0000; text-decoration-color: #ff0000\">│</span> <span style=\"color: #800000; text-decoration-color: #800000\">❱ </span>102 <span style=\"color: #7f7f7f; text-decoration-color: #7f7f7f\">│   │   │   │   </span>endpoints.append(<span style=\"color: #00ffff; text-decoration-color: #00ffff\">cls</span>.get(name, namespace=namespace))                       <span style=\"color: #ff0000; text-decoration-color: #ff0000\">│</span>\n",
       "<span style=\"color: #ff0000; text-decoration-color: #ff0000\">│</span>   <span style=\"color: #7f7f7f; text-decoration-color: #7f7f7f\">103 </span><span style=\"color: #7f7f7f; text-decoration-color: #7f7f7f\">│   │   </span>                                                                                   <span style=\"color: #ff0000; text-decoration-color: #ff0000\">│</span>\n",
       "<span style=\"color: #ff0000; text-decoration-color: #ff0000\">│</span>   <span style=\"color: #7f7f7f; text-decoration-color: #7f7f7f\">104 </span><span style=\"color: #7f7f7f; text-decoration-color: #7f7f7f\">│   │   </span><span style=\"color: #0000ff; text-decoration-color: #0000ff\">return</span> endpoints                                                                   <span style=\"color: #ff0000; text-decoration-color: #ff0000\">│</span>\n",
       "<span style=\"color: #ff0000; text-decoration-color: #ff0000\">│</span>   <span style=\"color: #7f7f7f; text-decoration-color: #7f7f7f\">105 </span>                                                                                           <span style=\"color: #ff0000; text-decoration-color: #ff0000\">│</span>\n",
       "<span style=\"color: #ff0000; text-decoration-color: #ff0000\">│</span>                                                                                                  <span style=\"color: #ff0000; text-decoration-color: #ff0000\">│</span>\n",
       "<span style=\"color: #ff0000; text-decoration-color: #ff0000\">│</span> <span style=\"color: #bfbf7f; text-decoration-color: #bfbf7f\">/Users/nargokul/workspace/private-sagemaker-hyperpod-cli-staging/src/sagemaker/hyperpod/inferenc</span> <span style=\"color: #ff0000; text-decoration-color: #ff0000\">│</span>\n",
       "<span style=\"color: #ff0000; text-decoration-color: #ff0000\">│</span> <span style=\"color: #bfbf7f; text-decoration-color: #bfbf7f\">e/</span><span style=\"color: #808000; text-decoration-color: #808000; font-weight: bold\">hp_endpoint.py</span>:<span style=\"color: #0000ff; text-decoration-color: #0000ff\">114</span> in <span style=\"color: #00ff00; text-decoration-color: #00ff00\">get</span>                                                                      <span style=\"color: #ff0000; text-decoration-color: #ff0000\">│</span>\n",
       "<span style=\"color: #ff0000; text-decoration-color: #ff0000\">│</span>                                                                                                  <span style=\"color: #ff0000; text-decoration-color: #ff0000\">│</span>\n",
       "<span style=\"color: #ff0000; text-decoration-color: #ff0000\">│</span>   <span style=\"color: #7f7f7f; text-decoration-color: #7f7f7f\">111 </span><span style=\"color: #7f7f7f; text-decoration-color: #7f7f7f\">│   │   │   </span>namespace=namespace,                                                           <span style=\"color: #ff0000; text-decoration-color: #ff0000\">│</span>\n",
       "<span style=\"color: #ff0000; text-decoration-color: #ff0000\">│</span>   <span style=\"color: #7f7f7f; text-decoration-color: #7f7f7f\">112 </span><span style=\"color: #7f7f7f; text-decoration-color: #7f7f7f\">│   │   </span>)                                                                                  <span style=\"color: #ff0000; text-decoration-color: #ff0000\">│</span>\n",
       "<span style=\"color: #ff0000; text-decoration-color: #ff0000\">│</span>   <span style=\"color: #7f7f7f; text-decoration-color: #7f7f7f\">113 </span><span style=\"color: #7f7f7f; text-decoration-color: #7f7f7f\">│   │   </span>                                                                                   <span style=\"color: #ff0000; text-decoration-color: #ff0000\">│</span>\n",
       "<span style=\"color: #ff0000; text-decoration-color: #ff0000\">│</span> <span style=\"color: #800000; text-decoration-color: #800000\">❱ </span>114 <span style=\"color: #7f7f7f; text-decoration-color: #7f7f7f\">│   │   </span>endpoint = HPEndpoint.model_validate(response[<span style=\"color: #808000; text-decoration-color: #808000\">\"spec\"</span>], by_name=<span style=\"color: #0000ff; text-decoration-color: #0000ff\">True</span>)               <span style=\"color: #ff0000; text-decoration-color: #ff0000\">│</span>\n",
       "<span style=\"color: #ff0000; text-decoration-color: #ff0000\">│</span>   <span style=\"color: #7f7f7f; text-decoration-color: #7f7f7f\">115 </span><span style=\"color: #7f7f7f; text-decoration-color: #7f7f7f\">│   │   </span>status = response.get(<span style=\"color: #808000; text-decoration-color: #808000\">\"status\"</span>)                                                    <span style=\"color: #ff0000; text-decoration-color: #ff0000\">│</span>\n",
       "<span style=\"color: #ff0000; text-decoration-color: #ff0000\">│</span>   <span style=\"color: #7f7f7f; text-decoration-color: #7f7f7f\">116 </span><span style=\"color: #7f7f7f; text-decoration-color: #7f7f7f\">│   │   </span><span style=\"color: #0000ff; text-decoration-color: #0000ff\">if</span> status <span style=\"color: #ff00ff; text-decoration-color: #ff00ff\">is</span> <span style=\"color: #ff00ff; text-decoration-color: #ff00ff\">not</span> <span style=\"color: #0000ff; text-decoration-color: #0000ff\">None</span>:                                                             <span style=\"color: #ff0000; text-decoration-color: #ff0000\">│</span>\n",
       "<span style=\"color: #ff0000; text-decoration-color: #ff0000\">│</span>   <span style=\"color: #7f7f7f; text-decoration-color: #7f7f7f\">117 </span><span style=\"color: #7f7f7f; text-decoration-color: #7f7f7f\">│   │   │   </span><span style=\"color: #0000ff; text-decoration-color: #0000ff\">try</span>:                                                                           <span style=\"color: #ff0000; text-decoration-color: #ff0000\">│</span>\n",
       "<span style=\"color: #ff0000; text-decoration-color: #ff0000\">╰──────────────────────────────────────────────────────────────────────────────────────────────────╯</span>\n",
       "<span style=\"color: #ff0000; text-decoration-color: #ff0000; font-weight: bold\">TypeError: </span><span style=\"color: #e100e1; text-decoration-color: #e100e1; font-weight: bold\">model_validate</span><span style=\"font-weight: bold\">()</span> got an unexpected keyword argument <span style=\"color: #008700; text-decoration-color: #008700\">'by_name'</span>\n",
       "</pre>\n"
      ]
     },
     "metadata": {},
     "output_type": "display_data"
    }
   ],
   "execution_count": 6
  },
  {
   "cell_type": "code",
   "id": "e31b2d84-78e3-4c79-bb2c-e0844601492c",
   "metadata": {
    "ExecuteTime": {
     "end_time": "2025-07-02T17:46:39.233334Z",
     "start_time": "2025-07-02T17:46:37.759619Z"
    }
   },
   "source": [
    "endpoint = HPEndpoint.get(name='deepseek15b-fsx-test-pysdk-07-01-1')"
   ],
   "outputs": [
    {
     "data": {
      "text/plain": [
       "\u001B[38;2;255;0;0m╭─\u001B[0m\u001B[38;2;255;0;0m──────────────────────────────\u001B[0m\u001B[38;2;255;0;0m \u001B[0m\u001B[1;38;2;255;0;0mTraceback \u001B[0m\u001B[1;2;38;2;255;0;0m(most recent call last)\u001B[0m\u001B[38;2;255;0;0m \u001B[0m\u001B[38;2;255;0;0m───────────────────────────────\u001B[0m\u001B[38;2;255;0;0m─╮\u001B[0m\n",
       "\u001B[38;2;255;0;0m│\u001B[0m in \u001B[92m<module>\u001B[0m:\u001B[94m1\u001B[0m                                                                                    \u001B[38;2;255;0;0m│\u001B[0m\n",
       "\u001B[38;2;255;0;0m│\u001B[0m                                                                                                  \u001B[38;2;255;0;0m│\u001B[0m\n",
       "\u001B[38;2;255;0;0m│\u001B[0m \u001B[31m❱ \u001B[0m1 endpoint = HPEndpoint.get(name=\u001B[33m'\u001B[0m\u001B[33mdeepseek15b-fsx-test-pysdk-07-01-1\u001B[0m\u001B[33m'\u001B[0m)                         \u001B[38;2;255;0;0m│\u001B[0m\n",
       "\u001B[38;2;255;0;0m│\u001B[0m   \u001B[2m2 \u001B[0m                                                                                             \u001B[38;2;255;0;0m│\u001B[0m\n",
       "\u001B[38;2;255;0;0m│\u001B[0m                                                                                                  \u001B[38;2;255;0;0m│\u001B[0m\n",
       "\u001B[38;2;255;0;0m│\u001B[0m \u001B[2;33m/Users/nargokul/workspace/private-sagemaker-hyperpod-cli-staging/src/sagemaker/hyperpod/inferenc\u001B[0m \u001B[38;2;255;0;0m│\u001B[0m\n",
       "\u001B[38;2;255;0;0m│\u001B[0m \u001B[2;33me/\u001B[0m\u001B[1;33mhp_endpoint.py\u001B[0m:\u001B[94m114\u001B[0m in \u001B[92mget\u001B[0m                                                                      \u001B[38;2;255;0;0m│\u001B[0m\n",
       "\u001B[38;2;255;0;0m│\u001B[0m                                                                                                  \u001B[38;2;255;0;0m│\u001B[0m\n",
       "\u001B[38;2;255;0;0m│\u001B[0m   \u001B[2m111 \u001B[0m\u001B[2m│   │   │   \u001B[0mnamespace=namespace,                                                           \u001B[38;2;255;0;0m│\u001B[0m\n",
       "\u001B[38;2;255;0;0m│\u001B[0m   \u001B[2m112 \u001B[0m\u001B[2m│   │   \u001B[0m)                                                                                  \u001B[38;2;255;0;0m│\u001B[0m\n",
       "\u001B[38;2;255;0;0m│\u001B[0m   \u001B[2m113 \u001B[0m\u001B[2m│   │   \u001B[0m                                                                                   \u001B[38;2;255;0;0m│\u001B[0m\n",
       "\u001B[38;2;255;0;0m│\u001B[0m \u001B[31m❱ \u001B[0m114 \u001B[2m│   │   \u001B[0mendpoint = HPEndpoint.model_validate(response[\u001B[33m\"\u001B[0m\u001B[33mspec\u001B[0m\u001B[33m\"\u001B[0m], by_name=\u001B[94mTrue\u001B[0m)               \u001B[38;2;255;0;0m│\u001B[0m\n",
       "\u001B[38;2;255;0;0m│\u001B[0m   \u001B[2m115 \u001B[0m\u001B[2m│   │   \u001B[0mstatus = response.get(\u001B[33m\"\u001B[0m\u001B[33mstatus\u001B[0m\u001B[33m\"\u001B[0m)                                                    \u001B[38;2;255;0;0m│\u001B[0m\n",
       "\u001B[38;2;255;0;0m│\u001B[0m   \u001B[2m116 \u001B[0m\u001B[2m│   │   \u001B[0m\u001B[94mif\u001B[0m status \u001B[95mis\u001B[0m \u001B[95mnot\u001B[0m \u001B[94mNone\u001B[0m:                                                             \u001B[38;2;255;0;0m│\u001B[0m\n",
       "\u001B[38;2;255;0;0m│\u001B[0m   \u001B[2m117 \u001B[0m\u001B[2m│   │   │   \u001B[0m\u001B[94mtry\u001B[0m:                                                                           \u001B[38;2;255;0;0m│\u001B[0m\n",
       "\u001B[38;2;255;0;0m╰──────────────────────────────────────────────────────────────────────────────────────────────────╯\u001B[0m\n",
       "\u001B[1;91mTypeError: \u001B[0m\u001B[1;38;2;225;0;225mmodel_validate\u001B[0m\u001B[1m(\u001B[0m\u001B[1m)\u001B[0m got an unexpected keyword argument \u001B[38;2;0;135;0m'by_name'\u001B[0m\n"
      ],
      "text/html": [
       "<pre style=\"white-space:pre;overflow-x:auto;line-height:normal;font-family:Menlo,'DejaVu Sans Mono',consolas,'Courier New',monospace\"><span style=\"color: #ff0000; text-decoration-color: #ff0000\">╭─────────────────────────────── </span><span style=\"color: #ff0000; text-decoration-color: #ff0000; font-weight: bold\">Traceback </span><span style=\"color: #ff7f7f; text-decoration-color: #ff7f7f; font-weight: bold\">(most recent call last)</span><span style=\"color: #ff0000; text-decoration-color: #ff0000\"> ────────────────────────────────╮</span>\n",
       "<span style=\"color: #ff0000; text-decoration-color: #ff0000\">│</span> in <span style=\"color: #00ff00; text-decoration-color: #00ff00\">&lt;module&gt;</span>:<span style=\"color: #0000ff; text-decoration-color: #0000ff\">1</span>                                                                                    <span style=\"color: #ff0000; text-decoration-color: #ff0000\">│</span>\n",
       "<span style=\"color: #ff0000; text-decoration-color: #ff0000\">│</span>                                                                                                  <span style=\"color: #ff0000; text-decoration-color: #ff0000\">│</span>\n",
       "<span style=\"color: #ff0000; text-decoration-color: #ff0000\">│</span> <span style=\"color: #800000; text-decoration-color: #800000\">❱ </span>1 endpoint = HPEndpoint.get(name=<span style=\"color: #808000; text-decoration-color: #808000\">'deepseek15b-fsx-test-pysdk-07-01-1'</span>)                         <span style=\"color: #ff0000; text-decoration-color: #ff0000\">│</span>\n",
       "<span style=\"color: #ff0000; text-decoration-color: #ff0000\">│</span>   <span style=\"color: #7f7f7f; text-decoration-color: #7f7f7f\">2 </span>                                                                                             <span style=\"color: #ff0000; text-decoration-color: #ff0000\">│</span>\n",
       "<span style=\"color: #ff0000; text-decoration-color: #ff0000\">│</span>                                                                                                  <span style=\"color: #ff0000; text-decoration-color: #ff0000\">│</span>\n",
       "<span style=\"color: #ff0000; text-decoration-color: #ff0000\">│</span> <span style=\"color: #bfbf7f; text-decoration-color: #bfbf7f\">/Users/nargokul/workspace/private-sagemaker-hyperpod-cli-staging/src/sagemaker/hyperpod/inferenc</span> <span style=\"color: #ff0000; text-decoration-color: #ff0000\">│</span>\n",
       "<span style=\"color: #ff0000; text-decoration-color: #ff0000\">│</span> <span style=\"color: #bfbf7f; text-decoration-color: #bfbf7f\">e/</span><span style=\"color: #808000; text-decoration-color: #808000; font-weight: bold\">hp_endpoint.py</span>:<span style=\"color: #0000ff; text-decoration-color: #0000ff\">114</span> in <span style=\"color: #00ff00; text-decoration-color: #00ff00\">get</span>                                                                      <span style=\"color: #ff0000; text-decoration-color: #ff0000\">│</span>\n",
       "<span style=\"color: #ff0000; text-decoration-color: #ff0000\">│</span>                                                                                                  <span style=\"color: #ff0000; text-decoration-color: #ff0000\">│</span>\n",
       "<span style=\"color: #ff0000; text-decoration-color: #ff0000\">│</span>   <span style=\"color: #7f7f7f; text-decoration-color: #7f7f7f\">111 </span><span style=\"color: #7f7f7f; text-decoration-color: #7f7f7f\">│   │   │   </span>namespace=namespace,                                                           <span style=\"color: #ff0000; text-decoration-color: #ff0000\">│</span>\n",
       "<span style=\"color: #ff0000; text-decoration-color: #ff0000\">│</span>   <span style=\"color: #7f7f7f; text-decoration-color: #7f7f7f\">112 </span><span style=\"color: #7f7f7f; text-decoration-color: #7f7f7f\">│   │   </span>)                                                                                  <span style=\"color: #ff0000; text-decoration-color: #ff0000\">│</span>\n",
       "<span style=\"color: #ff0000; text-decoration-color: #ff0000\">│</span>   <span style=\"color: #7f7f7f; text-decoration-color: #7f7f7f\">113 </span><span style=\"color: #7f7f7f; text-decoration-color: #7f7f7f\">│   │   </span>                                                                                   <span style=\"color: #ff0000; text-decoration-color: #ff0000\">│</span>\n",
       "<span style=\"color: #ff0000; text-decoration-color: #ff0000\">│</span> <span style=\"color: #800000; text-decoration-color: #800000\">❱ </span>114 <span style=\"color: #7f7f7f; text-decoration-color: #7f7f7f\">│   │   </span>endpoint = HPEndpoint.model_validate(response[<span style=\"color: #808000; text-decoration-color: #808000\">\"spec\"</span>], by_name=<span style=\"color: #0000ff; text-decoration-color: #0000ff\">True</span>)               <span style=\"color: #ff0000; text-decoration-color: #ff0000\">│</span>\n",
       "<span style=\"color: #ff0000; text-decoration-color: #ff0000\">│</span>   <span style=\"color: #7f7f7f; text-decoration-color: #7f7f7f\">115 </span><span style=\"color: #7f7f7f; text-decoration-color: #7f7f7f\">│   │   </span>status = response.get(<span style=\"color: #808000; text-decoration-color: #808000\">\"status\"</span>)                                                    <span style=\"color: #ff0000; text-decoration-color: #ff0000\">│</span>\n",
       "<span style=\"color: #ff0000; text-decoration-color: #ff0000\">│</span>   <span style=\"color: #7f7f7f; text-decoration-color: #7f7f7f\">116 </span><span style=\"color: #7f7f7f; text-decoration-color: #7f7f7f\">│   │   </span><span style=\"color: #0000ff; text-decoration-color: #0000ff\">if</span> status <span style=\"color: #ff00ff; text-decoration-color: #ff00ff\">is</span> <span style=\"color: #ff00ff; text-decoration-color: #ff00ff\">not</span> <span style=\"color: #0000ff; text-decoration-color: #0000ff\">None</span>:                                                             <span style=\"color: #ff0000; text-decoration-color: #ff0000\">│</span>\n",
       "<span style=\"color: #ff0000; text-decoration-color: #ff0000\">│</span>   <span style=\"color: #7f7f7f; text-decoration-color: #7f7f7f\">117 </span><span style=\"color: #7f7f7f; text-decoration-color: #7f7f7f\">│   │   │   </span><span style=\"color: #0000ff; text-decoration-color: #0000ff\">try</span>:                                                                           <span style=\"color: #ff0000; text-decoration-color: #ff0000\">│</span>\n",
       "<span style=\"color: #ff0000; text-decoration-color: #ff0000\">╰──────────────────────────────────────────────────────────────────────────────────────────────────╯</span>\n",
       "<span style=\"color: #ff0000; text-decoration-color: #ff0000; font-weight: bold\">TypeError: </span><span style=\"color: #e100e1; text-decoration-color: #e100e1; font-weight: bold\">model_validate</span><span style=\"font-weight: bold\">()</span> got an unexpected keyword argument <span style=\"color: #008700; text-decoration-color: #008700\">'by_name'</span>\n",
       "</pre>\n"
      ]
     },
     "metadata": {},
     "output_type": "display_data"
    }
   ],
   "execution_count": 5
  },
  {
   "cell_type": "code",
   "id": "59d65df2-fe0c-4e3c-b584-dfd10e9e7264",
   "metadata": {},
   "source": [
    "# invoke\n",
    "data='{\"inputs\": \"What is the capital of Japan?\"}'\n",
    "\n",
    "# invoke\n",
    "endpoint.invoke(body=data).body.read()"
   ],
   "outputs": [],
   "execution_count": null
  },
  {
   "cell_type": "code",
   "id": "d2b3a2ce-6531-4d8d-bd17-e1daabf557cc",
   "metadata": {},
   "source": [
    "# delete endpoint\n",
    "endpoint.delete()"
   ],
   "outputs": [],
   "execution_count": null
  }
 ],
 "metadata": {
  "kernelspec": {
   "display_name": "Python 3 (ipykernel)",
   "language": "python",
   "name": "python3"
  },
  "language_info": {
   "codemirror_mode": {
    "name": "ipython",
    "version": 3
   },
   "file_extension": ".py",
   "mimetype": "text/x-python",
   "name": "python",
   "nbconvert_exporter": "python",
   "pygments_lexer": "ipython3",
   "version": "3.12.3"
  }
 },
 "nbformat": 4,
 "nbformat_minor": 5
}
