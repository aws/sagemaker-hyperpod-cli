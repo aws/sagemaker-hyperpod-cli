{
 "cells": [
  {
   "cell_type": "markdown",
   "id": "9bc26143-07d7-4019-9237-7ba01b9e4691",
   "metadata": {},
   "source": [
    "## Inference Operator PySDK E2E Expereience (JumpStart model)"
   ]
  },
  {
   "cell_type": "markdown",
   "id": "1b3ce5c1-3c3d-4139-b7ae-042f360f3032",
   "metadata": {},
   "source": [
    "<b>Prerequisite:</b> Data scientists should list clusters and set cluster context"
   ]
  },
  {
   "cell_type": "code",
   "execution_count": null,
   "id": "e22c86d6-0d3d-4c51-bef0-3f4c59ce111c",
   "metadata": {},
   "outputs": [],
   "source": [
    "from sagemaker.hyperpod.hyperpod_manager import HyperPodManager"
   ]
  },
  {
   "cell_type": "code",
   "execution_count": null,
   "id": "6127538f-229d-48e5-b847-8fb0bb8d4414",
   "metadata": {},
   "outputs": [],
   "source": [
    "#Set region \n",
    "region = \"us-west-2\""
   ]
  },
  {
   "cell_type": "code",
   "execution_count": null,
   "id": "9d8f4b6d-7b57-4221-85fa-ecd90e96be1d",
   "metadata": {},
   "outputs": [],
   "source": [
    "# choose the HP cluster user works on\n",
    "HyperPodManager.set_context('sagemaker-hyperpod-eks-cluster-demo-05-01', region=region)"
   ]
  },
  {
   "cell_type": "markdown",
   "id": "b24d2326",
   "metadata": {},
   "source": [
    "### Select a JumpStart model from public hub"
   ]
  },
  {
   "cell_type": "code",
   "execution_count": null,
   "id": "a4091824",
   "metadata": {},
   "outputs": [],
   "source": [
    "# Import the helper module\n",
    "from jumpstart_public_hub_visualization_utils import get_all_public_hub_model_data\n",
    "\n",
    "# Load and display SageMaker public hub models\n",
    "get_all_public_hub_model_data(region=\"us-west-2\")"
   ]
  },
  {
   "cell_type": "markdown",
   "id": "a151e55e-0766-48c4-b6c8-734f19e7b6c8",
   "metadata": {},
   "source": [
    "### Create JumpStart model endpoint"
   ]
  },
  {
   "cell_type": "markdown",
   "id": "0628c745-b11e-49dc-a77a-440824d4b95e",
   "metadata": {},
   "source": [
    "#### Create from spec object"
   ]
  },
  {
   "cell_type": "code",
   "execution_count": null,
   "id": "c72a1053-6c06-4cb9-a9bc-f6c4ed6e3c59",
   "metadata": {},
   "outputs": [],
   "source": [
    "from sagemaker.hyperpod.inference.config.hp_jumpstart_endpoint_config import Model, Server,SageMakerEndpoint, TlsConfig, EnvironmentVariables\n",
    "from sagemaker.hyperpod.inference.hp_jumpstart_endpoint import HPJumpStartEndpoint\n",
    "import yaml\n",
    "import time"
   ]
  },
  {
   "cell_type": "markdown",
   "id": "97115d3b-228a-4a61-964d-eba872322bdd",
   "metadata": {},
   "source": [
    "<b>Note:</b> We auto-generate config class definitions above using script, such as `Model`, `Server`, `SageMakerEndpoint`. This is based on [Inference CRD file](https://code.amazon.com/packages/AWSCrescendoInferenceOperator/blobs/mainline/--/dist/config/crd/inference.sagemaker.aws.amazon.com_jumpstartmodels.yaml)."
   ]
  },
  {
   "cell_type": "code",
   "execution_count": null,
   "id": "314d48d2-8b6e-4be9-b5dc-31780dd0d1ca",
   "metadata": {},
   "outputs": [],
   "source": [
    "# create configs\n",
    "model=Model(\n",
    "    model_id='deepseek-llm-r1-distill-qwen-1-5b',\n",
    "    model_version='2.0.4',\n",
    ")\n",
    "server=Server(\n",
    "    instance_type='ml.g5.8xlarge',\n",
    ")\n",
    "endpoint_name=SageMakerEndpoint(name='deepsek7bsme-testing-jumpstart-7-1')\n",
    "tls_config=TlsConfig(tls_certificate_output_s3_uri='s3://tls-bucket-inf1-beta2')\n",
    "\n",
    "# create spec\n",
    "js_endpoint=HPJumpStartEndpoint(\n",
    "    model=model,\n",
    "    server=server,\n",
    "    sage_maker_endpoint=endpoint_name,\n",
    "    tls_config=tls_config,\n",
    ")"
   ]
  },
  {
   "cell_type": "code",
   "execution_count": null,
   "id": "021daf32-17b5-4d4f-8176-be4af042d69c",
   "metadata": {},
   "outputs": [],
   "source": [
    "# use spec to deploy\n",
    "js_endpoint.create()"
   ]
  },
  {
   "cell_type": "code",
   "execution_count": null,
   "id": "95296290-b22f-45cb-a262-b6382cefd558",
   "metadata": {},
   "outputs": [],
   "source": [
    "# poll status\n",
    "t = 0\n",
    "timeout = 600  # 600 seconds timeout  \n",
    "interval = 15  # poll every 15 seconds\n",
    "\n",
    "while t < timeout:\n",
    "    # use refresh to fetch latest status\n",
    "    js_endpoint.refresh()\n",
    "\n",
    "    try:\n",
    "        # deployment status will be available immediately\n",
    "        deployment_status = js_endpoint.status.deploymentStatus.deploymentObjectOverallState\n",
    "        if deployment_status== 'DeploymentFailed':\n",
    "            print('Deployment failed!')\n",
    "            break\n",
    "\n",
    "        # endpoint status will appear be available from refresh() at some point\n",
    "        endpoint_status = js_endpoint.status.endpoints.sagemaker.state\n",
    "        if endpoint_status == 'CreationCompleted':\n",
    "            print('Endpoint is available!')\n",
    "            break\n",
    "    except:\n",
    "        pass\n",
    "\n",
    "    time.sleep(interval)\n",
    "    t += interval\n",
    "    print('Refreshing instance status...')\n",
    "\n",
    "if t >= timeout:\n",
    "    print('Endpoint creation timed out!')"
   ]
  },
  {
   "cell_type": "code",
   "execution_count": null,
   "id": "f9114e49-d035-4e2c-a4fc-17fccbd42bd2",
   "metadata": {},
   "outputs": [],
   "source": [
    "js_endpoint.status.endpoints.sagemaker.state"
   ]
  },
  {
   "cell_type": "code",
   "execution_count": null,
   "id": "59699ae1-993e-4ec6-a4c4-6ca4feae49d0",
   "metadata": {},
   "outputs": [],
   "source": [
    "# print endpoint in yaml\n",
    "def print_yaml(endpoint):\n",
    "    print(yaml.dump(endpoint.model_dump(exclude_none=True)))"
   ]
  },
  {
   "cell_type": "code",
   "execution_count": null,
   "id": "4b8ff190-3452-456e-82c2-ecdab1f11676",
   "metadata": {
    "scrolled": true
   },
   "outputs": [],
   "source": [
    "# output is similar to kubectl get jumpstartmodels\n",
    "endpoint_list = HPJumpStartEndpoint.list()\n",
    "print_yaml(endpoint_list[0])"
   ]
  },
  {
   "cell_type": "code",
   "execution_count": null,
   "id": "081d1784-6542-4527-b152-4bbdce1c9845",
   "metadata": {
    "scrolled": true
   },
   "outputs": [],
   "source": [
    "# output is similar to kubectl describe jumpstartmodel\n",
    "endpoint = HPJumpStartEndpoint.get(name='deepseek-llm-r1-distill-qwen-1-5b')\n",
    "print_yaml(endpoint)"
   ]
  },
  {
   "cell_type": "markdown",
   "id": "e3556d41-d759-45d2-a8f5-450e781af2bd",
   "metadata": {},
   "source": [
    "### Invoke endpoint"
   ]
  },
  {
   "cell_type": "code",
   "execution_count": null,
   "id": "2a838f68-3560-4866-b747-9654a4cc3c37",
   "metadata": {},
   "outputs": [],
   "source": [
    "# invoke\n",
    "data='{\"inputs\":\"What is the capital of USA?\"}'\n",
    "\n",
    "endpoint.invoke(body=data).body.read()"
   ]
  },
  {
   "cell_type": "code",
   "execution_count": null,
   "id": "12572ee4-ae97-494c-86ba-9b47d591fd39",
   "metadata": {
    "scrolled": true
   },
   "outputs": [],
   "source": [
    "# get operator logs\n",
    "print(js_endpoint.get_operator_logs(since_hours=1))\n",
    "\n",
    "# get specific pod log\n",
    "# js_endpoint.get_logs(pod='pod-name')"
   ]
  },
  {
   "cell_type": "code",
   "execution_count": null,
   "id": "0f8ebf3b-c3b9-4cae-8ece-cd69e58cb153",
   "metadata": {},
   "outputs": [],
   "source": [
    "# delete endpoint\n",
    "endpoint.delete()"
   ]
  }
 ],
 "metadata": {
  "kernelspec": {
   "display_name": "Python 3",
   "language": "python",
   "name": "python3"
  },
  "language_info": {
   "codemirror_mode": {
    "name": "ipython",
    "version": 3
   },
   "file_extension": ".py",
   "mimetype": "text/x-python",
   "name": "python",
   "nbconvert_exporter": "python",
   "pygments_lexer": "ipython3",
   "version": "3.12.2"
  }
 },
 "nbformat": 4,
 "nbformat_minor": 5
}
