{
 "cells": [
  {
   "cell_type": "code",
   "execution_count": null,
   "id": "272e757b-fa70-479e-b7f2-c37eb8fba78a",
   "metadata": {},
   "outputs": [],
   "source": [
    "from sagemaker.hyperpod import list_clusters, set_cluster_context\n",
    "list_clusters(region='us-east-2')"
   ]
  },
  {
   "cell_type": "code",
   "execution_count": null,
   "id": "14cd61ab",
   "metadata": {},
   "outputs": [],
   "source": [
    "# choose the HP cluster\n",
    "set_cluster_context('<my-cluster>', region='us-east-2')"
   ]
  },
  {
   "cell_type": "code",
   "execution_count": null,
   "id": "7f9e50c7-497c-420d-8a8a-3f3eac2fd893",
   "metadata": {},
   "outputs": [],
   "source": [
    "from sagemaker.hyperpod.inference.config.hp_endpoint_config import CloudWatchTrigger, Dimensions, AutoScalingSpec, Metrics, S3Storage, ModelSourceConfig, TlsConfig, EnvironmentVariables, ModelInvocationPort, ModelVolumeMount, Resources, Worker\n",
    "from sagemaker.hyperpod.inference.hp_endpoint import HPEndpoint\n",
    "import yaml\n",
    "import time"
   ]
  },
  {
   "cell_type": "code",
   "execution_count": null,
   "id": "e2179fa7-49a4-4211-a42e-724e7f54d3c6",
   "metadata": {},
   "outputs": [],
   "source": [
    "tls_config=TlsConfig(tls_certificate_output_s3_uri='s3://<my-tls-bucket-name>')\n",
    "\n",
    "model_source_config = ModelSourceConfig(\n",
    "    model_source_type='s3',\n",
    "    model_location=\"<my-model-folder-in-s3>\",\n",
    "    s3_storage=S3Storage(\n",
    "        bucket_name='<my-model-artifacts-bucket>',\n",
    "        region='us-east-2',\n",
    "    ),\n",
    ")\n",
    "\n",
    "environment_variables = [\n",
    "    EnvironmentVariables(name=\"HF_MODEL_ID\", value=\"/opt/ml/model\"),\n",
    "    EnvironmentVariables(name=\"SAGEMAKER_PROGRAM\", value=\"inference.py\"),\n",
    "    EnvironmentVariables(name=\"SAGEMAKER_SUBMIT_DIRECTORY\", value=\"/opt/ml/model/code\"),\n",
    "    EnvironmentVariables(name=\"MODEL_CACHE_ROOT\", value=\"/opt/ml/model\"),\n",
    "    EnvironmentVariables(name=\"SAGEMAKER_ENV\", value=\"1\"),\n",
    "]\n",
    "\n",
    "worker = Worker(\n",
    "    image='763104351884.dkr.ecr.us-east-2.amazonaws.com/huggingface-pytorch-tgi-inference:2.4.0-tgi2.3.1-gpu-py311-cu124-ubuntu22.04-v2.0',\n",
    "    model_volume_mount=ModelVolumeMount(\n",
    "        name='model-weights',\n",
    "    ),\n",
    "    model_invocation_port=ModelInvocationPort(container_port=8080),\n",
    "    resources=Resources(\n",
    "            requests={\"cpu\": \"30000m\", \"nvidia.com/gpu\": 1, \"memory\": \"100Gi\"},\n",
    "            limits={\"nvidia.com/gpu\": 1}\n",
    "    ),\n",
    "    environment_variables=environment_variables,\n",
    ")"
   ]
  },
  {
   "cell_type": "code",
   "execution_count": null,
   "id": "a63a543e-1762-4035-b89a-76971a55ed21",
   "metadata": {},
   "outputs": [],
   "source": [
    "s3_endpoint = HPEndpoint(\n",
    "    endpoint_name='<my-endpoint-name>',\n",
    "    instance_type='ml.g5.8xlarge',\n",
    "    model_name='deepseek15b-test-model-name',  \n",
    "    tls_config=tls_config,\n",
    "    model_source_config=model_source_config,\n",
    "    worker=worker,\n",
    ")"
   ]
  },
  {
   "cell_type": "code",
   "execution_count": null,
   "id": "3b0ff3e2-217b-4785-974c-c9d1b4c173d4",
   "metadata": {},
   "outputs": [],
   "source": [
    "s3_endpoint.create()"
   ]
  },
  {
   "cell_type": "code",
   "execution_count": null,
   "id": "2f065099-8453-4481-a061-06344d36430a",
   "metadata": {},
   "outputs": [],
   "source": [
    "# poll status\n",
    "t = 0\n",
    "timeout = 600  # 600 seconds timeout  \n",
    "interval = 15  # poll every 15 seconds\n",
    "\n",
    "while t < timeout:\n",
    "    # use refresh to fetch latest status\n",
    "    s3_endpoint.refresh()\n",
    "    \n",
    "    print('Refreshing instance status...')\n",
    "\n",
    "    try:\n",
    "        # deployment status will be available immediately\n",
    "        deployment_status = s3_endpoint.status.deploymentStatus.deploymentObjectOverallState\n",
    "        if deployment_status== 'DeploymentFailed':\n",
    "            print('Deployment failed!')\n",
    "            break\n",
    "\n",
    "        # endpoint status will appear be available from refresh() at some point\n",
    "        endpoint_status = s3_endpoint.status.endpoints.sagemaker.state\n",
    "        if endpoint_status == 'CreationCompleted':\n",
    "            print('Endpoint is available!')\n",
    "            break\n",
    "    except:\n",
    "        pass\n",
    "\n",
    "    time.sleep(interval)\n",
    "    t += interval\n",
    "    \n",
    "if t >= timeout:\n",
    "    print('Endpoint creation timed out!')"
   ]
  },
  {
   "cell_type": "code",
   "execution_count": null,
   "id": "e1df0503-1041-48b5-aff7-2d040af8a0d3",
   "metadata": {},
   "outputs": [],
   "source": [
    "# print endpoint in yaml\n",
    "def print_yaml(endpoint):\n",
    "    print(yaml.dump(endpoint.model_dump(exclude_none=True)))"
   ]
  },
  {
   "cell_type": "markdown",
   "id": "12fae35b-e9c4-4bbd-b34c-a43a9049b929",
   "metadata": {},
   "source": [
    "### List all endpoints"
   ]
  },
  {
   "cell_type": "code",
   "execution_count": null,
   "id": "78f12fa4-7547-46fb-9680-3f0101f722d1",
   "metadata": {
    "scrolled": true
   },
   "outputs": [],
   "source": [
    "endpoint_list = HPEndpoint.list()\n",
    "print_yaml(endpoint_list[0])"
   ]
  },
  {
   "cell_type": "code",
   "execution_count": null,
   "id": "660e8d47",
   "metadata": {},
   "outputs": [],
   "source": [
    "s3_endpoint = HPEndpoint.get(name='<my-endpoint-name>')"
   ]
  },
  {
   "cell_type": "code",
   "execution_count": null,
   "id": "43f6d74f-c498-4cdc-80c6-374dc2deca40",
   "metadata": {
    "scrolled": true
   },
   "outputs": [],
   "source": [
    "# get operator logs\n",
    "print(s3_endpoint.get_operator_logs(since_hours=0.1))"
   ]
  },
  {
   "cell_type": "markdown",
   "id": "f7b9937c-bc5d-442e-a4ef-b83b2375cd8b",
   "metadata": {},
   "source": [
    "### Invoke endpoint"
   ]
  },
  {
   "cell_type": "code",
   "execution_count": null,
   "id": "549e857f-921b-40b0-8c75-2f894d44deb6",
   "metadata": {},
   "outputs": [],
   "source": [
    "data='{\"inputs\": \"What is the capital of Japan?\"}'\n",
    "\n",
    "# invoke\n",
    "s3_endpoint.invoke(body=data).body.read()"
   ]
  },
  {
   "cell_type": "code",
   "execution_count": null,
   "id": "1ae09856-89b2-4af8-bc21-d34d951f83dc",
   "metadata": {},
   "outputs": [],
   "source": [
    "# delete endpoint\n",
    "s3_endpoint.delete()"
   ]
  }
 ],
 "metadata": {
  "kernelspec": {
   "display_name": "Python 3 (ipykernel)",
   "language": "python",
   "name": "python3"
  },
  "language_info": {
   "codemirror_mode": {
    "name": "ipython",
    "version": 3
   },
   "file_extension": ".py",
   "mimetype": "text/x-python",
   "name": "python",
   "nbconvert_exporter": "python",
   "pygments_lexer": "ipython3",
   "version": "3.12.3"
  }
 },
 "nbformat": 4,
 "nbformat_minor": 5
}
