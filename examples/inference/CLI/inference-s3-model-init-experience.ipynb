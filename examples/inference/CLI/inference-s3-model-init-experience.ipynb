{
 "cells": [
  {
   "cell_type": "markdown",
   "metadata": {},
   "source": [
    "# SageMaker HyperPod Custom Endpoint - Init Experience\n",
    "\n",
    "This notebook demonstrates the complete end-to-end workflow for creating a SageMaker HyperPod Custom Endpoint using the HyperPod CLI. The init experience provides a guided approach to create Hyperpod Custom Endpoint with validation and configuration management.\n",
    "\n",
    "## Prerequisites\n",
    "\n",
    "- SageMaker HyperPod CLI installed (`pip install sagemaker-hyperpod`)\n",
    "- Hyperpod custom inference template installed (`pip install hyperpod-custom-inference-template`)\n",
    "- Hyperpod inference operator installed in your hyperpod cluster\n",
    "- Python 3.8+ environment\n",
    "\n",
    "## Workflow Overview\n",
    "\n",
    "1. **Initialize** - Create initial custom endpoint configuration\n",
    "2. **Configure** - Customize custom endpoint parameters\n",
    "3. **Validate** - Verify configuration before deployment\n",
    "4. **Create** - Deploy the custom endpoint creation\n",
    "5. **Monitor** - Check custom endpoint status and manage lifecycle\n"
   ]
  },
  {
   "cell_type": "markdown",
   "metadata": {},
   "source": [
    "## Step 0: Connect to your Hyperpod cluster\n",
    "\n",
    "Make sure you have installed hyperpod inference operator in your hyperpod cluster.\n"
   ]
  },
  {
   "cell_type": "code",
   "execution_count": null,
   "metadata": {},
   "outputs": [],
   "source": [
    "# List all available SageMaker HyperPod clusters in your account\n",
    "!hyp list-cluster"
   ]
  },
  {
   "cell_type": "code",
   "execution_count": null,
   "metadata": {},
   "outputs": [],
   "source": [
    "# Configure your local kubectl environment to interact with a specific SageMaker HyperPod cluster (and namespace)\n",
    "!hyp set-cluster-context --cluster-name ml-cluster-integ-test"
   ]
  },
  {
   "cell_type": "markdown",
   "metadata": {},
   "source": [
    "## Step 1: Initialize Custom Endpoint Configuration\n",
    "\n",
    "The `hyp init hyp-custom-endpoint` command creates a new configuration template with default settings. This generates a `config.yaml` file that serves as the foundation for your deployment.\n",
    "\n",
    "**What this does:**\n",
    "- Creates a `config.yaml` with default custom endpoint settings.\n",
    "- Creates a `k8s.jinja` which is a reference to the k8s payload that is going to be submitted with. Users can refer this to understand how the parameters are being used. \n",
    "- Creates a `README.md` which is a detailed explanation of the init experience.\n"
   ]
  },
  {
   "cell_type": "code",
   "execution_count": null,
   "metadata": {},
   "outputs": [],
   "source": [
    "# Initialize a new custom endpoint configuration in the current directory\n",
    "!hyp init hyp-custom-endpoint"
   ]
  },
  {
   "cell_type": "markdown",
   "metadata": {},
   "source": [
    "## Step 2: Configure Custom Endpoint Settings\n",
    "\n",
    "The `hyp configure` command allows you to customize your custom endpoint configuration.\n",
    "\n",
    "**Key configuration options:**\n",
    "- **model_name**: Name of model to create on SageMaker\n",
    "- **instance_type**: EC2 instance type for the inference server\n",
    "- **endpoint_name**: Name of SageMaker endpoint\n",
    "- **model_source_type**: Source type: fsx or s3\n",
    "- **image_uri**: Inference server image name\n",
    "- **container_port**: Port on which the model server listens\n",
    "- **model_volume_mount_name**: Path inside container for model volume"
   ]
  },
  {
   "cell_type": "code",
   "execution_count": null,
   "metadata": {},
   "outputs": [],
   "source": [
    "!hyp configure --endpoint-name my-custom-endpoint"
   ]
  },
  {
   "cell_type": "markdown",
   "metadata": {},
   "source": [
    "### View Current Configuration\n",
    "\n",
    "Let's examine the generated configuration to understand what will be deployed:"
   ]
  },
  {
   "cell_type": "code",
   "execution_count": null,
   "metadata": {},
   "outputs": [],
   "source": [
    "# Display the current configuration\n",
    "!cat config.yaml | head -50"
   ]
  },
  {
   "cell_type": "markdown",
   "metadata": {},
   "source": [
    "## Step 3: Validate Configuration\n",
    "\n",
    "The `hyp validate` command performs syntax validation of your custom endpoint configuration before deployment. This helps catch configuration errors early and ensures all prerequisites are met.\n"
   ]
  },
  {
   "cell_type": "code",
   "execution_count": null,
   "metadata": {},
   "outputs": [],
   "source": [
    "# Validate the custom endpoint configuration\n",
    "# This checks for potential issues before deployment\n",
    "!hyp validate"
   ]
  },
  {
   "cell_type": "markdown",
   "metadata": {},
   "source": [
    "## Step 4: Reset Configuration (Optional)\n",
    "\n",
    "The `hyp reset` command allows you to reset your configuration to defaults or clean up any partial deployments. This is useful when you want to start fresh or if validation reveals issues that require a clean slate.\n",
    "\n",
    "**Use cases for reset:**\n",
    "- Starting over with a clean configuration\n",
    "- Cleaning up after failed deployments\n",
    "- Switching between different custom endpoint configurations\n"
   ]
  },
  {
   "cell_type": "code",
   "execution_count": null,
   "metadata": {},
   "outputs": [],
   "source": [
    "# Reset configuration if needed (uncomment to use)\n",
    "# !hyp reset\n",
    "\n",
    "print(\"Reset command available if configuration changes are needed\")"
   ]
  },
  {
   "cell_type": "markdown",
   "metadata": {},
   "source": [
    "## Step 5: Create the Custom Endpoint\n",
    "\n",
    "The `hyp create` command deploys your HyperPod custom endpoint with configurations in the config.yaml. A timestamped folder is created in the `runs` folder, where the config.yaml and the values-injected k8s.yaml kubernates payload is saved.\n",
    "\n",
    "**Note:** The sagemaker custom endpoint typically takes 10-15 minutes to be created.\n"
   ]
  },
  {
   "cell_type": "code",
   "execution_count": null,
   "metadata": {},
   "outputs": [],
   "source": [
    "# Create the custom endpoint\n",
    "!hyp create"
   ]
  },
  {
   "cell_type": "markdown",
   "metadata": {},
   "source": [
    "## Step 6: Monitor Custom Endpoint Creation\n",
    "\n",
    "While the custom endpoint is being created, you can monitor its progress using the describe and list commands. These provide real-time status updates on the deployment process."
   ]
  },
  {
   "cell_type": "code",
   "execution_count": null,
   "metadata": {},
   "outputs": [],
   "source": [
    "# Check custom endpoint creation status\n",
    "import time\n",
    "\n",
    "print(\"Monitoring custom endpoint progress...\")\n",
    "for i in range(5):\n",
    "    print(f\"\\n--- Status Check {i+1} ---\")\n",
    "    !hyp describe hyp-custom-endpoint --name my-custom-endpoint\n",
    "    time.sleep(30)  # Wait 30 seconds between checks"
   ]
  },
  {
   "cell_type": "markdown",
   "metadata": {},
   "source": [
    "## Step 7: Invoke Sagemaker Endpoint\n",
    "\n",
    "After the sagemaker endpoint is successfully created, you can use `hyp invoke hyp-custom-endpoint` command to do basic invocation of sagemaker endpoint."
   ]
  },
  {
   "cell_type": "code",
   "execution_count": null,
   "metadata": {},
   "outputs": [],
   "source": [
    "!hyp invoke hyp-custom-endpoint --endpoint-name my-custom-endpoint --body '{\"inputs\":\"What is the capital of USA?\"}'"
   ]
  },
  {
   "cell_type": "markdown",
   "metadata": {},
   "source": [
    "## Step 8: Describe Custom Endpoint\n",
    "\n",
    "The `hyp describe hyp-custom-endpoint` command provides detailed information about your custom endpoint deployment status and sagemaker endpoint status."
   ]
  },
  {
   "cell_type": "code",
   "execution_count": null,
   "metadata": {},
   "outputs": [],
   "source": [
    "# Get detailed information about the custom endpoint\n",
    "!hyp describe hyp-custom-endpoint  --name my-custom-endpoint"
   ]
  },
  {
   "cell_type": "markdown",
   "metadata": {},
   "source": [
    "## Step 9: List All Custom Endpoints\n",
    "\n",
    "The `hyp list hyp-custom-endpoint` command shows all HyperPod custom endpoints in your account. This is useful for managing multiple custom endpoint deployments and getting an overview of your deployments.\n"
   ]
  },
  {
   "cell_type": "code",
   "execution_count": null,
   "metadata": {},
   "outputs": [],
   "source": [
    "# List all custom endpoints in your account\n",
    "!hyp list hyp-custom-endpoint"
   ]
  },
  {
   "cell_type": "markdown",
   "metadata": {},
   "source": [
    "## Next Steps\n",
    "\n",
    "After successfully creating your HyperPod Custom Endpoint, you can:\n",
    "\n",
    "1. **Monitor Resources**: Check pod status with `hyp list-pods hyp-custom-endpoint`\n",
    "2. **Access Logs**: View pod logs with `hyp get-logs hyp-custom-endpoint`\n",
    "\n",
    "\n",
    "## Troubleshooting\n",
    "\n",
    "If you encounter issues during Custom Endpoint creation:\n",
    "\n",
    "- Use `hyp get-operator-logs hyp-custom-endpoint` to check potential operator log errors\n",
    "- Verify AWS credentials and permissions\n",
    "- Ensure resource quotas are sufficient\n",
    "- Review the configuration file for syntax errors\n",
    "- Use `hyp validate` to identify configuration issues\n",
    "\n",
    "## Cleanup\n",
    "\n",
    "To avoid ongoing charges, remember to delete your custom endpoint when no longer needed:\n",
    "\n",
    "```bash\n",
    "hyp delete hyp-custom-endpoint --name my-custom-endpoint\n",
    "```\n"
   ]
  }
 ],
 "metadata": {
  "kernelspec": {
   "display_name": "Python 3",
   "language": "python",
   "name": "python3"
  },
  "language_info": {
   "codemirror_mode": {
    "name": "ipython",
    "version": 3
   },
   "file_extension": ".py",
   "mimetype": "text/x-python",
   "name": "python",
   "nbconvert_exporter": "python",
   "pygments_lexer": "ipython3",
   "version": "3.12.2"
  }
 },
 "nbformat": 4,
 "nbformat_minor": 4
}
