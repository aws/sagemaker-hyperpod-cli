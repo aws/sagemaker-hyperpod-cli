{
 "cells": [
  {
   "cell_type": "markdown",
   "id": "2d55c8b9",
   "metadata": {},
   "source": [
    "## Inference Operator CLI E2E Expereience (S3 custom model)"
   ]
  },
  {
   "cell_type": "markdown",
   "id": "6e281ddd",
   "metadata": {},
   "source": [
    "Make sure you have installed pacakges:\n",
    "- sagemaker-hyperpod\n",
    "- hyperpod-custom-inference-template"
   ]
  },
  {
   "cell_type": "code",
   "execution_count": null,
   "id": "da015cdb",
   "metadata": {},
   "outputs": [],
   "source": [
    "!hyp list-cluster --output table"
   ]
  },
  {
   "cell_type": "code",
   "execution_count": null,
   "id": "e9e1ce47",
   "metadata": {},
   "outputs": [],
   "source": [
    "!hyp set-cluster-context --cluster-name hp-cluster-for-inf-Beta2try1"
   ]
  },
  {
   "cell_type": "code",
   "execution_count": null,
   "id": "dfc2f047",
   "metadata": {},
   "outputs": [],
   "source": [
    "!hyp create hyp-custom-endpoint \\\n",
    "  --version 1.0 \\\n",
    "  --env \\\n",
    "    '{\"HF_MODEL_ID\":\"/opt/ml/model\", \\\n",
    "    \"SAGEMAKER_PROGRAM\":\"inference.py\", \\\n",
    "    \"SAGEMAKER_SUBMIT_DIRECTORY\":\"/opt/ml/model/code\", \\\n",
    "    \"MODEL_CACHE_ROOT\":\"/opt/ml/model\", \\\n",
    "    \"SAGEMAKER_ENV\":\"1\"}' \\\n",
    "  --model-source-type fsx \\\n",
    "  --model-location deepseek-1-5b \\\n",
    "  --fsx-file-system-id fs-0e6a92495c35a81f2 \\\n",
    "  --image-uri 763104351884.dkr.ecr.us-east-2.amazonaws.com/huggingface-pytorch-tgi-inference:2.4.0-tgi2.3.1-gpu-py311-cu124-ubuntu22.04-v2.0 \\\n",
    "  --model-volume-mount-name model-weights \\\n",
    "  --container-port 8080 \\\n",
    "  --resources-requests '{\"cpu\": \"4\", \"nvidia.com/gpu\": 1, \"memory\": \"32Gi\"}' \\\n",
    "  --resources-limits '{\"nvidia.com/gpu\": 1}' \\\n",
    "  --tls-certificate-output-s3-uri s3://tls-bucket-inf1-beta2 \\\n",
    "  --instance-type ml.g5.8xlarge \\\n",
    "  --endpoint-name endpoint-fsx-test-cli \\\n",
    "  --model-name deepseek15b-fsx-test-cli"
   ]
  },
  {
   "cell_type": "code",
   "execution_count": null,
   "id": "47a338fd",
   "metadata": {},
   "outputs": [],
   "source": [
    "!hyp list hyp-custom-endpoint"
   ]
  },
  {
   "cell_type": "code",
   "execution_count": null,
   "id": "2929171e",
   "metadata": {},
   "outputs": [],
   "source": [
    "!hyp describe hyp-custom-endpoint --name endpoint-fsx-test-cli"
   ]
  },
  {
   "cell_type": "code",
   "execution_count": null,
   "id": "74157664",
   "metadata": {},
   "outputs": [],
   "source": [
    "!hyp invoke hyp-custom-endpoint --endpoint-name endpoint-fsx-test-cli  --body '{\"inputs\":\"What is the capital of USA?\"}'"
   ]
  },
  {
   "cell_type": "code",
   "execution_count": null,
   "id": "52bfcde6",
   "metadata": {},
   "outputs": [],
   "source": [
    "!hyp delete hyp-custom-endpoint --name endpoint-fsx-test-cli"
   ]
  },
  {
   "cell_type": "code",
   "execution_count": null,
   "id": "60fea9e8",
   "metadata": {},
   "outputs": [],
   "source": [
    "!hyp get-operator-logs hyp-custom-endpoint --since-hours 0.5"
   ]
  },
  {
   "cell_type": "code",
   "execution_count": null,
   "id": "30a5cd60",
   "metadata": {},
   "outputs": [],
   "source": [
    "!hyp list-pods hyp-custom-endpoint"
   ]
  },
  {
   "cell_type": "code",
   "execution_count": null,
   "id": "1a7a0583",
   "metadata": {},
   "outputs": [],
   "source": [
    "!hyp get-logs hyp-custom-endpoint --pod-name <pod-name>"
   ]
  }
 ],
 "metadata": {
  "kernelspec": {
   "display_name": "Python 3",
   "language": "python",
   "name": "python3"
  },
  "language_info": {
   "codemirror_mode": {
    "name": "ipython",
    "version": 3
   },
   "file_extension": ".py",
   "mimetype": "text/x-python",
   "name": "python",
   "nbconvert_exporter": "python",
   "pygments_lexer": "ipython3",
   "version": "3.12.2"
  }
 },
 "nbformat": 4,
 "nbformat_minor": 5
}
