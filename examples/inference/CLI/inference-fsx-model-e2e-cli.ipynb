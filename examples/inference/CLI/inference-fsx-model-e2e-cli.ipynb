{
 "cells": [
  {
   "cell_type": "markdown",
   "id": "2d55c8b9",
   "metadata": {},
   "source": [
    "## Inference Operator CLI E2E Expereience (S3 custom model)"
   ]
  },
  {
   "cell_type": "markdown",
   "id": "6e281ddd",
   "metadata": {},
   "source": [
    "Make sure you have installed pacakges:\n",
    "- sagemaker-hyperpod\n",
    "- hyperpod-custom-inference-template"
   ]
  },
  {
   "cell_type": "code",
   "execution_count": null,
   "id": "da015cdb",
   "metadata": {},
   "outputs": [],
   "source": [
    "!hyp list-cluster --output table"
   ]
  },
  {
   "cell_type": "code",
   "execution_count": null,
   "id": "e9e1ce47",
   "metadata": {},
   "outputs": [],
   "source": [
    "!hyp set-cluster-context --cluster-name <cluster-name>"
   ]
  },
  {
   "cell_type": "code",
   "execution_count": null,
   "id": "dfc2f047",
   "metadata": {},
   "outputs": [],
   "source": [
    "!hyp create hyp-custom-endpoint \\\n",
    "  --version 1.0 \\\n",
    "  --env '{ \"key1\": \"val1\", \"key2\": \"val2\"}' \\\n",
    "  --model-source-type fsx \\\n",
    "  --model-location <model-location-folder> \\\n",
    "  --fsx-file-system-id <fsx-file-system-id> \\\n",
    "  --image-uri <image-uri> \\\n",
    "  --model-volume-mount-name model-weights \\\n",
    "  --container-port 8080 \\\n",
    "  --resources-requests '{\"cpu\": \"4\", \"nvidia.com/gpu\": 1, \"memory\": \"32Gi\"}' \\\n",
    "  --resources-limits '{\"nvidia.com/gpu\": 1}' \\\n",
    "  --tls-certificate-output-s3-uri s3://sample-bucket \\\n",
    "  --instance-type <instance-type> \\\n",
    "  --endpoint-name endpoint-fsx \\\n",
    "  --model-name <model-name>"
   ]
  },
  {
   "cell_type": "code",
   "execution_count": null,
   "id": "47a338fd",
   "metadata": {},
   "outputs": [],
   "source": [
    "!hyp list hyp-custom-endpoint"
   ]
  },
  {
   "cell_type": "code",
   "execution_count": null,
   "id": "2929171e",
   "metadata": {},
   "outputs": [],
   "source": [
    "!hyp describe hyp-custom-endpoint --name endpoint-fsx"
   ]
  },
  {
   "cell_type": "code",
   "execution_count": null,
   "id": "74157664",
   "metadata": {},
   "outputs": [],
   "source": [
    "!hyp invoke hyp-custom-endpoint --endpoint-name endpoint-fsx  --body '{\"inputs\":\"What is the capital of USA?\"}'"
   ]
  },
  {
   "cell_type": "code",
   "execution_count": null,
   "id": "52bfcde6",
   "metadata": {},
   "outputs": [],
   "source": [
    "!hyp delete hyp-custom-endpoint --name endpoint-fsx"
   ]
  },
  {
   "cell_type": "code",
   "execution_count": null,
   "id": "60fea9e8",
   "metadata": {},
   "outputs": [],
   "source": [
    "!hyp get-operator-logs hyp-custom-endpoint --since-hours 0.5"
   ]
  },
  {
   "cell_type": "code",
   "execution_count": null,
   "id": "30a5cd60",
   "metadata": {},
   "outputs": [],
   "source": [
    "!hyp list-pods hyp-custom-endpoint"
   ]
  },
  {
   "cell_type": "code",
   "execution_count": null,
   "id": "1a7a0583",
   "metadata": {},
   "outputs": [],
   "source": [
    "!hyp get-logs hyp-custom-endpoint --pod-name <pod-name>"
   ]
  }
 ],
 "metadata": {
  "kernelspec": {
   "display_name": "Python 3",
   "language": "python",
   "name": "python3"
  },
  "language_info": {
   "codemirror_mode": {
    "name": "ipython",
    "version": 3
   },
   "file_extension": ".py",
   "mimetype": "text/x-python",
   "name": "python",
   "nbconvert_exporter": "python",
   "pygments_lexer": "ipython3",
   "version": "3.12.2"
  }
 },
 "nbformat": 4,
 "nbformat_minor": 5
}
