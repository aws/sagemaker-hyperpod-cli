{
 "cells": [
  {
   "metadata": {},
   "cell_type": "markdown",
   "source": "",
   "id": "f28ecfc84cef3505"
  },
  {
   "cell_type": "markdown",
   "id": "2d275612",
   "metadata": {},
   "source": [
    "## Inference Operator CLI E2E Expereience (JumpStart model)"
   ]
  },
  {
   "cell_type": "markdown",
   "id": "f70ed187",
   "metadata": {},
   "source": [
    "Make sure you have installed pacakges:\n",
    "- sagemaker-hyperpod\n",
    "- hyperpod-jumpstart-inference-template"
   ]
  },
  {
   "cell_type": "code",
   "execution_count": null,
   "id": "b30debba",
   "metadata": {},
   "outputs": [],
   "source": [
    "!hyp list-cluster --output table"
   ]
  },
  {
   "cell_type": "code",
   "execution_count": null,
   "id": "41dcd2e5",
   "metadata": {},
   "outputs": [],
   "source": [
    "!hyp set-cluster-context --cluster-name hp-cluster-for-inf-Beta2try1"
   ]
  },
  {
   "cell_type": "code",
   "execution_count": null,
   "id": "4061a65b",
   "metadata": {},
   "outputs": [],
   "source": [
    "!hyp create hyp-jumpstart-endpoint \\\n",
    "  --version 1.0 \\\n",
    "  --model-id deepseek-llm-r1-distill-qwen-1-5b \\\n",
    "  --model-version 2.0.4 \\\n",
    "  --instance-type ml.g5.8xlarge \\\n",
    "  --endpoint-name endpoint-js-test-cli \\\n",
    "  --tls-certificate-output-s3-uri s3://tls-bucket-inf1-beta2"
   ]
  },
  {
   "cell_type": "code",
   "execution_count": null,
   "id": "19c32fa0",
   "metadata": {},
   "outputs": [],
   "source": [
    "!hyp list hyp-jumpstart-endpoint"
   ]
  },
  {
   "cell_type": "code",
   "execution_count": null,
   "id": "2c9b022d",
   "metadata": {},
   "outputs": [],
   "source": [
    "!hyp describe hyp-jumpstart-endpoint --name endpoint-js-test-cli"
   ]
  },
  {
   "cell_type": "code",
   "execution_count": null,
   "id": "598bf36c",
   "metadata": {},
   "outputs": [],
   "source": [
    "!hyp invoke hyp-jumpstart-endpoint --endpoint-name endpoint-js-test-cli --body '{\"inputs\":\"What is the capital of USA?\"}'"
   ]
  },
  {
   "cell_type": "code",
   "execution_count": null,
   "id": "dca0cb1f",
   "metadata": {},
   "outputs": [],
   "source": [
    "!hyp delete hyp-jumpstart-endpoint --name endpoint-js-test-cli"
   ]
  },
  {
   "cell_type": "code",
   "execution_count": null,
   "id": "64ae67bf",
   "metadata": {},
   "outputs": [],
   "source": [
    "!hyp get-operator-logs hyp-jumpstart-endpoint --since-hours 0.5"
   ]
  },
  {
   "cell_type": "code",
   "execution_count": null,
   "id": "eda4d1c4",
   "metadata": {},
   "outputs": [],
   "source": [
    "!hyp list-pods hyp-jumpstart-endpoint"
   ]
  },
  {
   "cell_type": "code",
   "execution_count": null,
   "id": "fcf2161f",
   "metadata": {},
   "outputs": [],
   "source": [
    "!hyp get-logs hyp-jumpstart-endpoint --pod-name <pod-name>"
   ]
  }
 ],
 "metadata": {
  "kernelspec": {
   "display_name": "Python 3",
   "language": "python",
   "name": "python3"
  },
  "language_info": {
   "codemirror_mode": {
    "name": "ipython",
    "version": 3
   },
   "file_extension": ".py",
   "mimetype": "text/x-python",
   "name": "python",
   "nbconvert_exporter": "python",
   "pygments_lexer": "ipython3",
   "version": "3.12.2"
  }
 },
 "nbformat": 4,
 "nbformat_minor": 5
}
