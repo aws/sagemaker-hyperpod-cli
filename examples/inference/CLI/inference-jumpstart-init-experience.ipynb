{
 "cells": [
  {
   "cell_type": "markdown",
   "metadata": {},
   "source": [
    "# SageMaker HyperPod Jumpstart Endpoint - Init Experience\n",
    "\n",
    "This notebook demonstrates the complete end-to-end workflow for creating a SageMaker HyperPod Jumpstart Endpoint using the HyperPod CLI. The init experience provides a guided approach to create Hyperpod Jumpstart Endpoint with validation and configuration management.\n",
    "\n",
    "## Prerequisites\n",
    "\n",
    "- SageMaker HyperPod CLI installed (`pip install sagemaker-hyperpod`)\n",
    "- Hyperpod jumpstart inference template installed (`pip install hyperpod-jumpstart-inference-template`)\n",
    "- Hyperpod inference operator installed in your hyperpod cluster\n",
    "- Python 3.8+ environment\n",
    "\n",
    "## Workflow Overview\n",
    "\n",
    "1. **Initialize** - Create initial jumpstart endpoint configuration\n",
    "2. **Configure** - Customize jumpstart endpoint parameters\n",
    "3. **Validate** - Verify configuration before deployment\n",
    "4. **Create** - Deploy the jumpstart endpoint creation\n",
    "5. **Monitor** - Check jumpstart endpoint status and manage lifecycle\n"
   ]
  },
  {
   "cell_type": "markdown",
   "metadata": {},
   "source": [
    "## Step 0: Connect to your Hyperpod cluster\n",
    "\n",
    "Make sure you have installed hyperpod inference operator in your hyperpod cluster.\n"
   ]
  },
  {
   "cell_type": "code",
   "execution_count": null,
   "metadata": {},
   "outputs": [],
   "source": [
    "# List all available SageMaker HyperPod clusters in your account\n",
    "!hyp list-cluster"
   ]
  },
  {
   "cell_type": "code",
   "execution_count": null,
   "metadata": {},
   "outputs": [],
   "source": [
    "# Configure your local kubectl environment to interact with a specific SageMaker HyperPod cluster (and namespace)\n",
    "!hyp set-cluster-context --cluster-name ml-cluster-integ-test"
   ]
  },
  {
   "cell_type": "markdown",
   "metadata": {},
   "source": [
    "## Step 1: Initialize Jumpstart Endpoint Configuration\n",
    "\n",
    "The `hyp init hyp-jumpstart-endpoint` command creates a new configuration template with default settings. This generates a `config.yaml` file that serves as the foundation for your deployment.\n",
    "\n",
    "**What this does:**\n",
    "- Creates a `config.yaml` with default jumpstart endpoint settings.\n",
    "- Creates a `k8s.jinja` which is a reference to the k8s payload that is going to be submitted with. Users can refer this to understand how the parameters are being used. \n",
    "- Creates a `README.md` which is a detailed explanation of the init experience.\n"
   ]
  },
  {
   "cell_type": "code",
   "execution_count": null,
   "metadata": {},
   "outputs": [],
   "source": [
    "# Initialize a new jumpstart endpoint configuration in the current directory\n",
    "!hyp init hyp-jumpstart-endpoint"
   ]
  },
  {
   "cell_type": "markdown",
   "metadata": {},
   "source": [
    "## Step 2: Configure Jumpstart Endpoint Settings\n",
    "\n",
    "The `hyp configure` command allows you to customize your jumpstart endpoint configuration.\n",
    "\n",
    "**Key configuration options:**\n",
    "- **model_id**: Unique identifier of the model within the SageMakerPublicHub\n",
    "- **instance_type**: EC2 instance type for the inference server\n",
    "- **endpoint_name**: Name of SageMaker endpoint"
   ]
  },
  {
   "cell_type": "code",
   "execution_count": null,
   "metadata": {},
   "outputs": [],
   "source": [
    "!hyp configure --endpoint-name my-jumpstart-endpoint"
   ]
  },
  {
   "cell_type": "markdown",
   "metadata": {},
   "source": [
    "### View Current Configuration\n",
    "\n",
    "Let's examine the generated configuration to understand what will be deployed:"
   ]
  },
  {
   "cell_type": "code",
   "execution_count": null,
   "metadata": {},
   "outputs": [],
   "source": [
    "# Display the current configuration\n",
    "!cat config.yaml | head -50"
   ]
  },
  {
   "cell_type": "markdown",
   "metadata": {},
   "source": [
    "## Step 3: Validate Configuration\n",
    "\n",
    "The `hyp validate` command performs syntax validation of your jumpstart endpoint configuration before deployment. This helps catch configuration errors early and ensures all prerequisites are met.\n"
   ]
  },
  {
   "cell_type": "code",
   "execution_count": null,
   "metadata": {},
   "outputs": [],
   "source": [
    "# Validate the jumpstart endpoint configuration\n",
    "# This checks for potential issues before deployment\n",
    "!hyp validate"
   ]
  },
  {
   "cell_type": "markdown",
   "metadata": {},
   "source": [
    "## Step 4: Reset Configuration (Optional)\n",
    "\n",
    "The `hyp reset` command allows you to reset your configuration to defaults or clean up any partial deployments. This is useful when you want to start fresh or if validation reveals issues that require a clean slate.\n",
    "\n",
    "**Use cases for reset:**\n",
    "- Starting over with a clean configuration\n",
    "- Cleaning up after failed deployments\n",
    "- Switching between different jumpstart endpoint configurations\n"
   ]
  },
  {
   "cell_type": "code",
   "execution_count": null,
   "metadata": {},
   "outputs": [],
   "source": [
    "# Reset configuration if needed (uncomment to use)\n",
    "# !hyp reset\n",
    "\n",
    "print(\"Reset command available if configuration changes are needed\")"
   ]
  },
  {
   "cell_type": "markdown",
   "metadata": {},
   "source": [
    "## Step 5: Create the Jumpstart Endpoint\n",
    "\n",
    "The `hyp create` command deploys your HyperPod jumpstart endpoint with configurations in the config.yaml. A timestamped folder is created in the `runs` folder, where the config.yaml and the values-injected k8s.yaml kubernates payload is saved.\n",
    "\n",
    "**Note:** The sagemaker jumpstart endpoint typically takes 10-15 minutes to be created.\n"
   ]
  },
  {
   "cell_type": "code",
   "execution_count": null,
   "metadata": {},
   "outputs": [],
   "source": [
    "# Create the jumpstart endpoint\n",
    "!hyp create"
   ]
  },
  {
   "cell_type": "markdown",
   "metadata": {},
   "source": [
    "## Step 6: Monitor Jumpstart Endpoint Creation\n",
    "\n",
    "While the jumpstart endpoint is being created, you can monitor its progress using the describe and list commands. These provide real-time status updates on the deployment process."
   ]
  },
  {
   "cell_type": "code",
   "execution_count": null,
   "metadata": {},
   "outputs": [],
   "source": [
    "# Check jumpstart endpoint creation status\n",
    "import time\n",
    "\n",
    "print(\"Monitoring jumpstart endpoint progress...\")\n",
    "for i in range(5):\n",
    "    print(f\"\\n--- Status Check {i+1} ---\")\n",
    "    !hyp describe hyp-jumpstart-endpoint --name my-jumpstart-endpoint\n",
    "    time.sleep(30)  # Wait 30 seconds between checks"
   ]
  },
  {
   "cell_type": "markdown",
   "metadata": {},
   "source": [
    "## Step 7: Invoke Sagemaker Endpoint\n",
    "\n",
    "After the sagemaker endpoint is successfully created, you can use `hyp invoke hyp-jumpstart-endpoint` command to do basic invocation of sagemaker endpoint."
   ]
  },
  {
   "cell_type": "code",
   "execution_count": null,
   "metadata": {},
   "outputs": [],
   "source": [
    "!hyp invoke hyp-jumpstart-endpoint --endpoint-name my-jumpstart-endpoint --body '{\"inputs\":\"What is the capital of USA?\"}'"
   ]
  },
  {
   "cell_type": "markdown",
   "metadata": {},
   "source": [
    "## Step 8: Describe Jumpstart Endpoint\n",
    "\n",
    "The `hyp describe hyp-jumpstart-endpoint` command provides detailed information about your jumpstart endpoint deployment status and sagemaker endpoint status."
   ]
  },
  {
   "cell_type": "code",
   "execution_count": null,
   "metadata": {},
   "outputs": [],
   "source": [
    "# Get detailed information about the jumpstart endpoint\n",
    "!hyp describe hyp-jumpstart-endpoint  --name my-jumpstart-endpoint"
   ]
  },
  {
   "cell_type": "markdown",
   "metadata": {},
   "source": [
    "## Step 9: List All Jumpstart Endpoints\n",
    "\n",
    "The `hyp list hyp-jumpstart-endpoint` command shows all HyperPod jumpstart endpoints in your account. This is useful for managing multiple jumpstart endpoint deployments and getting an overview of your deployments.\n"
   ]
  },
  {
   "cell_type": "code",
   "execution_count": null,
   "metadata": {},
   "outputs": [],
   "source": [
    "# List all jumpstart endpoints in your account\n",
    "!hyp list hyp-jumpstart-endpoint"
   ]
  },
  {
   "cell_type": "markdown",
   "metadata": {},
   "source": [
    "## Next Steps\n",
    "\n",
    "After successfully creating your HyperPod Jumpstart Endpoint, you can:\n",
    "\n",
    "1. **Monitor Resources**: Check pod status with `hyp list-pods hyp-jumpstart-endpoint`\n",
    "2. **Access Logs**: View pod logs with `hyp get-logs hyp-jumpstart-endpoint`\n",
    "\n",
    "\n",
    "## Troubleshooting\n",
    "\n",
    "If you encounter issues during Jumpstart Endpoint creation:\n",
    "\n",
    "- Use `hyp get-operator-logs hyp-jumpstart-endpoint` to check potential operator log errors\n",
    "- Verify AWS credentials and permissions\n",
    "- Ensure resource quotas are sufficient\n",
    "- Review the configuration file for syntax errors\n",
    "- Use `hyp validate` to identify configuration issues\n",
    "\n",
    "## Cleanup\n",
    "\n",
    "To avoid ongoing charges, remember to delete your jumpstart endpoint when no longer needed:\n",
    "\n",
    "```bash\n",
    "hyp delete hyp-jumpstart-endpoint --name my-jumpstart-endpoint\n",
    "```\n"
   ]
  }
 ],
 "metadata": {
  "kernelspec": {
   "display_name": "Python 3",
   "language": "python",
   "name": "python3"
  },
  "language_info": {
   "codemirror_mode": {
    "name": "ipython",
    "version": 3
   },
   "file_extension": ".py",
   "mimetype": "text/x-python",
   "name": "python",
   "nbconvert_exporter": "python",
   "pygments_lexer": "ipython3",
   "version": "3.12.2"
  }
 },
 "nbformat": 4,
 "nbformat_minor": 4
}
