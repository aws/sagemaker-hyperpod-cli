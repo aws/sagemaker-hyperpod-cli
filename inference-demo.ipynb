{
 "cells": [
  {
   "cell_type": "markdown",
   "id": "9bc26143-07d7-4019-9237-7ba01b9e4691",
   "metadata": {},
   "source": [
    "## Inference Operator PySDK E2E Expereience"
   ]
  },
  {
   "cell_type": "markdown",
   "id": "1b3ce5c1-3c3d-4139-b7ae-042f360f3032",
   "metadata": {},
   "source": [
    "<b>Prerequisite:</b> Data scientists should list clusters and set cluster context"
   ]
  },
  {
   "cell_type": "code",
   "execution_count": 1,
   "id": "e22c86d6-0d3d-4c51-bef0-3f4c59ce111c",
   "metadata": {},
   "outputs": [],
   "source": [
    "from sagemaker.hyperpod.hyperpod_manager import HyperPodManager\n",
    "hyperpod_manager = HyperPodManager()"
   ]
  },
  {
   "cell_type": "code",
   "execution_count": 2,
   "id": "6127538f-229d-48e5-b847-8fb0bb8d4414",
   "metadata": {},
   "outputs": [
    {
     "name": "stdout",
     "output_type": "stream",
     "text": [
      "Orchestrator    Cluster Name\n",
      "--------------  ----------------------------\n",
      "EKS             hp-cluster-for-inf-Beta2try1\n"
     ]
    }
   ],
   "source": [
    "hyperpod_manager.list_clusters(region='us-east-2')"
   ]
  },
  {
   "cell_type": "code",
   "execution_count": 3,
   "id": "9d8f4b6d-7b57-4221-85fa-ecd90e96be1d",
   "metadata": {},
   "outputs": [
    {
     "name": "stdout",
     "output_type": "stream",
     "text": [
      "Updated context arn:aws:eks:us-east-2:637423555983:cluster/EKSClusterForInf-Beta2try1 in /tmp/kubeconfig\n",
      "Successfully set current cluster: hp-cluster-for-inf-Beta2try1\n"
     ]
    }
   ],
   "source": [
    "# choose the HP cluster user works on\n",
    "hyperpod_manager.set_context('hp-cluster-for-inf-Beta2try1', region='us-east-2')"
   ]
  },
  {
   "cell_type": "code",
   "execution_count": 4,
   "id": "999aa080-78e2-4e2a-9f7f-8dfaaf70512f",
   "metadata": {},
   "outputs": [
    {
     "name": "stdout",
     "output_type": "stream",
     "text": [
      "Current Eks context is: arn:aws:eks:us-east-2:637423555983:cluster/EKSClusterForInf-Beta2try1\n"
     ]
    }
   ],
   "source": [
    "# verify current kube context\n",
    "hyperpod_manager.get_context()"
   ]
  },
  {
   "cell_type": "markdown",
   "id": "a151e55e-0766-48c4-b6c8-734f19e7b6c8",
   "metadata": {},
   "source": [
    "### Create JumpStart model endpoint"
   ]
  },
  {
   "cell_type": "markdown",
   "id": "0628c745-b11e-49dc-a77a-440824d4b95e",
   "metadata": {},
   "source": [
    "#### Create from spec object (for experienced users)"
   ]
  },
  {
   "cell_type": "code",
   "execution_count": 13,
   "id": "c72a1053-6c06-4cb9-a9bc-f6c4ed6e3c59",
   "metadata": {},
   "outputs": [],
   "source": [
    "from sagemaker.hyperpod.inference.config.hp_jumpstart_endpoint_config import Model, Server, SageMakerEndpoint, JumpStartModelSpec, TlsConfig\n",
    "from sagemaker.hyperpod.inference.hp_jumpstart_endpoint import HPJumpStartEndpoint"
   ]
  },
  {
   "cell_type": "code",
   "execution_count": 11,
   "id": "314d48d2-8b6e-4be9-b5dc-31780dd0d1ca",
   "metadata": {},
   "outputs": [],
   "source": [
    "# create configs\n",
    "model=Model(model_id='huggingface-eqa-bert-base-cased')\n",
    "server=Server(instance_type='ml.c5.2xlarge')\n",
    "endpoint_name=SageMakerEndpoint(name='huggingface-eqa-bert-base-cased')\n",
    "tls_config=TlsConfig(tls_certificate_output_s3_uri='s3://jupiter-bucket-beta-3/')\n",
    "\n",
    "# create spec\n",
    "spec=JumpStartModelSpec(\n",
    "    model=model,\n",
    "    server=server,\n",
    "    sage_maker_endpoint=endpoint_name,\n",
    "    tls_config=tls_config,\n",
    ")"
   ]
  },
  {
   "cell_type": "code",
   "execution_count": 12,
   "id": "021daf32-17b5-4d4f-8176-be4af042d69c",
   "metadata": {},
   "outputs": [
    {
     "name": "stdout",
     "output_type": "stream",
     "text": [
      "\n",
      "Deploying model and endpoint using config:\n",
      " apiVersion: inference.sagemaker.aws.amazon.com/v1alpha1\n",
      "kind: JumpStartModel\n",
      "metadata:\n",
      "  name: huggingface-eqa-bert-base-cased\n",
      "  namespace: default\n",
      "spec:\n",
      "  maxDeployTimeInSeconds: 3600\n",
      "  model:\n",
      "    acceptEula: false\n",
      "    modelHubName: SageMakerPublicHub\n",
      "    modelId: huggingface-eqa-bert-base-cased\n",
      "  replicas: 1\n",
      "  sageMakerEndpoint:\n",
      "    name: huggingface-eqa-bert-base-cased\n",
      "  server:\n",
      "    instanceType: ml.c5.2xlarge\n",
      "  tlsConfig:\n",
      "    tlsCertificateOutputS3Uri: s3://jupiter-bucket-beta-3/\n",
      "\n",
      "\n",
      "Deploying model and its endpoint... The process may take a few minutes.\n"
     ]
    }
   ],
   "source": [
    "# use spec to deploy\n",
    "HPJumpStartEndpoint.create_from_spec(spec=spec)"
   ]
  },
  {
   "cell_type": "markdown",
   "id": "97115d3b-228a-4a61-964d-eba872322bdd",
   "metadata": {},
   "source": [
    "<b>Note:</b> We auto-generate config class definitions above using script, such as `Model`, `Server`, `SageMakerEndpoint` and `JumpStartModelSpec`. This is based on [Inference CRD file](https://code.amazon.com/packages/AWSCrescendoInferenceOperator/blobs/mainline/--/dist/config/crd/inference.sagemaker.aws.amazon.com_jumpstartmodels.yaml)."
   ]
  },
  {
   "cell_type": "markdown",
   "id": "7755cd15-7013-496e-b7be-86edc366603f",
   "metadata": {},
   "source": [
    "#### Quick create with required inputs only"
   ]
  },
  {
   "cell_type": "code",
   "execution_count": null,
   "id": "4b94deed-1643-44b0-bf31-4799bf117e4f",
   "metadata": {},
   "outputs": [],
   "source": [
    "# fast create with fewer inputs\n",
    "'''\n",
    "JumpStartModelEndpoint.create(\n",
    "    namespace='default',\n",
    "    model_id='huggingface-eqa-bert-base-cased',\n",
    "    instance_type='ml.c5.2xlarge',\n",
    ")\n",
    "'''"
   ]
  },
  {
   "cell_type": "markdown",
   "id": "7c4afc00-f58e-4e41-804f-48ef1c7b7cba",
   "metadata": {},
   "source": [
    "#### Other operations"
   ]
  },
  {
   "cell_type": "code",
   "execution_count": 13,
   "id": "4b8ff190-3452-456e-82c2-ecdab1f11676",
   "metadata": {},
   "outputs": [
    {
     "name": "stdout",
     "output_type": "stream",
     "text": [
      "METADATA NAME                    CREATE TIME\n",
      "-------------------------------  --------------------\n",
      "huggingface-eqa-bert-base-cased  2025-06-19T23:21:48Z\n",
      "sklearn-regression-linear-4      2025-06-19T23:00:36Z\n"
     ]
    }
   ],
   "source": [
    "# output is similar to kubectl get jumpstartmodels\n",
    "HPJumpStartEndpoint.list_endpoints()"
   ]
  },
  {
   "cell_type": "code",
   "execution_count": 9,
   "id": "081d1784-6542-4527-b152-4bbdce1c9845",
   "metadata": {
    "scrolled": true
   },
   "outputs": [
    {
     "name": "stdout",
     "output_type": "stream",
     "text": [
      "apiVersion: inference.sagemaker.aws.amazon.com/v1alpha1\n",
      "kind: JumpStartModel\n",
      "metadata:\n",
      "  creationTimestamp: '2025-06-19T23:02:04Z'\n",
      "  finalizers:\n",
      "  - inference.sagemaker.aws.JumpStartModelFinalizer\n",
      "  generation: 1\n",
      "  name: huggingface-eqa-bert-base-cased\n",
      "  namespace: default\n",
      "  resourceVersion: '4622285'\n",
      "  uid: b7da864e-1d13-43c9-8b62-63fb1894d39e\n",
      "spec:\n",
      "  maxDeployTimeInSeconds: 3600\n",
      "  model:\n",
      "    acceptEula: false\n",
      "    modelHubName: SageMakerPublicHub\n",
      "    modelId: huggingface-eqa-bert-base-cased\n",
      "  replicas: 1\n",
      "  sageMakerEndpoint:\n",
      "    name: sklearn-regression-linear-endpoint\n",
      "  server:\n",
      "    instanceType: ml.c5.2xlarge\n",
      "  tlsConfig:\n",
      "    tlsCertificateOutputS3Uri: s3://jupiter-bucket-beta-3/\n",
      "status:\n",
      "  conditions:\n",
      "  - lastTransitionTime: '2025-06-19T23:04:54Z'\n",
      "    message: Deployment or SageMaker endpoint registration creation for model is in\n",
      "      progress\n",
      "    reason: InProgress\n",
      "    status: 'True'\n",
      "    type: DeploymentInProgress\n",
      "  - lastTransitionTime: '2025-06-19T23:07:28Z'\n",
      "    message: Deployment and SageMaker endpoint registration for model have been created\n",
      "      successfully\n",
      "    reason: Success\n",
      "    status: 'True'\n",
      "    type: DeploymentComplete\n",
      "  deploymentStatus:\n",
      "    deploymentObjectOverallState: DeploymentComplete\n",
      "    lastUpdated: '2025-06-19T23:07:28Z'\n",
      "    name: huggingface-eqa-bert-base-cased\n",
      "    reason: NativeDeploymentObjectFound\n",
      "    status:\n",
      "      availableReplicas: 1\n",
      "      conditions:\n",
      "      - lastTransitionTime: '2025-06-19T23:02:10Z'\n",
      "        lastUpdateTime: '2025-06-19T23:02:10Z'\n",
      "        message: Deployment has minimum availability.\n",
      "        reason: MinimumReplicasAvailable\n",
      "        status: 'True'\n",
      "        type: Available\n",
      "      - lastTransitionTime: '2025-06-19T23:02:05Z'\n",
      "        lastUpdateTime: '2025-06-19T23:02:10Z'\n",
      "        message: ReplicaSet \"huggingface-eqa-bert-base-cased-59c66d56bc\" has successfully\n",
      "          progressed.\n",
      "        reason: NewReplicaSetAvailable\n",
      "        status: 'True'\n",
      "        type: Progressing\n",
      "      observedGeneration: 1\n",
      "      readyReplicas: 1\n",
      "      replicas: 1\n",
      "      updatedReplicas: 1\n",
      "  endpoints:\n",
      "    sagemaker:\n",
      "      endpointArn: arn:aws:sagemaker:us-east-2:637423555983:endpoint/sklearn-regression-linear-endpoint\n",
      "      state: CreationCompleted\n",
      "  replicas: 1\n",
      "  selector: app=huggingface-eqa-bert-base-cased\n",
      "  state: DeploymentComplete\n",
      "  tlsCertificate:\n",
      "    certificateARN: arn:aws:acm:us-east-2:637423555983:certificate/868eec0a-535b-49b5-a556-588faec5a9b2\n",
      "    certificateName: huggingface-eqa-bert-base-cased-certificate\n",
      "    issuerName: huggingface-eqa-bert-base-cased-issuer\n",
      "    tlsCertificateOutputS3Bucket: jupiter-bucket-beta-3\n",
      "    tlsCertificateS3Keys:\n",
      "    - 52c2qrh8q2ts/default-huggingface-eqa-bert-base-cased-1750374124/huggingface-eqa-bert-base-cased-certificate-1781910133.pem\n",
      "\n"
     ]
    }
   ],
   "source": [
    "# output is similar to kubectl describe jumpstartmodel huggingface-eqa-bert-base-cased\n",
    "HPJumpStartEndpoint.describe_endpoint(name='huggingface-eqa-bert-base-cased', namespace='default')"
   ]
  },
  {
   "cell_type": "code",
   "execution_count": 10,
   "id": "5fe7f3fb-8202-4998-a6d8-3832845ffb31",
   "metadata": {},
   "outputs": [
    {
     "name": "stdout",
     "output_type": "stream",
     "text": [
      "Successful deleted model and endpoint!\n"
     ]
    }
   ],
   "source": [
    "HPJumpStartEndpoint.delete_endpoint(name='huggingface-eqa-bert-base-cased')"
   ]
  },
  {
   "cell_type": "markdown",
   "id": "e3556d41-d759-45d2-a8f5-450e781af2bd",
   "metadata": {},
   "source": [
    "### Invoke endpoint"
   ]
  },
  {
   "cell_type": "code",
   "execution_count": 11,
   "id": "1e4d196f-7d80-4304-82c3-dea426a157ce",
   "metadata": {},
   "outputs": [],
   "source": [
    "from sagemaker_core.resources import Endpoint"
   ]
  },
  {
   "cell_type": "code",
   "execution_count": 14,
   "id": "41c1015a-8bdd-4c99-a341-761c5bc157f0",
   "metadata": {
    "scrolled": true
   },
   "outputs": [],
   "source": [
    "# get sagemaker_core Endpoint object\n",
    "endpoint = HPJumpStartEndpoint.get_endpoint(\n",
    "    endpoint_name='huggingface-eqa-bert-base-cased',\n",
    "    region='us-east-2',\n",
    ")"
   ]
  },
  {
   "cell_type": "code",
   "execution_count": 15,
   "id": "2a838f68-3560-4866-b747-9654a4cc3c37",
   "metadata": {
    "scrolled": true
   },
   "outputs": [
    {
     "data": {
      "text/html": [
       "<pre style=\"white-space:pre;overflow-x:auto;line-height:normal;font-family:Menlo,'DejaVu Sans Mono',consolas,'Courier New',monospace\"><span style=\"color: #ff0000; text-decoration-color: #ff0000\">╭─────────────────────────────── </span><span style=\"color: #ff0000; text-decoration-color: #ff0000; font-weight: bold\">Traceback </span><span style=\"color: #ff7f7f; text-decoration-color: #ff7f7f; font-weight: bold\">(most recent call last)</span><span style=\"color: #ff0000; text-decoration-color: #ff0000\"> ────────────────────────────────╮</span>\n",
       "<span style=\"color: #ff0000; text-decoration-color: #ff0000\">│</span> in <span style=\"color: #00ff00; text-decoration-color: #00ff00\">&lt;module&gt;</span>:<span style=\"color: #0000ff; text-decoration-color: #0000ff\">2</span>                                                                                    <span style=\"color: #ff0000; text-decoration-color: #ff0000\">│</span>\n",
       "<span style=\"color: #ff0000; text-decoration-color: #ff0000\">│</span>                                                                                                  <span style=\"color: #ff0000; text-decoration-color: #ff0000\">│</span>\n",
       "<span style=\"color: #ff0000; text-decoration-color: #ff0000\">│</span>   <span style=\"color: #7f7f7f; text-decoration-color: #7f7f7f\">1 # invoke</span>                                                                                     <span style=\"color: #ff0000; text-decoration-color: #ff0000\">│</span>\n",
       "<span style=\"color: #ff0000; text-decoration-color: #ff0000\">│</span> <span style=\"color: #800000; text-decoration-color: #800000\">❱ </span>2 <span style=\"font-weight: bold; text-decoration: underline\">endpoint.invoke(body=</span><span style=\"color: #808000; text-decoration-color: #808000; font-weight: bold; text-decoration: underline\">'{\"question\" :\"what is the name of the planet?\",\"context\" : \"earth\"</span>     <span style=\"color: #ff0000; text-decoration-color: #ff0000\">│</span>\n",
       "<span style=\"color: #ff0000; text-decoration-color: #ff0000\">│</span>   <span style=\"color: #7f7f7f; text-decoration-color: #7f7f7f\">3 </span>                                                                                             <span style=\"color: #ff0000; text-decoration-color: #ff0000\">│</span>\n",
       "<span style=\"color: #ff0000; text-decoration-color: #ff0000\">│</span>                                                                                                  <span style=\"color: #ff0000; text-decoration-color: #ff0000\">│</span>\n",
       "<span style=\"color: #ff0000; text-decoration-color: #ff0000\">│</span> <span style=\"color: #bfbf7f; text-decoration-color: #bfbf7f\">/Users/jzhaoqwa/miniconda3/lib/python3.12/site-packages/sagemaker_core/main/</span><span style=\"color: #808000; text-decoration-color: #808000; font-weight: bold\">resources.py</span>:<span style=\"color: #0000ff; text-decoration-color: #0000ff\">136</span> in  <span style=\"color: #ff0000; text-decoration-color: #ff0000\">│</span>\n",
       "<span style=\"color: #ff0000; text-decoration-color: #ff0000\">│</span> <span style=\"color: #00ff00; text-decoration-color: #00ff00\">wrapper</span>                                                                                          <span style=\"color: #ff0000; text-decoration-color: #ff0000\">│</span>\n",
       "<span style=\"color: #ff0000; text-decoration-color: #ff0000\">│</span>                                                                                                  <span style=\"color: #ff0000; text-decoration-color: #ff0000\">│</span>\n",
       "<span style=\"color: #ff0000; text-decoration-color: #ff0000\">│</span>   <span style=\"color: #7f7f7f; text-decoration-color: #7f7f7f\">  133 </span><span style=\"color: #7f7f7f; text-decoration-color: #7f7f7f\">│   │   </span><span style=\"color: #ff00ff; text-decoration-color: #ff00ff; font-weight: bold\">@functools</span>.wraps(func)                                                           <span style=\"color: #ff0000; text-decoration-color: #ff0000\">│</span>\n",
       "<span style=\"color: #ff0000; text-decoration-color: #ff0000\">│</span>   <span style=\"color: #7f7f7f; text-decoration-color: #7f7f7f\">  134 </span><span style=\"color: #7f7f7f; text-decoration-color: #7f7f7f\">│   │   </span><span style=\"color: #0000ff; text-decoration-color: #0000ff\">def</span> <span style=\"color: #00ff00; text-decoration-color: #00ff00\">wrapper</span>(*args, **kwargs):                                                    <span style=\"color: #ff0000; text-decoration-color: #ff0000\">│</span>\n",
       "<span style=\"color: #ff0000; text-decoration-color: #ff0000\">│</span>   <span style=\"color: #7f7f7f; text-decoration-color: #7f7f7f\">  135 </span><span style=\"color: #7f7f7f; text-decoration-color: #7f7f7f\">│   │   │   </span>config = <span style=\"color: #00ffff; text-decoration-color: #00ffff\">dict</span>(arbitrary_types_allowed=<span style=\"color: #0000ff; text-decoration-color: #0000ff\">True</span>)                                  <span style=\"color: #ff0000; text-decoration-color: #ff0000\">│</span>\n",
       "<span style=\"color: #ff0000; text-decoration-color: #ff0000\">│</span> <span style=\"color: #800000; text-decoration-color: #800000\">❱ </span>  136 <span style=\"color: #7f7f7f; text-decoration-color: #7f7f7f\">│   │   │   </span><span style=\"color: #0000ff; text-decoration-color: #0000ff\">return</span> <span style=\"font-weight: bold; text-decoration: underline\">validate_call(config=config)(func)(*args, **kwargs)</span>                   <span style=\"color: #ff0000; text-decoration-color: #ff0000\">│</span>\n",
       "<span style=\"color: #ff0000; text-decoration-color: #ff0000\">│</span>   <span style=\"color: #7f7f7f; text-decoration-color: #7f7f7f\">  137 </span><span style=\"color: #7f7f7f; text-decoration-color: #7f7f7f\">│   │   </span>                                                                                 <span style=\"color: #ff0000; text-decoration-color: #ff0000\">│</span>\n",
       "<span style=\"color: #ff0000; text-decoration-color: #ff0000\">│</span>   <span style=\"color: #7f7f7f; text-decoration-color: #7f7f7f\">  138 </span><span style=\"color: #7f7f7f; text-decoration-color: #7f7f7f\">│   │   </span><span style=\"color: #0000ff; text-decoration-color: #0000ff\">return</span> wrapper                                                                   <span style=\"color: #ff0000; text-decoration-color: #ff0000\">│</span>\n",
       "<span style=\"color: #ff0000; text-decoration-color: #ff0000\">│</span>   <span style=\"color: #7f7f7f; text-decoration-color: #7f7f7f\">  139 </span>                                                                                         <span style=\"color: #ff0000; text-decoration-color: #ff0000\">│</span>\n",
       "<span style=\"color: #ff0000; text-decoration-color: #ff0000\">│</span>                                                                                                  <span style=\"color: #ff0000; text-decoration-color: #ff0000\">│</span>\n",
       "<span style=\"color: #ff0000; text-decoration-color: #ff0000\">│</span> <span style=\"color: #bfbf7f; text-decoration-color: #bfbf7f\">/Users/jzhaoqwa/miniconda3/lib/python3.12/site-packages/pydantic/_internal/</span><span style=\"color: #808000; text-decoration-color: #808000; font-weight: bold\">_validate_call.py</span>:<span style=\"color: #0000ff; text-decoration-color: #0000ff\">39</span>  <span style=\"color: #ff0000; text-decoration-color: #ff0000\">│</span>\n",
       "<span style=\"color: #ff0000; text-decoration-color: #ff0000\">│</span> in <span style=\"color: #00ff00; text-decoration-color: #00ff00\">wrapper_function</span>                                                                              <span style=\"color: #ff0000; text-decoration-color: #ff0000\">│</span>\n",
       "<span style=\"color: #ff0000; text-decoration-color: #ff0000\">│</span>                                                                                                  <span style=\"color: #ff0000; text-decoration-color: #ff0000\">│</span>\n",
       "<span style=\"color: #ff0000; text-decoration-color: #ff0000\">│</span>   <span style=\"color: #7f7f7f; text-decoration-color: #7f7f7f\"> 36 </span><span style=\"color: #7f7f7f; text-decoration-color: #7f7f7f\">│   │   </span>                                                                                   <span style=\"color: #ff0000; text-decoration-color: #ff0000\">│</span>\n",
       "<span style=\"color: #ff0000; text-decoration-color: #ff0000\">│</span>   <span style=\"color: #7f7f7f; text-decoration-color: #7f7f7f\"> 37 </span><span style=\"color: #7f7f7f; text-decoration-color: #7f7f7f\">│   │   </span><span style=\"color: #ff00ff; text-decoration-color: #ff00ff; font-weight: bold\">@functools</span>.wraps(wrapped)                                                          <span style=\"color: #ff0000; text-decoration-color: #ff0000\">│</span>\n",
       "<span style=\"color: #ff0000; text-decoration-color: #ff0000\">│</span>   <span style=\"color: #7f7f7f; text-decoration-color: #7f7f7f\"> 38 </span><span style=\"color: #7f7f7f; text-decoration-color: #7f7f7f\">│   │   </span><span style=\"color: #0000ff; text-decoration-color: #0000ff\">def</span> <span style=\"color: #00ff00; text-decoration-color: #00ff00\">wrapper_function</span>(*args, **kwargs):                                             <span style=\"color: #ff0000; text-decoration-color: #ff0000\">│</span>\n",
       "<span style=\"color: #ff0000; text-decoration-color: #ff0000\">│</span> <span style=\"color: #800000; text-decoration-color: #800000\">❱ </span> 39 <span style=\"color: #7f7f7f; text-decoration-color: #7f7f7f\">│   │   │   </span><span style=\"color: #0000ff; text-decoration-color: #0000ff\">return</span> <span style=\"font-weight: bold; text-decoration: underline\">wrapper(*args, **kwargs)</span>                                                <span style=\"color: #ff0000; text-decoration-color: #ff0000\">│</span>\n",
       "<span style=\"color: #ff0000; text-decoration-color: #ff0000\">│</span>   <span style=\"color: #7f7f7f; text-decoration-color: #7f7f7f\"> 40 </span><span style=\"color: #7f7f7f; text-decoration-color: #7f7f7f\">│   </span>                                                                                       <span style=\"color: #ff0000; text-decoration-color: #ff0000\">│</span>\n",
       "<span style=\"color: #ff0000; text-decoration-color: #ff0000\">│</span>   <span style=\"color: #7f7f7f; text-decoration-color: #7f7f7f\"> 41 </span><span style=\"color: #7f7f7f; text-decoration-color: #7f7f7f\">│   </span><span style=\"color: #7f7f7f; text-decoration-color: #7f7f7f\"># We need to manually update this because `partial` object has no `__name__` and `__</span>   <span style=\"color: #ff0000; text-decoration-color: #ff0000\">│</span>\n",
       "<span style=\"color: #ff0000; text-decoration-color: #ff0000\">│</span>   <span style=\"color: #7f7f7f; text-decoration-color: #7f7f7f\"> 42 </span><span style=\"color: #7f7f7f; text-decoration-color: #7f7f7f\">│   </span>wrapper_function.<span style=\"color: #ff0000; text-decoration-color: #ff0000\">__name__</span> = extract_function_name(wrapped)                             <span style=\"color: #ff0000; text-decoration-color: #ff0000\">│</span>\n",
       "<span style=\"color: #ff0000; text-decoration-color: #ff0000\">│</span>                                                                                                  <span style=\"color: #ff0000; text-decoration-color: #ff0000\">│</span>\n",
       "<span style=\"color: #ff0000; text-decoration-color: #ff0000\">│</span> <span style=\"color: #bfbf7f; text-decoration-color: #bfbf7f\">/Users/jzhaoqwa/miniconda3/lib/python3.12/site-packages/pydantic/_internal/</span><span style=\"color: #808000; text-decoration-color: #808000; font-weight: bold\">_validate_call.py</span>:<span style=\"color: #0000ff; text-decoration-color: #0000ff\">136</span> <span style=\"color: #ff0000; text-decoration-color: #ff0000\">│</span>\n",
       "<span style=\"color: #ff0000; text-decoration-color: #ff0000\">│</span> in <span style=\"color: #00ff00; text-decoration-color: #00ff00\">__call__</span>                                                                                      <span style=\"color: #ff0000; text-decoration-color: #ff0000\">│</span>\n",
       "<span style=\"color: #ff0000; text-decoration-color: #ff0000\">│</span>                                                                                                  <span style=\"color: #ff0000; text-decoration-color: #ff0000\">│</span>\n",
       "<span style=\"color: #ff0000; text-decoration-color: #ff0000\">│</span>   <span style=\"color: #7f7f7f; text-decoration-color: #7f7f7f\">133 </span><span style=\"color: #7f7f7f; text-decoration-color: #7f7f7f\">│   │   </span><span style=\"color: #0000ff; text-decoration-color: #0000ff\">if</span> <span style=\"color: #ff00ff; text-decoration-color: #ff00ff\">not</span> <span style=\"color: #00ffff; text-decoration-color: #00ffff\">self</span>.__pydantic_complete__:                                                 <span style=\"color: #ff0000; text-decoration-color: #ff0000\">│</span>\n",
       "<span style=\"color: #ff0000; text-decoration-color: #ff0000\">│</span>   <span style=\"color: #7f7f7f; text-decoration-color: #7f7f7f\">134 </span><span style=\"color: #7f7f7f; text-decoration-color: #7f7f7f\">│   │   │   </span><span style=\"color: #00ffff; text-decoration-color: #00ffff\">self</span>._create_validators()                                                      <span style=\"color: #ff0000; text-decoration-color: #ff0000\">│</span>\n",
       "<span style=\"color: #ff0000; text-decoration-color: #ff0000\">│</span>   <span style=\"color: #7f7f7f; text-decoration-color: #7f7f7f\">135 </span><span style=\"color: #7f7f7f; text-decoration-color: #7f7f7f\">│   │   </span>                                                                                   <span style=\"color: #ff0000; text-decoration-color: #ff0000\">│</span>\n",
       "<span style=\"color: #ff0000; text-decoration-color: #ff0000\">│</span> <span style=\"color: #800000; text-decoration-color: #800000\">❱ </span>136 <span style=\"color: #7f7f7f; text-decoration-color: #7f7f7f\">│   │   </span>res = <span style=\"color: #00ffff; text-decoration-color: #00ffff; font-weight: bold; text-decoration: underline\">self</span><span style=\"font-weight: bold; text-decoration: underline\">.__pydantic_validator__.validate_python(pydantic_core.ArgsKwargs(args,</span>   <span style=\"color: #ff0000; text-decoration-color: #ff0000\">│</span>\n",
       "<span style=\"color: #ff0000; text-decoration-color: #ff0000\">│</span>   <span style=\"color: #7f7f7f; text-decoration-color: #7f7f7f\">137 </span><span style=\"color: #7f7f7f; text-decoration-color: #7f7f7f\">│   │   </span><span style=\"color: #0000ff; text-decoration-color: #0000ff\">if</span> <span style=\"color: #00ffff; text-decoration-color: #00ffff\">self</span>.__return_pydantic_validator__:                                             <span style=\"color: #ff0000; text-decoration-color: #ff0000\">│</span>\n",
       "<span style=\"color: #ff0000; text-decoration-color: #ff0000\">│</span>   <span style=\"color: #7f7f7f; text-decoration-color: #7f7f7f\">138 </span><span style=\"color: #7f7f7f; text-decoration-color: #7f7f7f\">│   │   │   </span><span style=\"color: #0000ff; text-decoration-color: #0000ff\">return</span> <span style=\"color: #00ffff; text-decoration-color: #00ffff\">self</span>.__return_pydantic_validator__(res)                                 <span style=\"color: #ff0000; text-decoration-color: #ff0000\">│</span>\n",
       "<span style=\"color: #ff0000; text-decoration-color: #ff0000\">│</span>   <span style=\"color: #7f7f7f; text-decoration-color: #7f7f7f\">139 </span><span style=\"color: #7f7f7f; text-decoration-color: #7f7f7f\">│   │   </span><span style=\"color: #0000ff; text-decoration-color: #0000ff\">else</span>:                                                                              <span style=\"color: #ff0000; text-decoration-color: #ff0000\">│</span>\n",
       "<span style=\"color: #ff0000; text-decoration-color: #ff0000\">│</span>                                                                                                  <span style=\"color: #ff0000; text-decoration-color: #ff0000\">│</span>\n",
       "<span style=\"color: #ff0000; text-decoration-color: #ff0000\">│</span> <span style=\"color: #bfbf7f; text-decoration-color: #bfbf7f\">/Users/jzhaoqwa/miniconda3/lib/python3.12/site-packages/sagemaker_core/main/</span><span style=\"color: #808000; text-decoration-color: #808000; font-weight: bold\">resources.py</span>:<span style=\"color: #0000ff; text-decoration-color: #0000ff\">9450</span> in <span style=\"color: #ff0000; text-decoration-color: #ff0000\">│</span>\n",
       "<span style=\"color: #ff0000; text-decoration-color: #ff0000\">│</span> <span style=\"color: #00ff00; text-decoration-color: #00ff00\">invoke</span>                                                                                           <span style=\"color: #ff0000; text-decoration-color: #ff0000\">│</span>\n",
       "<span style=\"color: #ff0000; text-decoration-color: #ff0000\">│</span>                                                                                                  <span style=\"color: #ff0000; text-decoration-color: #ff0000\">│</span>\n",
       "<span style=\"color: #ff0000; text-decoration-color: #ff0000\">│</span>   <span style=\"color: #7f7f7f; text-decoration-color: #7f7f7f\"> 9447 </span><span style=\"color: #7f7f7f; text-decoration-color: #7f7f7f\">│   │   </span>)                                                                                <span style=\"color: #ff0000; text-decoration-color: #ff0000\">│</span>\n",
       "<span style=\"color: #ff0000; text-decoration-color: #ff0000\">│</span>   <span style=\"color: #7f7f7f; text-decoration-color: #7f7f7f\"> 9448 </span><span style=\"color: #7f7f7f; text-decoration-color: #7f7f7f\">│   │   </span>                                                                                 <span style=\"color: #ff0000; text-decoration-color: #ff0000\">│</span>\n",
       "<span style=\"color: #ff0000; text-decoration-color: #ff0000\">│</span>   <span style=\"color: #7f7f7f; text-decoration-color: #7f7f7f\"> 9449 </span><span style=\"color: #7f7f7f; text-decoration-color: #7f7f7f\">│   │   </span>logger.debug(<span style=\"color: #808000; text-decoration-color: #808000\">f\"Calling invoke_endpoint API\"</span>)                                     <span style=\"color: #ff0000; text-decoration-color: #ff0000\">│</span>\n",
       "<span style=\"color: #ff0000; text-decoration-color: #ff0000\">│</span> <span style=\"color: #800000; text-decoration-color: #800000\">❱ </span> 9450 <span style=\"color: #7f7f7f; text-decoration-color: #7f7f7f\">│   │   </span>response = <span style=\"font-weight: bold; text-decoration: underline\">client.invoke_endpoint(**operation_input_args)</span>                        <span style=\"color: #ff0000; text-decoration-color: #ff0000\">│</span>\n",
       "<span style=\"color: #ff0000; text-decoration-color: #ff0000\">│</span>   <span style=\"color: #7f7f7f; text-decoration-color: #7f7f7f\"> 9451 </span><span style=\"color: #7f7f7f; text-decoration-color: #7f7f7f\">│   │   </span>logger.debug(<span style=\"color: #808000; text-decoration-color: #808000\">f\"Response: {</span>response<span style=\"color: #808000; text-decoration-color: #808000\">}\"</span>)                                            <span style=\"color: #ff0000; text-decoration-color: #ff0000\">│</span>\n",
       "<span style=\"color: #ff0000; text-decoration-color: #ff0000\">│</span>   <span style=\"color: #7f7f7f; text-decoration-color: #7f7f7f\"> 9452 </span><span style=\"color: #7f7f7f; text-decoration-color: #7f7f7f\">│   │   </span>                                                                                 <span style=\"color: #ff0000; text-decoration-color: #ff0000\">│</span>\n",
       "<span style=\"color: #ff0000; text-decoration-color: #ff0000\">│</span>   <span style=\"color: #7f7f7f; text-decoration-color: #7f7f7f\"> 9453 </span><span style=\"color: #7f7f7f; text-decoration-color: #7f7f7f\">│   │   </span>transformed_response = transform(response, <span style=\"color: #808000; text-decoration-color: #808000\">\"InvokeEndpointOutput\"</span>)               <span style=\"color: #ff0000; text-decoration-color: #ff0000\">│</span>\n",
       "<span style=\"color: #ff0000; text-decoration-color: #ff0000\">│</span>                                                                                                  <span style=\"color: #ff0000; text-decoration-color: #ff0000\">│</span>\n",
       "<span style=\"color: #ff0000; text-decoration-color: #ff0000\">│</span> <span style=\"color: #bfbf7f; text-decoration-color: #bfbf7f\">/Users/jzhaoqwa/miniconda3/lib/python3.12/site-packages/botocore/</span><span style=\"color: #808000; text-decoration-color: #808000; font-weight: bold\">client.py</span>:<span style=\"color: #0000ff; text-decoration-color: #0000ff\">570</span> in <span style=\"color: #00ff00; text-decoration-color: #00ff00\">_api_call</span>      <span style=\"color: #ff0000; text-decoration-color: #ff0000\">│</span>\n",
       "<span style=\"color: #ff0000; text-decoration-color: #ff0000\">│</span>                                                                                                  <span style=\"color: #ff0000; text-decoration-color: #ff0000\">│</span>\n",
       "<span style=\"color: #ff0000; text-decoration-color: #ff0000\">│</span>   <span style=\"color: #7f7f7f; text-decoration-color: #7f7f7f\"> 567 </span><span style=\"color: #7f7f7f; text-decoration-color: #7f7f7f\">│   │   │   │   │   </span><span style=\"color: #808000; text-decoration-color: #808000\">f\"{</span>py_operation_name<span style=\"color: #808000; text-decoration-color: #808000\">}() only accepts keyword arguments.\"</span>              <span style=\"color: #ff0000; text-decoration-color: #ff0000\">│</span>\n",
       "<span style=\"color: #ff0000; text-decoration-color: #ff0000\">│</span>   <span style=\"color: #7f7f7f; text-decoration-color: #7f7f7f\"> 568 </span><span style=\"color: #7f7f7f; text-decoration-color: #7f7f7f\">│   │   │   │   </span>)                                                                         <span style=\"color: #ff0000; text-decoration-color: #ff0000\">│</span>\n",
       "<span style=\"color: #ff0000; text-decoration-color: #ff0000\">│</span>   <span style=\"color: #7f7f7f; text-decoration-color: #7f7f7f\"> 569 </span><span style=\"color: #7f7f7f; text-decoration-color: #7f7f7f\">│   │   │   </span><span style=\"color: #7f7f7f; text-decoration-color: #7f7f7f\"># The \"self\" in this scope is referring to the BaseClient.</span>                    <span style=\"color: #ff0000; text-decoration-color: #ff0000\">│</span>\n",
       "<span style=\"color: #ff0000; text-decoration-color: #ff0000\">│</span> <span style=\"color: #800000; text-decoration-color: #800000\">❱ </span> 570 <span style=\"color: #7f7f7f; text-decoration-color: #7f7f7f\">│   │   │   </span><span style=\"color: #0000ff; text-decoration-color: #0000ff\">return</span> <span style=\"color: #00ffff; text-decoration-color: #00ffff; font-weight: bold; text-decoration: underline\">self</span><span style=\"font-weight: bold; text-decoration: underline\">._make_api_call(operation_name, kwargs)</span>                            <span style=\"color: #ff0000; text-decoration-color: #ff0000\">│</span>\n",
       "<span style=\"color: #ff0000; text-decoration-color: #ff0000\">│</span>   <span style=\"color: #7f7f7f; text-decoration-color: #7f7f7f\"> 571 </span><span style=\"color: #7f7f7f; text-decoration-color: #7f7f7f\">│   │   </span>                                                                                  <span style=\"color: #ff0000; text-decoration-color: #ff0000\">│</span>\n",
       "<span style=\"color: #ff0000; text-decoration-color: #ff0000\">│</span>   <span style=\"color: #7f7f7f; text-decoration-color: #7f7f7f\"> 572 </span><span style=\"color: #7f7f7f; text-decoration-color: #7f7f7f\">│   │   </span>_api_call.<span style=\"color: #ff0000; text-decoration-color: #ff0000\">__name__</span> = <span style=\"color: #00ffff; text-decoration-color: #00ffff\">str</span>(py_operation_name)                                       <span style=\"color: #ff0000; text-decoration-color: #ff0000\">│</span>\n",
       "<span style=\"color: #ff0000; text-decoration-color: #ff0000\">│</span>   <span style=\"color: #7f7f7f; text-decoration-color: #7f7f7f\"> 573 </span>                                                                                          <span style=\"color: #ff0000; text-decoration-color: #ff0000\">│</span>\n",
       "<span style=\"color: #ff0000; text-decoration-color: #ff0000\">│</span>                                                                                                  <span style=\"color: #ff0000; text-decoration-color: #ff0000\">│</span>\n",
       "<span style=\"color: #ff0000; text-decoration-color: #ff0000\">│</span> <span style=\"color: #bfbf7f; text-decoration-color: #bfbf7f\">/Users/jzhaoqwa/miniconda3/lib/python3.12/site-packages/botocore/</span><span style=\"color: #808000; text-decoration-color: #808000; font-weight: bold\">context.py</span>:<span style=\"color: #0000ff; text-decoration-color: #0000ff\">124</span> in <span style=\"color: #00ff00; text-decoration-color: #00ff00\">wrapper</span>       <span style=\"color: #ff0000; text-decoration-color: #ff0000\">│</span>\n",
       "<span style=\"color: #ff0000; text-decoration-color: #ff0000\">│</span>                                                                                                  <span style=\"color: #ff0000; text-decoration-color: #ff0000\">│</span>\n",
       "<span style=\"color: #ff0000; text-decoration-color: #ff0000\">│</span>   <span style=\"color: #7f7f7f; text-decoration-color: #7f7f7f\">121 </span><span style=\"color: #7f7f7f; text-decoration-color: #7f7f7f\">│   │   │   </span><span style=\"color: #0000ff; text-decoration-color: #0000ff\">with</span> start_as_current_context():                                               <span style=\"color: #ff0000; text-decoration-color: #ff0000\">│</span>\n",
       "<span style=\"color: #ff0000; text-decoration-color: #ff0000\">│</span>   <span style=\"color: #7f7f7f; text-decoration-color: #7f7f7f\">122 </span><span style=\"color: #7f7f7f; text-decoration-color: #7f7f7f\">│   │   │   │   </span><span style=\"color: #0000ff; text-decoration-color: #0000ff\">if</span> hook:                                                                   <span style=\"color: #ff0000; text-decoration-color: #ff0000\">│</span>\n",
       "<span style=\"color: #ff0000; text-decoration-color: #ff0000\">│</span>   <span style=\"color: #7f7f7f; text-decoration-color: #7f7f7f\">123 </span><span style=\"color: #7f7f7f; text-decoration-color: #7f7f7f\">│   │   │   │   │   </span>hook()                                                                 <span style=\"color: #ff0000; text-decoration-color: #ff0000\">│</span>\n",
       "<span style=\"color: #ff0000; text-decoration-color: #ff0000\">│</span> <span style=\"color: #800000; text-decoration-color: #800000\">❱ </span>124 <span style=\"color: #7f7f7f; text-decoration-color: #7f7f7f\">│   │   │   │   </span><span style=\"color: #0000ff; text-decoration-color: #0000ff\">return</span> <span style=\"font-weight: bold; text-decoration: underline\">func(*args, **kwargs)</span>                                               <span style=\"color: #ff0000; text-decoration-color: #ff0000\">│</span>\n",
       "<span style=\"color: #ff0000; text-decoration-color: #ff0000\">│</span>   <span style=\"color: #7f7f7f; text-decoration-color: #7f7f7f\">125 </span><span style=\"color: #7f7f7f; text-decoration-color: #7f7f7f\">│   │   </span>                                                                                   <span style=\"color: #ff0000; text-decoration-color: #ff0000\">│</span>\n",
       "<span style=\"color: #ff0000; text-decoration-color: #ff0000\">│</span>   <span style=\"color: #7f7f7f; text-decoration-color: #7f7f7f\">126 </span><span style=\"color: #7f7f7f; text-decoration-color: #7f7f7f\">│   │   </span><span style=\"color: #0000ff; text-decoration-color: #0000ff\">return</span> wrapper                                                                     <span style=\"color: #ff0000; text-decoration-color: #ff0000\">│</span>\n",
       "<span style=\"color: #ff0000; text-decoration-color: #ff0000\">│</span>   <span style=\"color: #7f7f7f; text-decoration-color: #7f7f7f\">127 </span>                                                                                           <span style=\"color: #ff0000; text-decoration-color: #ff0000\">│</span>\n",
       "<span style=\"color: #ff0000; text-decoration-color: #ff0000\">│</span>                                                                                                  <span style=\"color: #ff0000; text-decoration-color: #ff0000\">│</span>\n",
       "<span style=\"color: #ff0000; text-decoration-color: #ff0000\">│</span> <span style=\"color: #bfbf7f; text-decoration-color: #bfbf7f\">/Users/jzhaoqwa/miniconda3/lib/python3.12/site-packages/botocore/</span><span style=\"color: #808000; text-decoration-color: #808000; font-weight: bold\">client.py</span>:<span style=\"color: #0000ff; text-decoration-color: #0000ff\">1031</span> in               <span style=\"color: #ff0000; text-decoration-color: #ff0000\">│</span>\n",
       "<span style=\"color: #ff0000; text-decoration-color: #ff0000\">│</span> <span style=\"color: #00ff00; text-decoration-color: #00ff00\">_make_api_call</span>                                                                                   <span style=\"color: #ff0000; text-decoration-color: #ff0000\">│</span>\n",
       "<span style=\"color: #ff0000; text-decoration-color: #ff0000\">│</span>                                                                                                  <span style=\"color: #ff0000; text-decoration-color: #ff0000\">│</span>\n",
       "<span style=\"color: #ff0000; text-decoration-color: #ff0000\">│</span>   <span style=\"color: #7f7f7f; text-decoration-color: #7f7f7f\">1028 </span><span style=\"color: #7f7f7f; text-decoration-color: #7f7f7f\">│   │   │   │   </span><span style=\"color: #808000; text-decoration-color: #808000\">\"Code\"</span>                                                                    <span style=\"color: #ff0000; text-decoration-color: #ff0000\">│</span>\n",
       "<span style=\"color: #ff0000; text-decoration-color: #ff0000\">│</span>   <span style=\"color: #7f7f7f; text-decoration-color: #7f7f7f\">1029 </span><span style=\"color: #7f7f7f; text-decoration-color: #7f7f7f\">│   │   │   </span>)                                                                             <span style=\"color: #ff0000; text-decoration-color: #ff0000\">│</span>\n",
       "<span style=\"color: #ff0000; text-decoration-color: #ff0000\">│</span>   <span style=\"color: #7f7f7f; text-decoration-color: #7f7f7f\">1030 </span><span style=\"color: #7f7f7f; text-decoration-color: #7f7f7f\">│   │   │   </span>error_class = <span style=\"color: #00ffff; text-decoration-color: #00ffff\">self</span>.exceptions.from_code(error_code)                           <span style=\"color: #ff0000; text-decoration-color: #ff0000\">│</span>\n",
       "<span style=\"color: #ff0000; text-decoration-color: #ff0000\">│</span> <span style=\"color: #800000; text-decoration-color: #800000\">❱ </span>1031 <span style=\"color: #7f7f7f; text-decoration-color: #7f7f7f\">│   │   │   </span><span style=\"color: #0000ff; text-decoration-color: #0000ff; font-weight: bold; text-decoration: underline\">raise</span><span style=\"font-weight: bold; text-decoration: underline\"> error_class(parsed_response, operation_name)</span>                            <span style=\"color: #ff0000; text-decoration-color: #ff0000\">│</span>\n",
       "<span style=\"color: #ff0000; text-decoration-color: #ff0000\">│</span>   <span style=\"color: #7f7f7f; text-decoration-color: #7f7f7f\">1032 </span><span style=\"color: #7f7f7f; text-decoration-color: #7f7f7f\">│   │   </span><span style=\"color: #0000ff; text-decoration-color: #0000ff\">else</span>:                                                                             <span style=\"color: #ff0000; text-decoration-color: #ff0000\">│</span>\n",
       "<span style=\"color: #ff0000; text-decoration-color: #ff0000\">│</span>   <span style=\"color: #7f7f7f; text-decoration-color: #7f7f7f\">1033 </span><span style=\"color: #7f7f7f; text-decoration-color: #7f7f7f\">│   │   │   </span><span style=\"color: #0000ff; text-decoration-color: #0000ff\">return</span> parsed_response                                                        <span style=\"color: #ff0000; text-decoration-color: #ff0000\">│</span>\n",
       "<span style=\"color: #ff0000; text-decoration-color: #ff0000\">│</span>   <span style=\"color: #7f7f7f; text-decoration-color: #7f7f7f\">1034 </span>                                                                                          <span style=\"color: #ff0000; text-decoration-color: #ff0000\">│</span>\n",
       "<span style=\"color: #ff0000; text-decoration-color: #ff0000\">╰──────────────────────────────────────────────────────────────────────────────────────────────────╯</span>\n",
       "<span style=\"color: #ff0000; text-decoration-color: #ff0000; font-weight: bold\">ModelError: </span>An error occurred <span style=\"font-weight: bold\">(</span>ModelError<span style=\"font-weight: bold\">)</span> when calling the InvokeEndpoint operation: Received server error <span style=\"font-weight: bold\">(</span><span style=\"color: #008080; text-decoration-color: #008080; font-weight: bold\">502</span><span style=\"font-weight: bold\">)</span> \n",
       "from primary with message \"<span style=\"font-weight: bold\">&lt;</span><span style=\"color: #e100e1; text-decoration-color: #e100e1; font-weight: bold\">html</span><span style=\"color: #000000; text-decoration-color: #000000\">&gt;</span>\n",
       "<span style=\"color: #000000; text-decoration-color: #000000\">&lt;head&gt;&lt;title&gt;</span><span style=\"color: #008080; text-decoration-color: #008080; font-weight: bold\">502</span><span style=\"color: #000000; text-decoration-color: #000000\"> Bad Gateway&lt;</span><span style=\"color: #e100e1; text-decoration-color: #e100e1\">/title</span><span style=\"color: #000000; text-decoration-color: #000000\">&gt;&lt;</span><span style=\"color: #e100e1; text-decoration-color: #e100e1\">/head</span><span style=\"color: #000000; text-decoration-color: #000000\">&gt;</span>\n",
       "<span style=\"color: #000000; text-decoration-color: #000000\">&lt;body&gt;</span>\n",
       "<span style=\"color: #000000; text-decoration-color: #000000\">&lt;center&gt;&lt;h1&gt;</span><span style=\"color: #008080; text-decoration-color: #008080; font-weight: bold\">502</span><span style=\"color: #000000; text-decoration-color: #000000\"> Bad Gateway&lt;</span><span style=\"color: #e100e1; text-decoration-color: #e100e1\">/h1</span><span style=\"color: #000000; text-decoration-color: #000000\">&gt;&lt;</span><span style=\"color: #e100e1; text-decoration-color: #e100e1\">/center</span><span style=\"color: #000000; text-decoration-color: #000000\">&gt;</span>\n",
       "<span style=\"color: #000000; text-decoration-color: #000000\">&lt;hr&gt;&lt;center&gt;nginx/</span><span style=\"color: #008080; text-decoration-color: #008080; font-weight: bold\">1.22</span><span style=\"color: #000000; text-decoration-color: #000000\">.</span><span style=\"color: #008080; text-decoration-color: #008080; font-weight: bold\">0</span><span style=\"color: #000000; text-decoration-color: #000000\">&lt;</span><span style=\"color: #e100e1; text-decoration-color: #e100e1\">/center</span><span style=\"color: #000000; text-decoration-color: #000000\">&gt;</span>\n",
       "<span style=\"color: #000000; text-decoration-color: #000000\">&lt;</span><span style=\"color: #e100e1; text-decoration-color: #e100e1\">/body</span><span style=\"color: #000000; text-decoration-color: #000000\">&gt;</span>\n",
       "<span style=\"color: #000000; text-decoration-color: #000000\">&lt;</span><span style=\"color: #e100e1; text-decoration-color: #e100e1\">/html</span><span style=\"font-weight: bold\">&gt;</span>\n",
       "\". See \n",
       "<span style=\"color: #0069ff; text-decoration-color: #0069ff; text-decoration: underline\">https://us-east-2.console.aws.amazon.com/cloudwatch/home?</span><span style=\"color: #0069ff; text-decoration-color: #0069ff; text-decoration: underline\">region</span><span style=\"color: #0069ff; text-decoration-color: #0069ff; text-decoration: underline\">=</span><span style=\"color: #0069ff; text-decoration-color: #0069ff; text-decoration: underline\">us</span><span style=\"color: #0069ff; text-decoration-color: #0069ff; text-decoration: underline\">-east-2#logEventViewer:</span><span style=\"color: #0069ff; text-decoration-color: #0069ff; text-decoration: underline\">group</span><span style=\"color: #0069ff; text-decoration-color: #0069ff; text-decoration: underline\">=/aws/sagemaker/Endpo</span>\n",
       "<span style=\"color: #0069ff; text-decoration-color: #0069ff; text-decoration: underline\">ints/huggingface-eqa-bert-base-cased</span> in account <span style=\"color: #008080; text-decoration-color: #008080; font-weight: bold\">637423555983</span> for more information.\n",
       "</pre>\n"
      ],
      "text/plain": [
       "\u001b[38;2;255;0;0m╭─\u001b[0m\u001b[38;2;255;0;0m──────────────────────────────\u001b[0m\u001b[38;2;255;0;0m \u001b[0m\u001b[1;38;2;255;0;0mTraceback \u001b[0m\u001b[1;2;38;2;255;0;0m(most recent call last)\u001b[0m\u001b[38;2;255;0;0m \u001b[0m\u001b[38;2;255;0;0m───────────────────────────────\u001b[0m\u001b[38;2;255;0;0m─╮\u001b[0m\n",
       "\u001b[38;2;255;0;0m│\u001b[0m in \u001b[92m<module>\u001b[0m:\u001b[94m2\u001b[0m                                                                                    \u001b[38;2;255;0;0m│\u001b[0m\n",
       "\u001b[38;2;255;0;0m│\u001b[0m                                                                                                  \u001b[38;2;255;0;0m│\u001b[0m\n",
       "\u001b[38;2;255;0;0m│\u001b[0m   \u001b[2m1 \u001b[0m\u001b[2m# invoke\u001b[0m                                                                                     \u001b[38;2;255;0;0m│\u001b[0m\n",
       "\u001b[38;2;255;0;0m│\u001b[0m \u001b[31m❱ \u001b[0m2 \u001b[1;4mendpoint.invoke(body=\u001b[0m\u001b[1;4;33m'\u001b[0m\u001b[1;4;33m{\u001b[0m\u001b[1;4;33m\"\u001b[0m\u001b[1;4;33mquestion\u001b[0m\u001b[1;4;33m\"\u001b[0m\u001b[1;4;33m :\u001b[0m\u001b[1;4;33m\"\u001b[0m\u001b[1;4;33mwhat is the name of the planet?\u001b[0m\u001b[1;4;33m\"\u001b[0m\u001b[1;4;33m,\u001b[0m\u001b[1;4;33m\"\u001b[0m\u001b[1;4;33mcontext\u001b[0m\u001b[1;4;33m\"\u001b[0m\u001b[1;4;33m : \u001b[0m\u001b[1;4;33m\"\u001b[0m\u001b[1;4;33mearth\u001b[0m\u001b[1;4;33m\"\u001b[0m     \u001b[38;2;255;0;0m│\u001b[0m\n",
       "\u001b[38;2;255;0;0m│\u001b[0m   \u001b[2m3 \u001b[0m                                                                                             \u001b[38;2;255;0;0m│\u001b[0m\n",
       "\u001b[38;2;255;0;0m│\u001b[0m                                                                                                  \u001b[38;2;255;0;0m│\u001b[0m\n",
       "\u001b[38;2;255;0;0m│\u001b[0m \u001b[2;33m/Users/jzhaoqwa/miniconda3/lib/python3.12/site-packages/sagemaker_core/main/\u001b[0m\u001b[1;33mresources.py\u001b[0m:\u001b[94m136\u001b[0m in  \u001b[38;2;255;0;0m│\u001b[0m\n",
       "\u001b[38;2;255;0;0m│\u001b[0m \u001b[92mwrapper\u001b[0m                                                                                          \u001b[38;2;255;0;0m│\u001b[0m\n",
       "\u001b[38;2;255;0;0m│\u001b[0m                                                                                                  \u001b[38;2;255;0;0m│\u001b[0m\n",
       "\u001b[38;2;255;0;0m│\u001b[0m   \u001b[2m  133 \u001b[0m\u001b[2m│   │   \u001b[0m\u001b[1;95m@functools\u001b[0m.wraps(func)                                                           \u001b[38;2;255;0;0m│\u001b[0m\n",
       "\u001b[38;2;255;0;0m│\u001b[0m   \u001b[2m  134 \u001b[0m\u001b[2m│   │   \u001b[0m\u001b[94mdef\u001b[0m \u001b[92mwrapper\u001b[0m(*args, **kwargs):                                                    \u001b[38;2;255;0;0m│\u001b[0m\n",
       "\u001b[38;2;255;0;0m│\u001b[0m   \u001b[2m  135 \u001b[0m\u001b[2m│   │   │   \u001b[0mconfig = \u001b[96mdict\u001b[0m(arbitrary_types_allowed=\u001b[94mTrue\u001b[0m)                                  \u001b[38;2;255;0;0m│\u001b[0m\n",
       "\u001b[38;2;255;0;0m│\u001b[0m \u001b[31m❱ \u001b[0m  136 \u001b[2m│   │   │   \u001b[0m\u001b[94mreturn\u001b[0m \u001b[1;4mvalidate_call(config=config)(func)(*args, **kwargs)\u001b[0m                   \u001b[38;2;255;0;0m│\u001b[0m\n",
       "\u001b[38;2;255;0;0m│\u001b[0m   \u001b[2m  137 \u001b[0m\u001b[2m│   │   \u001b[0m                                                                                 \u001b[38;2;255;0;0m│\u001b[0m\n",
       "\u001b[38;2;255;0;0m│\u001b[0m   \u001b[2m  138 \u001b[0m\u001b[2m│   │   \u001b[0m\u001b[94mreturn\u001b[0m wrapper                                                                   \u001b[38;2;255;0;0m│\u001b[0m\n",
       "\u001b[38;2;255;0;0m│\u001b[0m   \u001b[2m  139 \u001b[0m                                                                                         \u001b[38;2;255;0;0m│\u001b[0m\n",
       "\u001b[38;2;255;0;0m│\u001b[0m                                                                                                  \u001b[38;2;255;0;0m│\u001b[0m\n",
       "\u001b[38;2;255;0;0m│\u001b[0m \u001b[2;33m/Users/jzhaoqwa/miniconda3/lib/python3.12/site-packages/pydantic/_internal/\u001b[0m\u001b[1;33m_validate_call.py\u001b[0m:\u001b[94m39\u001b[0m  \u001b[38;2;255;0;0m│\u001b[0m\n",
       "\u001b[38;2;255;0;0m│\u001b[0m in \u001b[92mwrapper_function\u001b[0m                                                                              \u001b[38;2;255;0;0m│\u001b[0m\n",
       "\u001b[38;2;255;0;0m│\u001b[0m                                                                                                  \u001b[38;2;255;0;0m│\u001b[0m\n",
       "\u001b[38;2;255;0;0m│\u001b[0m   \u001b[2m 36 \u001b[0m\u001b[2m│   │   \u001b[0m                                                                                   \u001b[38;2;255;0;0m│\u001b[0m\n",
       "\u001b[38;2;255;0;0m│\u001b[0m   \u001b[2m 37 \u001b[0m\u001b[2m│   │   \u001b[0m\u001b[1;95m@functools\u001b[0m.wraps(wrapped)                                                          \u001b[38;2;255;0;0m│\u001b[0m\n",
       "\u001b[38;2;255;0;0m│\u001b[0m   \u001b[2m 38 \u001b[0m\u001b[2m│   │   \u001b[0m\u001b[94mdef\u001b[0m \u001b[92mwrapper_function\u001b[0m(*args, **kwargs):                                             \u001b[38;2;255;0;0m│\u001b[0m\n",
       "\u001b[38;2;255;0;0m│\u001b[0m \u001b[31m❱ \u001b[0m 39 \u001b[2m│   │   │   \u001b[0m\u001b[94mreturn\u001b[0m \u001b[1;4mwrapper(*args, **kwargs)\u001b[0m                                                \u001b[38;2;255;0;0m│\u001b[0m\n",
       "\u001b[38;2;255;0;0m│\u001b[0m   \u001b[2m 40 \u001b[0m\u001b[2m│   \u001b[0m                                                                                       \u001b[38;2;255;0;0m│\u001b[0m\n",
       "\u001b[38;2;255;0;0m│\u001b[0m   \u001b[2m 41 \u001b[0m\u001b[2m│   \u001b[0m\u001b[2m# We need to manually update this because `partial` object has no `__name__` and `__\u001b[0m   \u001b[38;2;255;0;0m│\u001b[0m\n",
       "\u001b[38;2;255;0;0m│\u001b[0m   \u001b[2m 42 \u001b[0m\u001b[2m│   \u001b[0mwrapper_function.\u001b[91m__name__\u001b[0m = extract_function_name(wrapped)                             \u001b[38;2;255;0;0m│\u001b[0m\n",
       "\u001b[38;2;255;0;0m│\u001b[0m                                                                                                  \u001b[38;2;255;0;0m│\u001b[0m\n",
       "\u001b[38;2;255;0;0m│\u001b[0m \u001b[2;33m/Users/jzhaoqwa/miniconda3/lib/python3.12/site-packages/pydantic/_internal/\u001b[0m\u001b[1;33m_validate_call.py\u001b[0m:\u001b[94m136\u001b[0m \u001b[38;2;255;0;0m│\u001b[0m\n",
       "\u001b[38;2;255;0;0m│\u001b[0m in \u001b[92m__call__\u001b[0m                                                                                      \u001b[38;2;255;0;0m│\u001b[0m\n",
       "\u001b[38;2;255;0;0m│\u001b[0m                                                                                                  \u001b[38;2;255;0;0m│\u001b[0m\n",
       "\u001b[38;2;255;0;0m│\u001b[0m   \u001b[2m133 \u001b[0m\u001b[2m│   │   \u001b[0m\u001b[94mif\u001b[0m \u001b[95mnot\u001b[0m \u001b[96mself\u001b[0m.__pydantic_complete__:                                                 \u001b[38;2;255;0;0m│\u001b[0m\n",
       "\u001b[38;2;255;0;0m│\u001b[0m   \u001b[2m134 \u001b[0m\u001b[2m│   │   │   \u001b[0m\u001b[96mself\u001b[0m._create_validators()                                                      \u001b[38;2;255;0;0m│\u001b[0m\n",
       "\u001b[38;2;255;0;0m│\u001b[0m   \u001b[2m135 \u001b[0m\u001b[2m│   │   \u001b[0m                                                                                   \u001b[38;2;255;0;0m│\u001b[0m\n",
       "\u001b[38;2;255;0;0m│\u001b[0m \u001b[31m❱ \u001b[0m136 \u001b[2m│   │   \u001b[0mres = \u001b[1;4;96mself\u001b[0m\u001b[1;4m.__pydantic_validator__.validate_python(pydantic_core.ArgsKwargs(args,\u001b[0m   \u001b[38;2;255;0;0m│\u001b[0m\n",
       "\u001b[38;2;255;0;0m│\u001b[0m   \u001b[2m137 \u001b[0m\u001b[2m│   │   \u001b[0m\u001b[94mif\u001b[0m \u001b[96mself\u001b[0m.__return_pydantic_validator__:                                             \u001b[38;2;255;0;0m│\u001b[0m\n",
       "\u001b[38;2;255;0;0m│\u001b[0m   \u001b[2m138 \u001b[0m\u001b[2m│   │   │   \u001b[0m\u001b[94mreturn\u001b[0m \u001b[96mself\u001b[0m.__return_pydantic_validator__(res)                                 \u001b[38;2;255;0;0m│\u001b[0m\n",
       "\u001b[38;2;255;0;0m│\u001b[0m   \u001b[2m139 \u001b[0m\u001b[2m│   │   \u001b[0m\u001b[94melse\u001b[0m:                                                                              \u001b[38;2;255;0;0m│\u001b[0m\n",
       "\u001b[38;2;255;0;0m│\u001b[0m                                                                                                  \u001b[38;2;255;0;0m│\u001b[0m\n",
       "\u001b[38;2;255;0;0m│\u001b[0m \u001b[2;33m/Users/jzhaoqwa/miniconda3/lib/python3.12/site-packages/sagemaker_core/main/\u001b[0m\u001b[1;33mresources.py\u001b[0m:\u001b[94m9450\u001b[0m in \u001b[38;2;255;0;0m│\u001b[0m\n",
       "\u001b[38;2;255;0;0m│\u001b[0m \u001b[92minvoke\u001b[0m                                                                                           \u001b[38;2;255;0;0m│\u001b[0m\n",
       "\u001b[38;2;255;0;0m│\u001b[0m                                                                                                  \u001b[38;2;255;0;0m│\u001b[0m\n",
       "\u001b[38;2;255;0;0m│\u001b[0m   \u001b[2m 9447 \u001b[0m\u001b[2m│   │   \u001b[0m)                                                                                \u001b[38;2;255;0;0m│\u001b[0m\n",
       "\u001b[38;2;255;0;0m│\u001b[0m   \u001b[2m 9448 \u001b[0m\u001b[2m│   │   \u001b[0m                                                                                 \u001b[38;2;255;0;0m│\u001b[0m\n",
       "\u001b[38;2;255;0;0m│\u001b[0m   \u001b[2m 9449 \u001b[0m\u001b[2m│   │   \u001b[0mlogger.debug(\u001b[33mf\u001b[0m\u001b[33m\"\u001b[0m\u001b[33mCalling invoke_endpoint API\u001b[0m\u001b[33m\"\u001b[0m)                                     \u001b[38;2;255;0;0m│\u001b[0m\n",
       "\u001b[38;2;255;0;0m│\u001b[0m \u001b[31m❱ \u001b[0m 9450 \u001b[2m│   │   \u001b[0mresponse = \u001b[1;4mclient.invoke_endpoint(**operation_input_args)\u001b[0m                        \u001b[38;2;255;0;0m│\u001b[0m\n",
       "\u001b[38;2;255;0;0m│\u001b[0m   \u001b[2m 9451 \u001b[0m\u001b[2m│   │   \u001b[0mlogger.debug(\u001b[33mf\u001b[0m\u001b[33m\"\u001b[0m\u001b[33mResponse: \u001b[0m\u001b[33m{\u001b[0mresponse\u001b[33m}\u001b[0m\u001b[33m\"\u001b[0m)                                            \u001b[38;2;255;0;0m│\u001b[0m\n",
       "\u001b[38;2;255;0;0m│\u001b[0m   \u001b[2m 9452 \u001b[0m\u001b[2m│   │   \u001b[0m                                                                                 \u001b[38;2;255;0;0m│\u001b[0m\n",
       "\u001b[38;2;255;0;0m│\u001b[0m   \u001b[2m 9453 \u001b[0m\u001b[2m│   │   \u001b[0mtransformed_response = transform(response, \u001b[33m\"\u001b[0m\u001b[33mInvokeEndpointOutput\u001b[0m\u001b[33m\"\u001b[0m)               \u001b[38;2;255;0;0m│\u001b[0m\n",
       "\u001b[38;2;255;0;0m│\u001b[0m                                                                                                  \u001b[38;2;255;0;0m│\u001b[0m\n",
       "\u001b[38;2;255;0;0m│\u001b[0m \u001b[2;33m/Users/jzhaoqwa/miniconda3/lib/python3.12/site-packages/botocore/\u001b[0m\u001b[1;33mclient.py\u001b[0m:\u001b[94m570\u001b[0m in \u001b[92m_api_call\u001b[0m      \u001b[38;2;255;0;0m│\u001b[0m\n",
       "\u001b[38;2;255;0;0m│\u001b[0m                                                                                                  \u001b[38;2;255;0;0m│\u001b[0m\n",
       "\u001b[38;2;255;0;0m│\u001b[0m   \u001b[2m 567 \u001b[0m\u001b[2m│   │   │   │   │   \u001b[0m\u001b[33mf\u001b[0m\u001b[33m\"\u001b[0m\u001b[33m{\u001b[0mpy_operation_name\u001b[33m}\u001b[0m\u001b[33m() only accepts keyword arguments.\u001b[0m\u001b[33m\"\u001b[0m              \u001b[38;2;255;0;0m│\u001b[0m\n",
       "\u001b[38;2;255;0;0m│\u001b[0m   \u001b[2m 568 \u001b[0m\u001b[2m│   │   │   │   \u001b[0m)                                                                         \u001b[38;2;255;0;0m│\u001b[0m\n",
       "\u001b[38;2;255;0;0m│\u001b[0m   \u001b[2m 569 \u001b[0m\u001b[2m│   │   │   \u001b[0m\u001b[2m# The \"self\" in this scope is referring to the BaseClient.\u001b[0m                    \u001b[38;2;255;0;0m│\u001b[0m\n",
       "\u001b[38;2;255;0;0m│\u001b[0m \u001b[31m❱ \u001b[0m 570 \u001b[2m│   │   │   \u001b[0m\u001b[94mreturn\u001b[0m \u001b[1;4;96mself\u001b[0m\u001b[1;4m._make_api_call(operation_name, kwargs)\u001b[0m                            \u001b[38;2;255;0;0m│\u001b[0m\n",
       "\u001b[38;2;255;0;0m│\u001b[0m   \u001b[2m 571 \u001b[0m\u001b[2m│   │   \u001b[0m                                                                                  \u001b[38;2;255;0;0m│\u001b[0m\n",
       "\u001b[38;2;255;0;0m│\u001b[0m   \u001b[2m 572 \u001b[0m\u001b[2m│   │   \u001b[0m_api_call.\u001b[91m__name__\u001b[0m = \u001b[96mstr\u001b[0m(py_operation_name)                                       \u001b[38;2;255;0;0m│\u001b[0m\n",
       "\u001b[38;2;255;0;0m│\u001b[0m   \u001b[2m 573 \u001b[0m                                                                                          \u001b[38;2;255;0;0m│\u001b[0m\n",
       "\u001b[38;2;255;0;0m│\u001b[0m                                                                                                  \u001b[38;2;255;0;0m│\u001b[0m\n",
       "\u001b[38;2;255;0;0m│\u001b[0m \u001b[2;33m/Users/jzhaoqwa/miniconda3/lib/python3.12/site-packages/botocore/\u001b[0m\u001b[1;33mcontext.py\u001b[0m:\u001b[94m124\u001b[0m in \u001b[92mwrapper\u001b[0m       \u001b[38;2;255;0;0m│\u001b[0m\n",
       "\u001b[38;2;255;0;0m│\u001b[0m                                                                                                  \u001b[38;2;255;0;0m│\u001b[0m\n",
       "\u001b[38;2;255;0;0m│\u001b[0m   \u001b[2m121 \u001b[0m\u001b[2m│   │   │   \u001b[0m\u001b[94mwith\u001b[0m start_as_current_context():                                               \u001b[38;2;255;0;0m│\u001b[0m\n",
       "\u001b[38;2;255;0;0m│\u001b[0m   \u001b[2m122 \u001b[0m\u001b[2m│   │   │   │   \u001b[0m\u001b[94mif\u001b[0m hook:                                                                   \u001b[38;2;255;0;0m│\u001b[0m\n",
       "\u001b[38;2;255;0;0m│\u001b[0m   \u001b[2m123 \u001b[0m\u001b[2m│   │   │   │   │   \u001b[0mhook()                                                                 \u001b[38;2;255;0;0m│\u001b[0m\n",
       "\u001b[38;2;255;0;0m│\u001b[0m \u001b[31m❱ \u001b[0m124 \u001b[2m│   │   │   │   \u001b[0m\u001b[94mreturn\u001b[0m \u001b[1;4mfunc(*args, **kwargs)\u001b[0m                                               \u001b[38;2;255;0;0m│\u001b[0m\n",
       "\u001b[38;2;255;0;0m│\u001b[0m   \u001b[2m125 \u001b[0m\u001b[2m│   │   \u001b[0m                                                                                   \u001b[38;2;255;0;0m│\u001b[0m\n",
       "\u001b[38;2;255;0;0m│\u001b[0m   \u001b[2m126 \u001b[0m\u001b[2m│   │   \u001b[0m\u001b[94mreturn\u001b[0m wrapper                                                                     \u001b[38;2;255;0;0m│\u001b[0m\n",
       "\u001b[38;2;255;0;0m│\u001b[0m   \u001b[2m127 \u001b[0m                                                                                           \u001b[38;2;255;0;0m│\u001b[0m\n",
       "\u001b[38;2;255;0;0m│\u001b[0m                                                                                                  \u001b[38;2;255;0;0m│\u001b[0m\n",
       "\u001b[38;2;255;0;0m│\u001b[0m \u001b[2;33m/Users/jzhaoqwa/miniconda3/lib/python3.12/site-packages/botocore/\u001b[0m\u001b[1;33mclient.py\u001b[0m:\u001b[94m1031\u001b[0m in               \u001b[38;2;255;0;0m│\u001b[0m\n",
       "\u001b[38;2;255;0;0m│\u001b[0m \u001b[92m_make_api_call\u001b[0m                                                                                   \u001b[38;2;255;0;0m│\u001b[0m\n",
       "\u001b[38;2;255;0;0m│\u001b[0m                                                                                                  \u001b[38;2;255;0;0m│\u001b[0m\n",
       "\u001b[38;2;255;0;0m│\u001b[0m   \u001b[2m1028 \u001b[0m\u001b[2m│   │   │   │   \u001b[0m\u001b[33m\"\u001b[0m\u001b[33mCode\u001b[0m\u001b[33m\"\u001b[0m                                                                    \u001b[38;2;255;0;0m│\u001b[0m\n",
       "\u001b[38;2;255;0;0m│\u001b[0m   \u001b[2m1029 \u001b[0m\u001b[2m│   │   │   \u001b[0m)                                                                             \u001b[38;2;255;0;0m│\u001b[0m\n",
       "\u001b[38;2;255;0;0m│\u001b[0m   \u001b[2m1030 \u001b[0m\u001b[2m│   │   │   \u001b[0merror_class = \u001b[96mself\u001b[0m.exceptions.from_code(error_code)                           \u001b[38;2;255;0;0m│\u001b[0m\n",
       "\u001b[38;2;255;0;0m│\u001b[0m \u001b[31m❱ \u001b[0m1031 \u001b[2m│   │   │   \u001b[0m\u001b[1;4;94mraise\u001b[0m\u001b[1;4m error_class(parsed_response, operation_name)\u001b[0m                            \u001b[38;2;255;0;0m│\u001b[0m\n",
       "\u001b[38;2;255;0;0m│\u001b[0m   \u001b[2m1032 \u001b[0m\u001b[2m│   │   \u001b[0m\u001b[94melse\u001b[0m:                                                                             \u001b[38;2;255;0;0m│\u001b[0m\n",
       "\u001b[38;2;255;0;0m│\u001b[0m   \u001b[2m1033 \u001b[0m\u001b[2m│   │   │   \u001b[0m\u001b[94mreturn\u001b[0m parsed_response                                                        \u001b[38;2;255;0;0m│\u001b[0m\n",
       "\u001b[38;2;255;0;0m│\u001b[0m   \u001b[2m1034 \u001b[0m                                                                                          \u001b[38;2;255;0;0m│\u001b[0m\n",
       "\u001b[38;2;255;0;0m╰──────────────────────────────────────────────────────────────────────────────────────────────────╯\u001b[0m\n",
       "\u001b[1;91mModelError: \u001b[0mAn error occurred \u001b[1m(\u001b[0mModelError\u001b[1m)\u001b[0m when calling the InvokeEndpoint operation: Received server error \u001b[1m(\u001b[0m\u001b[1;36m502\u001b[0m\u001b[1m)\u001b[0m \n",
       "from primary with message \"\u001b[1m<\u001b[0m\u001b[1;38;2;225;0;225mhtml\u001b[0m\u001b[39m>\u001b[0m\n",
       "\u001b[39m<head><title>\u001b[0m\u001b[1;36m502\u001b[0m\u001b[39m Bad Gateway<\u001b[0m\u001b[38;2;225;0;225m/\u001b[0m\u001b[38;2;225;0;225mtitle\u001b[0m\u001b[39m><\u001b[0m\u001b[38;2;225;0;225m/\u001b[0m\u001b[38;2;225;0;225mhead\u001b[0m\u001b[39m>\u001b[0m\n",
       "\u001b[39m<body>\u001b[0m\n",
       "\u001b[39m<center><h1>\u001b[0m\u001b[1;36m502\u001b[0m\u001b[39m Bad Gateway<\u001b[0m\u001b[38;2;225;0;225m/\u001b[0m\u001b[38;2;225;0;225mh1\u001b[0m\u001b[39m><\u001b[0m\u001b[38;2;225;0;225m/\u001b[0m\u001b[38;2;225;0;225mcenter\u001b[0m\u001b[39m>\u001b[0m\n",
       "\u001b[39m<hr><center>nginx/\u001b[0m\u001b[1;36m1.22\u001b[0m\u001b[39m.\u001b[0m\u001b[1;36m0\u001b[0m\u001b[39m<\u001b[0m\u001b[38;2;225;0;225m/\u001b[0m\u001b[38;2;225;0;225mcenter\u001b[0m\u001b[39m>\u001b[0m\n",
       "\u001b[39m<\u001b[0m\u001b[38;2;225;0;225m/\u001b[0m\u001b[38;2;225;0;225mbody\u001b[0m\u001b[39m>\u001b[0m\n",
       "\u001b[39m<\u001b[0m\u001b[38;2;225;0;225m/\u001b[0m\u001b[38;2;225;0;225mhtml\u001b[0m\u001b[1m>\u001b[0m\n",
       "\". See \n",
       "\u001b[4;38;2;0;105;255mhttps://us-east-2.console.aws.amazon.com/cloudwatch/home?\u001b[0m\u001b[4;38;2;0;105;255mregion\u001b[0m\u001b[4;38;2;0;105;255m=\u001b[0m\u001b[4;38;2;0;105;255mus\u001b[0m\u001b[4;38;2;0;105;255m-east-2#logEventViewer:\u001b[0m\u001b[4;38;2;0;105;255mgroup\u001b[0m\u001b[4;38;2;0;105;255m=/aws/sagemaker/Endpo\u001b[0m\n",
       "\u001b[4;38;2;0;105;255mints/huggingface-eqa-bert-base-cased\u001b[0m in account \u001b[1;36m637423555983\u001b[0m for more information.\n"
      ]
     },
     "metadata": {},
     "output_type": "display_data"
    }
   ],
   "source": [
    "# invoke\n",
    "endpoint.invoke(body='{\"question\" :\"what is the name of the planet?\",\"context\" : \"earth\"}')"
   ]
  },
  {
   "cell_type": "code",
   "execution_count": null,
   "id": "6cc8522e-b85b-4ee1-babe-bee9b7465902",
   "metadata": {},
   "outputs": [],
   "source": []
  }
 ],
 "metadata": {
  "kernelspec": {
   "display_name": "Python 3 (ipykernel)",
   "language": "python",
   "name": "python3"
  },
  "language_info": {
   "codemirror_mode": {
    "name": "ipython",
    "version": 3
   },
   "file_extension": ".py",
   "mimetype": "text/x-python",
   "name": "python",
   "nbconvert_exporter": "python",
   "pygments_lexer": "ipython3",
   "version": "3.12.3"
  }
 },
 "nbformat": 4,
 "nbformat_minor": 5
}
