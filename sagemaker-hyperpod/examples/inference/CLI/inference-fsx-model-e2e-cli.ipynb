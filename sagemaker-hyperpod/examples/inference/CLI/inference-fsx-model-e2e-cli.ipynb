{
 "cells": [
  {
   "cell_type": "markdown",
   "id": "2d55c8b9",
   "metadata": {},
   "source": [
    "## Inference Operator CLI E2E Expereience (S3 custom model)"
   ]
  },
  {
   "cell_type": "markdown",
   "id": "6e281ddd",
   "metadata": {},
   "source": [
    "Make sure you have installed pacakges:\n",
    "- sagemaker-hyperpod\n",
    "- custom_inference_config_schemas"
   ]
  },
  {
   "cell_type": "code",
   "execution_count": null,
   "id": "da015cdb",
   "metadata": {},
   "outputs": [],
   "source": [
    "!hyperpod list-cluster"
   ]
  },
  {
   "cell_type": "code",
   "execution_count": null,
   "id": "e9e1ce47",
   "metadata": {},
   "outputs": [],
   "source": [
    "!hyperpod set-cluster-context --cluster-name hp-cluster-for-inf-Beta2try1"
   ]
  },
  {
   "cell_type": "code",
   "execution_count": null,
   "id": "dfc2f047",
   "metadata": {},
   "outputs": [
    {
     "name": "stdout",
     "output_type": "stream",
     "text": [
      "/Users/mollyhe/.pyenv/versions/3.12.2/lib/python3.12/site-packages/pydantic/_internal/_fields.py:198: UserWarning: Field name \"json\" in \"MonitoringDatasetFormat\" shadows an attribute in parent \"Base\"\n",
      "  warnings.warn(\n",
      "✅ Schema 1.0 verified. Creating endpoint deepseek15b-fsx-test-cli with instance type ml.g5.8xlarge.\n"
     ]
    }
   ],
   "source": [
    "!hyp create hyp-custom-endpoint \\\n",
    "  --version 1.0 \\\n",
    "  --env \\\n",
    "    '{\"HF_MODEL_ID\":\"/opt/ml/model\", \\\n",
    "    \"SAGEMAKER_PROGRAM\":\"inference.py\", \\\n",
    "    \"SAGEMAKER_SUBMIT_DIRECTORY\":\"/opt/ml/model/code\", \\\n",
    "    \"MODEL_CACHE_ROOT\":\"/opt/ml/model\", \\\n",
    "    \"SAGEMAKER_ENV\":\"1\"}' \\\n",
    "  --model-source-type fsx \\\n",
    "  --model-location deepseek-1-5b \\\n",
    "  --fsx-file-system-id fs-0e6a92495c35a81f2 \\\n",
    "  --image-uri 763104351884.dkr.ecr.us-east-2.amazonaws.com/huggingface-pytorch-tgi-inference:2.4.0-tgi2.3.1-gpu-py311-cu124-ubuntu22.04-v2.0 \\\n",
    "  --model-volume-mount-name model-weights \\\n",
    "  --container-port 8080 \\\n",
    "  --resources-requests '{\"cpu\": \"4\", \"nvidia.com/gpu\": 1, \"memory\": \"32Gi\"}' \\\n",
    "  --resources-limits '{\"nvidia.com/gpu\": 1}' \\\n",
    "  --tls-certificate-output-s3-uri s3://tls-bucket-inf1-beta2 \\\n",
    "  --instance-type ml.g5.8xlarge \\\n",
    "  --endpoint-name endpoint-fsx-test-customcli \\\n",
    "  --model-name deepseek15b-fsx-test-cli"
   ]
  },
  {
   "cell_type": "code",
   "execution_count": 19,
   "id": "34e46d74",
   "metadata": {},
   "outputs": [
    {
     "name": "stdout",
     "output_type": "stream",
     "text": [
      "/Users/mollyhe/.pyenv/versions/3.12.2/lib/python3.12/site-packages/pydantic/_internal/_fields.py:198: UserWarning: Field name \"json\" in \"MonitoringDatasetFormat\" shadows an attribute in parent \"Base\"\n",
      "  warnings.warn(\n",
      "\u001b[2;36m[07/01/25 13:44:21]\u001b[0m\u001b[2;36m \u001b[0m\u001b[1;94mINFO    \u001b[0m Found credentials in shared     \u001b]8;id=925931;file:///Users/mollyhe/.pyenv/versions/3.12.2/lib/python3.12/site-packages/botocore/credentials.py\u001b\\\u001b[2mcredentials.py\u001b[0m\u001b]8;;\u001b\\\u001b[2m:\u001b[0m\u001b]8;id=395067;file:///Users/mollyhe/.pyenv/versions/3.12.2/lib/python3.12/site-packages/botocore/credentials.py#1352\u001b\\\u001b[2m1352\u001b[0m\u001b]8;;\u001b\\\n",
      "\u001b[2;36m                    \u001b[0m         credentials file:               \u001b[2m                   \u001b[0m\n",
      "\u001b[2;36m                    \u001b[0m         ~\u001b[35m/.aws/\u001b[0m\u001b[35mcredentials\u001b[0m              \u001b[2m                   \u001b[0m\n",
      "[{\"generated_text\":\"What is the capital of USA? Please write down the capital, make some notesraziation.\\n</think>\\n\\nThe capital of the United States is Washington, D.C. Here are some notes about Washington, D.C.:\\n\\n1. **Location**: Washington, D.C. is located in the \\\"\\\"\\\"northernmost ''' area of the United States, specifically in the District of Columbia.\\n\\n2. **Historical Significance**: Washington, D.C. is one of the most important cities in the country, known for its historical landmarks, such\"}]\n"
     ]
    }
   ],
   "source": [
    "!hyp invoke hyp-custom-endpoint --endpoint-name endpoint-fsx-test-customcli  --body '{\"inputs\":\"What is the capital of USA?\"}'"
   ]
  },
  {
   "cell_type": "code",
   "execution_count": 14,
   "id": "47a338fd",
   "metadata": {},
   "outputs": [
    {
     "name": "stdout",
     "output_type": "stream",
     "text": [
      "/Users/mollyhe/.pyenv/versions/3.12.2/lib/python3.12/site-packages/pydantic/_internal/_fields.py:198: UserWarning: Field name \"json\" in \"MonitoringDatasetFormat\" shadows an attribute in parent \"Base\"\n",
      "  warnings.warn(\n",
      "[\n",
      "  {\n",
      "    \"name\": \"deepseek15b-fsx-test-cli\",\n",
      "    \"namespace\": \"default\",\n",
      "    \"labels\": null\n",
      "  },\n",
      "  {\n",
      "    \"name\": \"deepseek15b-fsx-test-pysdk-07-01-1\",\n",
      "    \"namespace\": \"default\",\n",
      "    \"labels\": null\n",
      "  },\n",
      "  {\n",
      "    \"name\": \"deepseek15b-s3-test-cli2\",\n",
      "    \"namespace\": \"default\",\n",
      "    \"labels\": null\n",
      "  },\n",
      "  {\n",
      "    \"name\": \"deepseek15b-test-model-name-07-01-1\",\n",
      "    \"namespace\": \"default\",\n",
      "    \"labels\": null\n",
      "  },\n",
      "  {\n",
      "    \"name\": \"deepseek15b-test-model-name-07-01-2\",\n",
      "    \"namespace\": \"default\",\n",
      "    \"labels\": null\n",
      "  }\n",
      "]\n"
     ]
    }
   ],
   "source": [
    "!hyp list hyp-custom-endpoint"
   ]
  },
  {
   "cell_type": "code",
   "execution_count": 17,
   "id": "2929171e",
   "metadata": {},
   "outputs": [
    {
     "name": "stdout",
     "output_type": "stream",
     "text": [
      "/Users/mollyhe/.pyenv/versions/3.12.2/lib/python3.12/site-packages/pydantic/_internal/_fields.py:198: UserWarning: Field name \"json\" in \"MonitoringDatasetFormat\" shadows an attribute in parent \"Base\"\n",
      "  warnings.warn(\n",
      "{\n",
      "  \"InitialReplicaCount\": null,\n",
      "  \"autoScalingSpec\": {\n",
      "    \"cloudWatchTrigger\": {\n",
      "      \"dimensions\": null,\n",
      "      \"metricCollectionPeriod\": 300,\n",
      "      \"metricCollectionStartTime\": 300,\n",
      "      \"metricName\": null,\n",
      "      \"metricStat\": \"Average\",\n",
      "      \"metricType\": \"Average\",\n",
      "      \"minValue\": 0.0,\n",
      "      \"name\": null,\n",
      "      \"namespace\": null,\n",
      "      \"targetValue\": null,\n",
      "      \"useCachedMetrics\": true\n",
      "    },\n",
      "    \"cooldownPeriod\": 300,\n",
      "    \"initialCooldownPeriod\": 300,\n",
      "    \"maxReplicaCount\": 5,\n",
      "    \"minReplicaCount\": 1,\n",
      "    \"pollingInterval\": 30,\n",
      "    \"prometheusTrigger\": null,\n",
      "    \"scaleDownStabilizationTime\": 300,\n",
      "    \"scaleUpStabilizationTime\": 0\n",
      "  },\n",
      "  \"endpointName\": \"endpoint-fsx-test-customcli\",\n",
      "  \"instanceType\": \"ml.g5.8xlarge\",\n",
      "  \"invocationEndpoint\": \"invocations\",\n",
      "  \"metrics\": {\n",
      "    \"enabled\": false,\n",
      "    \"metricsScrapeIntervalSeconds\": 15,\n",
      "    \"modelMetrics\": null\n",
      "  },\n",
      "  \"modelName\": \"deepseek15b-fsx-test-cli\",\n",
      "  \"modelSourceConfig\": {\n",
      "    \"fsxStorage\": {\n",
      "      \"dnsName\": null,\n",
      "      \"fileSystemId\": \"fs-0e6a92495c35a81f2\",\n",
      "      \"mountName\": null\n",
      "    },\n",
      "    \"modelLocation\": \"deepseek-1-5b\",\n",
      "    \"modelSourceType\": \"fsx\",\n",
      "    \"prefetchEnabled\": false,\n",
      "    \"s3Storage\": null\n",
      "  },\n",
      "  \"modelVersion\": null,\n",
      "  \"replicas\": 1,\n",
      "  \"tags\": null,\n",
      "  \"tlsConfig\": {\n",
      "    \"tlsCertificateOutputS3Uri\": \"s3://tls-bucket-inf1-beta2\"\n",
      "  },\n",
      "  \"worker\": {\n",
      "    \"environmentVariables\": [\n",
      "      {\n",
      "        \"name\": \"HF_MODEL_ID\",\n",
      "        \"value\": \"/opt/ml/model\",\n",
      "        \"valueFrom\": null\n",
      "      },\n",
      "      {\n",
      "        \"name\": \"SAGEMAKER_PROGRAM\",\n",
      "        \"value\": \"inference.py\",\n",
      "        \"valueFrom\": null\n",
      "      },\n",
      "      {\n",
      "        \"name\": \"SAGEMAKER_SUBMIT_DIRECTORY\",\n",
      "        \"value\": \"/opt/ml/model/code\",\n",
      "        \"valueFrom\": null\n",
      "      },\n",
      "      {\n",
      "        \"name\": \"MODEL_CACHE_ROOT\",\n",
      "        \"value\": \"/opt/ml/model\",\n",
      "        \"valueFrom\": null\n",
      "      },\n",
      "      {\n",
      "        \"name\": \"SAGEMAKER_ENV\",\n",
      "        \"value\": \"1\",\n",
      "        \"valueFrom\": null\n",
      "      }\n",
      "    ],\n",
      "    \"image\": \"763104351884.dkr.ecr.us-east-2.amazonaws.com/huggingface-pytorch-tgi-inference:2.4.0-tgi2.3.1-gpu-py311-cu124-ubuntu22.04-v2.0\",\n",
      "    \"modelInvocationPort\": {\n",
      "      \"containerPort\": 8080,\n",
      "      \"name\": \"http\"\n",
      "    },\n",
      "    \"modelVolumeMount\": {\n",
      "      \"mountPath\": \"/opt/ml/model\",\n",
      "      \"name\": \"model-weights\"\n",
      "    },\n",
      "    \"resources\": {\n",
      "      \"claims\": null,\n",
      "      \"limits\": {\n",
      "        \"nvidia.com/gpu\": 1\n",
      "      },\n",
      "      \"requests\": {\n",
      "        \"cpu\": \"4\",\n",
      "        \"memory\": \"32Gi\",\n",
      "        \"nvidia.com/gpu\": 1\n",
      "      }\n",
      "    }\n",
      "  },\n",
      "  \"metadata\": {\n",
      "    \"name\": \"deepseek15b-fsx-test-cli\",\n",
      "    \"namespace\": \"default\",\n",
      "    \"labels\": null\n",
      "  },\n",
      "  \"status\": {\n",
      "    \"conditions\": [\n",
      "      {\n",
      "        \"lastTransitionTime\": \"2025-07-01T20:40:29Z\",\n",
      "        \"lastUpdateTime\": null,\n",
      "        \"message\": \"Deployment or SageMaker endpoint registration creation for model is in progress\",\n",
      "        \"reason\": \"InProgress\",\n",
      "        \"status\": \"True\",\n",
      "        \"type\": \"DeploymentInProgress\",\n",
      "        \"observedGeneration\": null\n",
      "      }\n",
      "    ],\n",
      "    \"deploymentStatus\": {\n",
      "      \"deploymentObjectOverallState\": \"DeploymentComplete\",\n",
      "      \"lastUpdated\": \"2025-07-01T20:41:51Z\",\n",
      "      \"message\": null,\n",
      "      \"name\": \"deepseek15b-fsx-test-cli\",\n",
      "      \"reason\": \"NativeDeploymentObjectFound\",\n",
      "      \"status\": {\n",
      "        \"availableReplicas\": 1,\n",
      "        \"collisionCount\": null,\n",
      "        \"conditions\": [\n",
      "          {\n",
      "            \"lastTransitionTime\": \"2025-07-01T20:38:13Z\",\n",
      "            \"lastUpdateTime\": \"2025-07-01T20:38:13Z\",\n",
      "            \"message\": \"Deployment has minimum availability.\",\n",
      "            \"reason\": \"MinimumReplicasAvailable\",\n",
      "            \"status\": \"True\",\n",
      "            \"type\": \"Available\",\n",
      "            \"observedGeneration\": null\n",
      "          },\n",
      "          {\n",
      "            \"lastTransitionTime\": \"2025-07-01T20:38:10Z\",\n",
      "            \"lastUpdateTime\": \"2025-07-01T20:38:13Z\",\n",
      "            \"message\": \"ReplicaSet \\\"deepseek15b-fsx-test-cli-6f9f4856b7\\\" has successfully progressed.\",\n",
      "            \"reason\": \"NewReplicaSetAvailable\",\n",
      "            \"status\": \"True\",\n",
      "            \"type\": \"Progressing\",\n",
      "            \"observedGeneration\": null\n",
      "          }\n",
      "        ],\n",
      "        \"observedGeneration\": 1,\n",
      "        \"readyReplicas\": 1,\n",
      "        \"replicas\": 1,\n",
      "        \"unavailableReplicas\": null,\n",
      "        \"updatedReplicas\": 1\n",
      "      }\n",
      "    },\n",
      "    \"endpoints\": null,\n",
      "    \"metricsStatus\": null,\n",
      "    \"observedGeneration\": null,\n",
      "    \"replicas\": 1,\n",
      "    \"selector\": \"app=deepseek15b-fsx-test-cli,deploying-service=hyperpod-inference\",\n",
      "    \"state\": \"DeploymentInProgress\",\n",
      "    \"tlsCertificate\": {\n",
      "      \"certificateARN\": \"arn:aws:acm:us-east-2:637423555983:certificate/7e2c265e-d7c0-4b84-864a-5369db523376\",\n",
      "      \"certificateDomainNames\": [\n",
      "        \"internal-k8s-default-albdeeps-a31d25f2b3-1694565704.us-east-2.elb.amazonaws.com\"\n",
      "      ],\n",
      "      \"certificateName\": \"deepseek15b-fsx-test-cli-certificate\",\n",
      "      \"importedCertificates\": [\n",
      "        \"arn:aws:acm:us-east-2:637423555983:certificate/7e2c265e-d7c0-4b84-864a-5369db523376\"\n",
      "      ],\n",
      "      \"issuerName\": \"deepseek15b-fsx-test-cli-issuer\",\n",
      "      \"lastCertExpiryTime\": \"2026-07-01T20:38:18Z\",\n",
      "      \"tlsCertificateOutputS3Bucket\": \"tls-bucket-inf1-beta2\",\n",
      "      \"tlsCertificateS3Keys\": [\n",
      "        \"52c2qrh8q2ts/default-deepseek15b-fsx-test-cli-1751402289/deepseek15b-fsx-test-cli-certificate-1782938298.pem\"\n",
      "      ]\n",
      "    }\n",
      "  }\n",
      "}\n"
     ]
    }
   ],
   "source": [
    "!hyp describe hyp-custom-endpoint --name deepseek15b-fsx-test-cli"
   ]
  },
  {
   "cell_type": "code",
   "execution_count": 20,
   "id": "52bfcde6",
   "metadata": {},
   "outputs": [
    {
     "name": "stdout",
     "output_type": "stream",
     "text": [
      "/Users/mollyhe/.pyenv/versions/3.12.2/lib/python3.12/site-packages/pydantic/_internal/_fields.py:198: UserWarning: Field name \"json\" in \"MonitoringDatasetFormat\" shadows an attribute in parent \"Base\"\n",
      "  warnings.warn(\n",
      "✅ Endpoint deepseek15b-fsx-test-cli deleted.\n"
     ]
    }
   ],
   "source": [
    "!hyp delete hyp-custom-endpoint --name deepseek15b-fsx-test-cli"
   ]
  },
  {
   "cell_type": "code",
   "execution_count": null,
   "id": "60fea9e8",
   "metadata": {},
   "outputs": [],
   "source": [
    "!hyp get-operator-logs hyp-custom-endpoint --since-hours 4"
   ]
  },
  {
   "cell_type": "code",
   "execution_count": null,
   "id": "1a7a0583",
   "metadata": {},
   "outputs": [],
   "source": [
    "!hyp get-logs hyp-custom-endpoint --pod-name deepseek15b-fsx-test-pysdk-06-30-6f4c686cfd-bv7lv"
   ]
  },
  {
   "cell_type": "code",
   "execution_count": 7,
   "id": "6df1969a",
   "metadata": {},
   "outputs": [
    {
     "name": "stdout",
     "output_type": "stream",
     "text": [
      "/Users/mollyhe/Documents/SageMaker/private-sagemaker-hyperpod-cli-staging-molly/custom_inference_config_schemas\n"
     ]
    }
   ],
   "source": [
    "cd '/Users/mollyhe/Documents/SageMaker/private-sagemaker-hyperpod-cli-staging-molly/custom_inference_config_schemas'"
   ]
  },
  {
   "cell_type": "code",
   "execution_count": 8,
   "id": "1e2c294b",
   "metadata": {},
   "outputs": [
    {
     "name": "stdout",
     "output_type": "stream",
     "text": [
      "Processing /Users/mollyhe/Documents/SageMaker/private-sagemaker-hyperpod-cli-staging-molly/custom_inference_config_schemas\n",
      "  Installing build dependencies ... \u001b[?25ldone\n",
      "\u001b[?25h  Getting requirements to build wheel ... \u001b[?25ldone\n",
      "\u001b[?25h  Preparing metadata (pyproject.toml) ... \u001b[?25ldone\n",
      "\u001b[?25hBuilding wheels for collected packages: custom_inference_config_schemas\n",
      "  Building wheel for custom_inference_config_schemas (pyproject.toml) ... \u001b[?25ldone\n",
      "\u001b[?25h  Created wheel for custom_inference_config_schemas: filename=custom_inference_config_schemas-1.0-py3-none-any.whl size=6312 sha256=0e716048068f46f02ad55ed62706335ef85652fb443c27c5eb81149e8105fbc4\n",
      "  Stored in directory: /private/var/folders/4y/cy_jl_zj7qn01ql_1mj59qg40000gq/T/pip-ephem-wheel-cache-s5qs2iek/wheels/d0/33/85/7f1b66712b94cdba943e1f213cb8933bbef158faaffb2d3ae0\n",
      "Successfully built custom_inference_config_schemas\n",
      "Installing collected packages: custom_inference_config_schemas\n",
      "  Attempting uninstall: custom_inference_config_schemas\n",
      "    Found existing installation: custom_inference_config_schemas 1.0\n",
      "    Uninstalling custom_inference_config_schemas-1.0:\n",
      "      Successfully uninstalled custom_inference_config_schemas-1.0\n",
      "Successfully installed custom_inference_config_schemas-1.0\n",
      "\n",
      "\u001b[1m[\u001b[0m\u001b[34;49mnotice\u001b[0m\u001b[1;39;49m]\u001b[0m\u001b[39;49m A new release of pip is available: \u001b[0m\u001b[31;49m24.0\u001b[0m\u001b[39;49m -> \u001b[0m\u001b[32;49m25.1.1\u001b[0m\n",
      "\u001b[1m[\u001b[0m\u001b[34;49mnotice\u001b[0m\u001b[1;39;49m]\u001b[0m\u001b[39;49m To update, run: \u001b[0m\u001b[32;49mpip install --upgrade pip\u001b[0m\n"
     ]
    }
   ],
   "source": [
    "!pip install ."
   ]
  },
  {
   "cell_type": "code",
   "execution_count": 12,
   "id": "d010b502",
   "metadata": {},
   "outputs": [],
   "source": [
    "import os, certifi\n",
    "os.environ['AWS_CA_BUNDLE'] = certifi.where()\n"
   ]
  }
 ],
 "metadata": {
  "kernelspec": {
   "display_name": "Python 3",
   "language": "python",
   "name": "python3"
  },
  "language_info": {
   "codemirror_mode": {
    "name": "ipython",
    "version": 3
   },
   "file_extension": ".py",
   "mimetype": "text/x-python",
   "name": "python",
   "nbconvert_exporter": "python",
   "pygments_lexer": "ipython3",
   "version": "3.12.2"
  }
 },
 "nbformat": 4,
 "nbformat_minor": 5
}
