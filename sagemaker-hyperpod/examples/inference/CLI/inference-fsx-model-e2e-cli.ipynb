{
 "cells": [
  {
   "cell_type": "markdown",
   "id": "2d55c8b9",
   "metadata": {},
   "source": [
    "## Inference Operator CLI E2E Expereience (S3 custom model)"
   ]
  },
  {
   "cell_type": "markdown",
   "id": "6e281ddd",
   "metadata": {},
   "source": [
    "Make sure you have installed pacakges:\n",
    "- sagemaker-hyperpod\n",
    "- custom_inference_config_schemas"
   ]
  },
  {
   "cell_type": "code",
   "execution_count": 2,
   "id": "da015cdb",
   "metadata": {},
   "outputs": [
    {
     "name": "stdout",
     "output_type": "stream",
     "text": [
      "2025-06-30 18:23:06 - hyperpod_cli.validators.validator - ERROR - Unexpected error to get AWS credentials: SSL validation failed for https://sts.amazonaws.com/ [SSL: CERTIFICATE_VERIFY_FAILED] certificate verify failed: unable to get local issuer certificate (_ssl.c:1000)\n",
      "2025-06-30 18:23:06 - hyperpod_cli.commands.cluster - ERROR - Failed to list clusters capacity due to invalid AWS credentials.\n"
     ]
    }
   ],
   "source": [
    "!hyperpod list-cluster"
   ]
  },
  {
   "cell_type": "code",
   "execution_count": null,
   "id": "e9e1ce47",
   "metadata": {},
   "outputs": [],
   "source": [
    "!hyperpod set-cluster-context --cluster-name hp-cluster-for-inf-Beta2try1"
   ]
  },
  {
   "cell_type": "code",
   "execution_count": null,
   "id": "dfc2f047",
   "metadata": {},
   "outputs": [],
   "source": [
    "!hyp create hyp-custom-endpoint \\\n",
    "  --version 1.0 \\\n",
    "  --env \\\n",
    "    '{\"HF_MODEL_ID\":\"/opt/ml/model\", \\\n",
    "    \"SAGEMAKER_PROGRAM\":\"inference.py\", \\\n",
    "    \"SAGEMAKER_SUBMIT_DIRECTORY\":\"/opt/ml/model/code\", \\\n",
    "    \"MODEL_CACHE_ROOT\":\"/opt/ml/model\", \\\n",
    "    \"SAGEMAKER_ENV\":\"1\"}' \\\n",
    "  --model-source-type fsx \\\n",
    "  --model-location deepseek-1-5b \\\n",
    "  --fsx-file-system-id fs-0e6a92495c35a81f2 \\\n",
    "  --image-uri 763104351884.dkr.ecr.us-east-2.amazonaws.com/huggingface-pytorch-tgi-inference:2.4.0-tgi2.3.1-gpu-py311-cu124-ubuntu22.04-v2.0 \\\n",
    "  --model-volume-mount-name model-weights \\\n",
    "  --container-port 8080 \\\n",
    "  --resources-requests '{\"cpu\": \"4\", \"nvidia.com/gpu\": 1, \"memory\": \"32Gi\"}' \\\n",
    "  --resources-limits '{\"nvidia.com/gpu\": 1}' \\\n",
    "  --tls-output-s3-uri s3://tls-bucket-inf1-beta2 \\\n",
    "  --instance-type ml.g5.8xlarge \\\n",
    "  --endpoint-name endpoint-fsx-test-customCLI \\\n",
    "  --model-name deepseek15b-fsx-test-cli5"
   ]
  },
  {
   "cell_type": "code",
   "execution_count": null,
   "id": "34e46d74",
   "metadata": {},
   "outputs": [],
   "source": [
    "!hyp invoke hyp-custom-endpoint --endpoint-name test-endpoint-name-fsx-pysdk-06-30  --body '{\"inputs\":\"What is the capital of USA?\"}'"
   ]
  },
  {
   "cell_type": "code",
   "execution_count": null,
   "id": "47a338fd",
   "metadata": {},
   "outputs": [],
   "source": [
    "!hyp list hyp-custom-endpoint"
   ]
  },
  {
   "cell_type": "code",
   "execution_count": null,
   "id": "2929171e",
   "metadata": {},
   "outputs": [],
   "source": [
    "!hyp describe hyp-custom-endpoint --name deepseek15b-fsx-test-pysdk-06-30"
   ]
  },
  {
   "cell_type": "code",
   "execution_count": null,
   "id": "52bfcde6",
   "metadata": {},
   "outputs": [],
   "source": [
    "!hyp delete hyp-custom-endpoint --name deepseek15b-s3-test-cli2"
   ]
  },
  {
   "cell_type": "code",
   "execution_count": null,
   "id": "60fea9e8",
   "metadata": {},
   "outputs": [],
   "source": [
    "!hyp get-operator-logs hyp-custom-endpoint --since-hours 4"
   ]
  },
  {
   "cell_type": "code",
   "execution_count": null,
   "id": "1a7a0583",
   "metadata": {},
   "outputs": [],
   "source": [
    "!hyp get-logs hyp-custom-endpoint --pod-name deepseek15b-fsx-test-pysdk-06-30-6f4c686cfd-bv7lv"
   ]
  }
 ],
 "metadata": {
  "kernelspec": {
   "display_name": "Python 3",
   "language": "python",
   "name": "python3"
  },
  "language_info": {
   "codemirror_mode": {
    "name": "ipython",
    "version": 3
   },
   "file_extension": ".py",
   "mimetype": "text/x-python",
   "name": "python",
   "nbconvert_exporter": "python",
   "pygments_lexer": "ipython3",
   "version": "3.12.2"
  }
 },
 "nbformat": 4,
 "nbformat_minor": 5
}
