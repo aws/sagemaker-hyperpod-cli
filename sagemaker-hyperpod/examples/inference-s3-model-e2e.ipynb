{
 "cells": [
  {
   "cell_type": "code",
   "execution_count": null,
   "id": "272e757b-fa70-479e-b7f2-c37eb8fba78a",
   "metadata": {},
   "outputs": [],
   "source": [
    "from sagemaker.hyperpod.hyperpod_manager import HyperPodManager\n",
    "\n",
    "HyperPodManager.list_clusters(region='us-east-2')\n",
    "HyperPodManager.set_context('hp-cluster-for-inf-Beta2try1', region='us-east-2')"
   ]
  },
  {
   "cell_type": "markdown",
   "id": "3ff887c1-e56e-4f56-9c81-023212e37b7e",
   "metadata": {},
   "source": [
    "### Create deployment from spec object"
   ]
  },
  {
   "cell_type": "code",
   "execution_count": null,
   "id": "7f9e50c7-497c-420d-8a8a-3f3eac2fd893",
   "metadata": {},
   "outputs": [],
   "source": [
    "from sagemaker.hyperpod.inference.config.hp_endpoint_config import CloudWatchTrigger, PrometheusTrigger, AutoScalingSpec, ModelMetrics, Metrics, FsxStorage, S3Storage, ModelSourceConfig, Tags, TlsConfig, ConfigMapKeyRef, FieldRef, ResourceFieldRef, SecretKeyRef, ValueFrom, EnvironmentVariables, ModelInvocationPort, ModelVolumeMount, Claims, Resources, Worker\n",
    "from sagemaker.hyperpod.inference.hp_endpoint import HPEndpoint\n",
    "import yaml\n",
    "import time"
   ]
  },
  {
   "cell_type": "code",
   "execution_count": null,
   "id": "e2179fa7-49a4-4211-a42e-724e7f54d3c6",
   "metadata": {},
   "outputs": [],
   "source": [
    "tls_config=TlsConfig(tls_certificate_output_s3_uri='s3://tls-bucket-inf1-beta2')\n",
    "\n",
    "model_source_config = ModelSourceConfig(\n",
    "    model_source_type='s3',\n",
    "    model_location=\"deepseek15b\",\n",
    "    s3_storage=S3Storage(\n",
    "        bucket_name='test-model-s3-zhaoqi',\n",
    "        region='us-east-2',\n",
    "    ),\n",
    ")\n",
    "\n",
    "environment_variables = [\n",
    "    EnvironmentVariables(name=\"HF_MODEL_ID\", value=\"/opt/ml/model\"),\n",
    "    EnvironmentVariables(name=\"SAGEMAKER_PROGRAM\", value=\"inference.py\"),\n",
    "    EnvironmentVariables(name=\"SAGEMAKER_SUBMIT_DIRECTORY\", value=\"/opt/ml/model/code\"),\n",
    "    EnvironmentVariables(name=\"MODEL_CACHE_ROOT\", value=\"/opt/ml/model\"),\n",
    "    EnvironmentVariables(name=\"SAGEMAKER_ENV\", value=\"1\"),\n",
    "]\n",
    "\n",
    "worker = Worker(\n",
    "    image='763104351884.dkr.ecr.us-east-2.amazonaws.com/huggingface-pytorch-tgi-inference:2.4.0-tgi2.3.1-gpu-py311-cu124-ubuntu22.04-v2.0',\n",
    "    model_volume_mount=ModelVolumeMount(\n",
    "        name='model-weights',\n",
    "    ),\n",
    "    model_invocation_port=ModelInvocationPort(container_port=8080),\n",
    "    resources=Resources(\n",
    "            requests={\"cpu\": \"30000m\", \"nvidia.com/gpu\": 1, \"memory\": \"100Gi\"},\n",
    "            limits={\"nvidia.com/gpu\": 1}\n",
    "    ),\n",
    "    environment_variables=environment_variables,\n",
    ")"
   ]
  },
  {
   "cell_type": "code",
   "execution_count": null,
   "id": "a63a543e-1762-4035-b89a-76971a55ed21",
   "metadata": {},
   "outputs": [],
   "source": [
    "s3_endpoint = HPEndpoint(\n",
    "    endpoint_name='test-endpoint-name-06-30-3',\n",
    "    instance_type='ml.g5.8xlarge',\n",
    "    # use a new model_name every new deployment.\n",
    "    # Older image version has a bug that causes 502 bad gateway from invoking endpoint \n",
    "    model_name='deepseek15b-test-model-name-06-30-3',  \n",
    "    tls_config=tls_config,\n",
    "    model_source_config=model_source_config,\n",
    "    worker=worker,\n",
    ")"
   ]
  },
  {
   "cell_type": "code",
   "execution_count": null,
   "id": "3b0ff3e2-217b-4785-974c-c9d1b4c173d4",
   "metadata": {},
   "outputs": [],
   "source": [
    "s3_endpoint.create()"
   ]
  },
  {
   "cell_type": "code",
   "execution_count": null,
   "id": "2f065099-8453-4481-a061-06344d36430a",
   "metadata": {},
   "outputs": [],
   "source": [
    "# poll status\n",
    "t = 0\n",
    "timeout = 600  # 600 seconds timeout  \n",
    "interval = 15  # poll every 15 seconds\n",
    "\n",
    "while t < timeout:\n",
    "    # use refresh to fetch latest status\n",
    "    s3_endpoint.refresh()\n",
    "\n",
    "    try:\n",
    "        # deployment status will be available immediately\n",
    "        deployment_status = s3_endpoint.status.deploymentStatus.deploymentObjectOverallState\n",
    "        if deployment_status== 'DeploymentFailed':\n",
    "            print('Deployment failed!')\n",
    "            break\n",
    "\n",
    "        # endpoint status will appear be available from refresh() at some point\n",
    "        endpoint_status = s3_endpoint.status.endpoints.sagemaker.state\n",
    "        if endpoint_status == 'CreationCompleted':\n",
    "            print('Endpoint is available!')\n",
    "            break\n",
    "    except:\n",
    "        pass\n",
    "\n",
    "    time.sleep(interval)\n",
    "    t += interval\n",
    "\n",
    "if t >= timeout:\n",
    "    print('Endpoint creation timed out!')"
   ]
  },
  {
   "cell_type": "code",
   "execution_count": null,
   "id": "80babbaf-4291-4415-a430-bda66d805291",
   "metadata": {},
   "outputs": [],
   "source": [
    "# print endpoint in yaml\n",
    "def print_yaml(endpoint):\n",
    "    print(yaml.dump(endpoint.model_dump(exclude_none=True)))"
   ]
  },
  {
   "cell_type": "markdown",
   "id": "12fae35b-e9c4-4bbd-b34c-a43a9049b929",
   "metadata": {},
   "source": [
    "### List all endpoints"
   ]
  },
  {
   "cell_type": "code",
   "execution_count": null,
   "id": "78f12fa4-7547-46fb-9680-3f0101f722d1",
   "metadata": {
    "scrolled": true
   },
   "outputs": [],
   "source": [
    "endpoint_list = HPEndpoint.list()\n",
    "print_yaml(endpoint_list[1])"
   ]
  },
  {
   "cell_type": "markdown",
   "id": "f7b9937c-bc5d-442e-a4ef-b83b2375cd8b",
   "metadata": {},
   "source": [
    "### Invoke endpoint"
   ]
  },
  {
   "cell_type": "code",
   "execution_count": null,
   "id": "d5dae2d3-9744-4c76-b9f4-d8590cfe2fc7",
   "metadata": {},
   "outputs": [],
   "source": [
    "endpoint = HPEndpoint.get(name='deepseek15b-test-model-name-06-30-3')\n",
    "\n",
    "# another way to get endpoint object\n",
    "# endpoint = HPEndpoint.list()[0]"
   ]
  },
  {
   "cell_type": "code",
   "execution_count": null,
   "id": "549e857f-921b-40b0-8c75-2f894d44deb6",
   "metadata": {},
   "outputs": [],
   "source": [
    "data='{\"inputs\": \"What is the capital of Japan?\"}'\n",
    "\n",
    "# invoke\n",
    "response=endpoint.invoke(body=data, content_type='application/json')\n",
    "response.body.read()"
   ]
  },
  {
   "cell_type": "code",
   "execution_count": null,
   "id": "1ae09856-89b2-4af8-bc21-d34d951f83dc",
   "metadata": {},
   "outputs": [],
   "source": [
    "# delete endpoint\n",
    "endpoint.delete()"
   ]
  }
 ],
 "metadata": {
  "kernelspec": {
   "display_name": "Python 3 (ipykernel)",
   "language": "python",
   "name": "python3"
  },
  "language_info": {
   "codemirror_mode": {
    "name": "ipython",
    "version": 3
   },
   "file_extension": ".py",
   "mimetype": "text/x-python",
   "name": "python",
   "nbconvert_exporter": "python",
   "pygments_lexer": "ipython3",
   "version": "3.12.3"
  }
 },
 "nbformat": 4,
 "nbformat_minor": 5
}
