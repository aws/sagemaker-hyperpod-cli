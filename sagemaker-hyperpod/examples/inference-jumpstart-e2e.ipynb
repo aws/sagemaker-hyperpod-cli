{
 "cells": [
  {
   "cell_type": "markdown",
   "id": "9bc26143-07d7-4019-9237-7ba01b9e4691",
   "metadata": {},
   "source": [
    "## Inference Operator PySDK E2E Expereience (JumpStart model)"
   ]
  },
  {
   "cell_type": "markdown",
   "id": "1b3ce5c1-3c3d-4139-b7ae-042f360f3032",
   "metadata": {},
   "source": [
    "<b>Prerequisite:</b> Data scientists should list clusters and set cluster context"
   ]
  },
  {
   "cell_type": "code",
   "execution_count": 5,
   "id": "e22c86d6-0d3d-4c51-bef0-3f4c59ce111c",
   "metadata": {},
   "outputs": [],
   "source": [
    "from sagemaker.hyperpod.hyperpod_manager import HyperPodManager"
   ]
  },
  {
   "cell_type": "code",
   "execution_count": 16,
   "id": "6127538f-229d-48e5-b847-8fb0bb8d4414",
   "metadata": {},
   "outputs": [
    {
     "name": "stdout",
     "output_type": "stream",
     "text": [
      "Orchestrator    Cluster Name\n",
      "--------------  ----------------------------\n",
      "EKS             hp-cluster-for-inf-Beta2try1\n"
     ]
    }
   ],
   "source": [
    "HyperPodManager.list_clusters(region='us-east-2')"
   ]
  },
  {
   "cell_type": "code",
   "execution_count": 17,
   "id": "9d8f4b6d-7b57-4221-85fa-ecd90e96be1d",
   "metadata": {},
   "outputs": [
    {
     "name": "stdout",
     "output_type": "stream",
     "text": [
      "Updated context arn:aws:eks:us-east-2:637423555983:cluster/EKSClusterForInf-Beta2try1 in /tmp/kubeconfig\n",
      "Successfully set current cluster as: hp-cluster-for-inf-Beta2try1\n"
     ]
    }
   ],
   "source": [
    "# choose the HP cluster user works on\n",
    "HyperPodManager.set_context('hp-cluster-for-inf-Beta2try1', region='us-east-2')"
   ]
  },
  {
   "cell_type": "code",
   "execution_count": 6,
   "id": "999aa080-78e2-4e2a-9f7f-8dfaaf70512f",
   "metadata": {},
   "outputs": [
    {
     "data": {
      "text/plain": [
       "'arn:aws:eks:us-east-2:637423555983:cluster/EKSClusterForInf-Beta2try1'"
      ]
     },
     "execution_count": 6,
     "metadata": {},
     "output_type": "execute_result"
    }
   ],
   "source": [
    "# verify current kube context\n",
    "HyperPodManager.get_context()"
   ]
  },
  {
   "cell_type": "markdown",
   "id": "a151e55e-0766-48c4-b6c8-734f19e7b6c8",
   "metadata": {},
   "source": [
    "### Create JumpStart model endpoint"
   ]
  },
  {
   "cell_type": "markdown",
   "id": "0628c745-b11e-49dc-a77a-440824d4b95e",
   "metadata": {},
   "source": [
    "#### Create from spec object (for experienced users)"
   ]
  },
  {
   "cell_type": "code",
   "execution_count": 1,
   "id": "c72a1053-6c06-4cb9-a9bc-f6c4ed6e3c59",
   "metadata": {},
   "outputs": [],
   "source": [
    "from sagemaker.hyperpod.inference.config.hp_jumpstart_endpoint_config import Model, Server,SageMakerEndpoint, TlsConfig, EnvironmentVariables\n",
    "from sagemaker.hyperpod.inference.hp_jumpstart_endpoint import HPJumpStartEndpoint"
   ]
  },
  {
   "cell_type": "code",
   "execution_count": 2,
   "id": "314d48d2-8b6e-4be9-b5dc-31780dd0d1ca",
   "metadata": {},
   "outputs": [],
   "source": [
    "# create configs\n",
    "model=Model(\n",
    "    model_id='deepseek-llm-r1-distill-qwen-1-5b',\n",
    "    model_version='2.0.4',\n",
    ")\n",
    "server=Server(\n",
    "    instance_type='ml.g5.8xlarge',\n",
    ")\n",
    "endpoint_name=SageMakerEndpoint(name='deepsek7bsme-testing-zhaoqi-0627-jumpstart')\n",
    "tls_config=TlsConfig(tls_certificate_output_s3_uri='s3://tls-bucket-inf1-beta2')\n",
    "\n",
    "# create spec\n",
    "js_endpoint=HPJumpStartEndpoint(\n",
    "    model=model,\n",
    "    server=server,\n",
    "    sage_maker_endpoint=endpoint_name,\n",
    "    tls_config=tls_config,\n",
    ")"
   ]
  },
  {
   "cell_type": "code",
   "execution_count": 3,
   "id": "021daf32-17b5-4d4f-8176-be4af042d69c",
   "metadata": {},
   "outputs": [
    {
     "name": "stdout",
     "output_type": "stream",
     "text": [
      "\n",
      "Deploying model and endpoint using config:\n",
      " apiVersion: inference.sagemaker.aws.amazon.com/v1alpha1\n",
      "kind: JumpStartModel\n",
      "metadata:\n",
      "  name: deepseek-llm-r1-distill-qwen-1-5b\n",
      "  namespace: default\n",
      "spec:\n",
      "  maxDeployTimeInSeconds: 3600\n",
      "  model:\n",
      "    acceptEula: false\n",
      "    modelHubName: SageMakerPublicHub\n",
      "    modelId: deepseek-llm-r1-distill-qwen-1-5b\n",
      "    modelVersion: 2.0.4\n",
      "  replicas: 1\n",
      "  sageMakerEndpoint:\n",
      "    name: deepsek7bsme-testing-zhaoqi-0627-jumpstart\n",
      "  server:\n",
      "    instanceType: ml.g5.8xlarge\n",
      "  tlsConfig:\n",
      "    tlsCertificateOutputS3Uri: s3://tls-bucket-inf1-beta2\n",
      "\n",
      "\n",
      "Deploying model and its endpoint... The process may take a few minutes.\n"
     ]
    }
   ],
   "source": [
    "# use spec to deploy\n",
    "js_endpoint.create()"
   ]
  },
  {
   "cell_type": "code",
   "execution_count": 16,
   "id": "95296290-b22f-45cb-a262-b6382cefd558",
   "metadata": {},
   "outputs": [],
   "source": [
    "js_endpoint.refresh()"
   ]
  },
  {
   "cell_type": "code",
   "execution_count": 30,
   "id": "5990914c-1bbd-4ecb-92db-29752e92737d",
   "metadata": {},
   "outputs": [
    {
     "data": {
      "text/plain": [
       "'CreationCompleted'"
      ]
     },
     "execution_count": 30,
     "metadata": {},
     "output_type": "execute_result"
    }
   ],
   "source": [
    "js_endpoint.status.endpoints.sagemaker.state"
   ]
  },
  {
   "cell_type": "code",
   "execution_count": 17,
   "id": "59699ae1-993e-4ec6-a4c4-6ca4feae49d0",
   "metadata": {},
   "outputs": [
    {
     "name": "stdout",
     "output_type": "stream",
     "text": [
      "maxDeployTimeInSeconds: 3600\n",
      "model:\n",
      "  acceptEula: false\n",
      "  modelHubName: SageMakerPublicHub\n",
      "  modelId: deepseek-llm-r1-distill-qwen-1-5b\n",
      "  modelVersion: 2.0.4\n",
      "namespace: default\n",
      "replicas: 1\n",
      "sageMakerEndpoint:\n",
      "  name: deepsek7bsme-testing-zhaoqi-0627-jumpstart\n",
      "server:\n",
      "  instanceType: ml.g5.8xlarge\n",
      "status:\n",
      "  conditions:\n",
      "  - lastTransitionTime: '2025-06-28T23:50:57Z'\n",
      "    message: Deployment, ALB Creation or SageMaker endpoint registration creation\n",
      "      for model is in progress\n",
      "    reason: InProgress\n",
      "    status: 'True'\n",
      "    type: DeploymentInProgress\n",
      "  - lastTransitionTime: '2025-06-28T23:56:01Z'\n",
      "    message: Deployment and SageMaker endpoint registration for model have been created\n",
      "      successfully\n",
      "    reason: Success\n",
      "    status: 'True'\n",
      "    type: DeploymentComplete\n",
      "  deploymentStatus:\n",
      "    deploymentObjectOverallState: DeploymentComplete\n",
      "    lastUpdated: '2025-06-28T23:56:02Z'\n",
      "    name: deepseek-llm-r1-distill-qwen-1-5b\n",
      "    reason: NativeDeploymentObjectFound\n",
      "    status:\n",
      "      availableReplicas: 1\n",
      "      conditions:\n",
      "      - lastTransitionTime: '2025-06-28T23:50:58Z'\n",
      "        lastUpdateTime: '2025-06-28T23:50:58Z'\n",
      "        message: Deployment has minimum availability.\n",
      "        reason: MinimumReplicasAvailable\n",
      "        status: 'True'\n",
      "        type: Available\n",
      "      - lastTransitionTime: '2025-06-28T23:50:48Z'\n",
      "        lastUpdateTime: '2025-06-28T23:50:58Z'\n",
      "        message: ReplicaSet \"deepseek-llm-r1-distill-qwen-1-5b-7d4db87c4f\" has successfully\n",
      "          progressed.\n",
      "        reason: NewReplicaSetAvailable\n",
      "        status: 'True'\n",
      "        type: Progressing\n",
      "      observedGeneration: 1\n",
      "      readyReplicas: 1\n",
      "      replicas: 1\n",
      "      updatedReplicas: 1\n",
      "  endpoints:\n",
      "    sagemaker:\n",
      "      endpointArn: arn:aws:sagemaker:us-east-2:637423555983:endpoint/deepsek7bsme-testing-zhaoqi-0627-jumpstart\n",
      "      state: CreationCompleted\n",
      "  replicas: 1\n",
      "  selector: app=deepseek-llm-r1-distill-qwen-1-5b\n",
      "  state: DeploymentComplete\n",
      "  tlsCertificate:\n",
      "    certificateARN: arn:aws:acm:us-east-2:637423555983:certificate/2d035220-4cb3-4903-a548-bd77a94d8510\n",
      "    certificateDomainNames:\n",
      "    - internal-k8s-default-albdeeps-58143cf402-336587171.us-east-2.elb.amazonaws.com\n",
      "    certificateName: deepseek-llm-r1-distill-qwen-1-5b-certificate\n",
      "    importedCertificates:\n",
      "    - arn:aws:acm:us-east-2:637423555983:certificate/2d035220-4cb3-4903-a548-bd77a94d8510\n",
      "    issuerName: deepseek-llm-r1-distill-qwen-1-5b-issuer\n",
      "    lastCertExpiryTime: '2026-06-28T23:50:57Z'\n",
      "    tlsCertificateOutputS3Bucket: tls-bucket-inf1-beta2\n",
      "    tlsCertificateS3Keys:\n",
      "    - 52c2qrh8q2ts/default-deepseek-llm-r1-distill-qwen-1-5b-1751154648/deepseek-llm-r1-distill-qwen-1-5b-certificate-1782690657.pem\n",
      "tlsConfig:\n",
      "  tlsCertificateOutputS3Uri: s3://tls-bucket-inf1-beta2\n",
      "\n"
     ]
    }
   ],
   "source": [
    "# print refreshed config\n",
    "import yaml\n",
    "print(yaml.dump(js_endpoint.model_dump(exclude_none=True)))"
   ]
  },
  {
   "cell_type": "markdown",
   "id": "97115d3b-228a-4a61-964d-eba872322bdd",
   "metadata": {},
   "source": [
    "<b>Note:</b> We auto-generate config class definitions above using script, such as `Model`, `Server`, `SageMakerEndpoint`. This is based on [Inference CRD file](https://code.amazon.com/packages/AWSCrescendoInferenceOperator/blobs/mainline/--/dist/config/crd/inference.sagemaker.aws.amazon.com_jumpstartmodels.yaml)."
   ]
  },
  {
   "cell_type": "code",
   "execution_count": 18,
   "id": "4b8ff190-3452-456e-82c2-ecdab1f11676",
   "metadata": {},
   "outputs": [],
   "source": [
    "# output is similar to kubectl get jumpstartmodels\n",
    "endpoint_list = HPJumpStartEndpoint.list()"
   ]
  },
  {
   "cell_type": "code",
   "execution_count": 19,
   "id": "081d1784-6542-4527-b152-4bbdce1c9845",
   "metadata": {},
   "outputs": [
    {
     "data": {
      "text/plain": [
       "HPJumpStartEndpoint(autoScalingSpec=AutoScalingSpec(cloudWatchTrigger=CloudWatchTrigger(dimensions=None, metricCollectionPeriod=300, metricCollectionStartTime=300, metricName=None, metricStat='Average', metricType='Average', minValue=0.0, name=None, namespace=None, targetValue=None, useCachedMetrics=True), cooldownPeriod=300, initialCooldownPeriod=300, maxReplicaCount=5, minReplicaCount=1, pollingInterval=30, prometheusTrigger=PrometheusTrigger(customHeaders=None, metricType='Average', name=None, namespace=None, query=None, serverAddress=None, targetValue=None, useCachedMetrics=True), scaleDownStabilizationTime=300, scaleUpStabilizationTime=0), environmentVariables=None, maxDeployTimeInSeconds=3600, metrics=None, model=Model(acceptEula=False, additionalConfigs=None, gatedModelDownloadRole=None, modelHubName='SageMakerPublicHub', modelId='deepseek-llm-r1-distill-qwen-1-5b', modelVersion='2.0.4'), replicas=1, sageMakerEndpoint=SageMakerEndpoint(name='deepsek7bsme-testing-zhaoqi-0627-jumpstart'), server=Server(executionRole=None, instanceType='ml.g5.8xlarge'), tlsConfig=TlsConfig(tlsCertificateOutputS3Uri='s3://tls-bucket-inf1-beta2'), namespace='default', status=None)"
      ]
     },
     "execution_count": 19,
     "metadata": {},
     "output_type": "execute_result"
    }
   ],
   "source": [
    "# output is similar to kubectl describe jumpstartmodel huggingface-eqa-bert-base-cased\n",
    "endpoint = HPJumpStartEndpoint.get(name='deepseek-llm-r1-distill-qwen-1-5b')\n",
    "endpoint"
   ]
  },
  {
   "cell_type": "code",
   "execution_count": 31,
   "id": "5fe7f3fb-8202-4998-a6d8-3832845ffb31",
   "metadata": {},
   "outputs": [
    {
     "name": "stdout",
     "output_type": "stream",
     "text": [
      "Deleting model and its endpoint...\n"
     ]
    }
   ],
   "source": [
    "# delete endpoint\n",
    "endpoint.delete()"
   ]
  },
  {
   "cell_type": "markdown",
   "id": "e3556d41-d759-45d2-a8f5-450e781af2bd",
   "metadata": {},
   "source": [
    "### Invoke endpoint"
   ]
  },
  {
   "cell_type": "code",
   "execution_count": 20,
   "id": "2a838f68-3560-4866-b747-9654a4cc3c37",
   "metadata": {},
   "outputs": [
    {
     "data": {
      "text/html": [
       "<pre style=\"white-space:pre;overflow-x:auto;line-height:normal;font-family:Menlo,'DejaVu Sans Mono',consolas,'Courier New',monospace\"><span style=\"color: #7fbfbf; text-decoration-color: #7fbfbf\">[06/28/25 16:57:38] </span><span style=\"color: #d7af00; text-decoration-color: #d7af00; font-weight: bold\">WARNING </span> No boto3 session provided. Creating a new session.                        <a href=\"file:///Users/jzhaoqwa/miniconda3/lib/python3.12/site-packages/sagemaker_core/main/utils.py\" target=\"_blank\"><span style=\"color: #7f7f7f; text-decoration-color: #7f7f7f\">utils.py</span></a><span style=\"color: #7f7f7f; text-decoration-color: #7f7f7f\">:</span><a href=\"file:///Users/jzhaoqwa/miniconda3/lib/python3.12/site-packages/sagemaker_core/main/utils.py#353\" target=\"_blank\"><span style=\"color: #7f7f7f; text-decoration-color: #7f7f7f\">353</span></a>\n",
       "</pre>\n"
      ],
      "text/plain": [
       "\u001b[2;36m[06/28/25 16:57:38]\u001b[0m\u001b[2;36m \u001b[0m\u001b[1;38;2;215;175;0mWARNING \u001b[0m No boto3 session provided. Creating a new session.                        \u001b]8;id=581392;file:///Users/jzhaoqwa/miniconda3/lib/python3.12/site-packages/sagemaker_core/main/utils.py\u001b\\\u001b[2mutils.py\u001b[0m\u001b]8;;\u001b\\\u001b[2m:\u001b[0m\u001b]8;id=323682;file:///Users/jzhaoqwa/miniconda3/lib/python3.12/site-packages/sagemaker_core/main/utils.py#353\u001b\\\u001b[2m353\u001b[0m\u001b]8;;\u001b\\\n"
      ]
     },
     "metadata": {},
     "output_type": "display_data"
    },
    {
     "data": {
      "text/html": [
       "<pre style=\"white-space:pre;overflow-x:auto;line-height:normal;font-family:Menlo,'DejaVu Sans Mono',consolas,'Courier New',monospace\"><span style=\"color: #7fbfbf; text-decoration-color: #7fbfbf\">                    </span><span style=\"color: #d7af00; text-decoration-color: #d7af00; font-weight: bold\">WARNING </span> No config provided. Using default config.                                 <a href=\"file:///Users/jzhaoqwa/miniconda3/lib/python3.12/site-packages/sagemaker_core/main/utils.py\" target=\"_blank\"><span style=\"color: #7f7f7f; text-decoration-color: #7f7f7f\">utils.py</span></a><span style=\"color: #7f7f7f; text-decoration-color: #7f7f7f\">:</span><a href=\"file:///Users/jzhaoqwa/miniconda3/lib/python3.12/site-packages/sagemaker_core/main/utils.py#361\" target=\"_blank\"><span style=\"color: #7f7f7f; text-decoration-color: #7f7f7f\">361</span></a>\n",
       "</pre>\n"
      ],
      "text/plain": [
       "\u001b[2;36m                   \u001b[0m\u001b[2;36m \u001b[0m\u001b[1;38;2;215;175;0mWARNING \u001b[0m No config provided. Using default config.                                 \u001b]8;id=786561;file:///Users/jzhaoqwa/miniconda3/lib/python3.12/site-packages/sagemaker_core/main/utils.py\u001b\\\u001b[2mutils.py\u001b[0m\u001b]8;;\u001b\\\u001b[2m:\u001b[0m\u001b]8;id=409513;file:///Users/jzhaoqwa/miniconda3/lib/python3.12/site-packages/sagemaker_core/main/utils.py#361\u001b\\\u001b[2m361\u001b[0m\u001b]8;;\u001b\\\n"
      ]
     },
     "metadata": {},
     "output_type": "display_data"
    },
    {
     "data": {
      "text/plain": [
       "b'{\"generated_text\": \" What is the capital of France? What is the capital of Japan? What is the capital of China? What is the capital of Germany? What is\"}'"
      ]
     },
     "execution_count": 20,
     "metadata": {},
     "output_type": "execute_result"
    }
   ],
   "source": [
    "# invoke\n",
    "data='{\"inputs\":\"What is the capital of USA?\"}'\n",
    "\n",
    "endpoint.invoke(body=data).body.read()"
   ]
  }
 ],
 "metadata": {
  "kernelspec": {
   "display_name": "Python 3 (ipykernel)",
   "language": "python",
   "name": "python3"
  },
  "language_info": {
   "codemirror_mode": {
    "name": "ipython",
    "version": 3
   },
   "file_extension": ".py",
   "mimetype": "text/x-python",
   "name": "python",
   "nbconvert_exporter": "python",
   "pygments_lexer": "ipython3",
   "version": "3.12.3"
  }
 },
 "nbformat": 4,
 "nbformat_minor": 5
}
