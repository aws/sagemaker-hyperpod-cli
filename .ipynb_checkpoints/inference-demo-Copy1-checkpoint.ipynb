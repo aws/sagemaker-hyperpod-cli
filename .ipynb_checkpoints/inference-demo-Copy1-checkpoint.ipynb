{
 "cells": [
  {
   "cell_type": "markdown",
   "id": "9bc26143-07d7-4019-9237-7ba01b9e4691",
   "metadata": {},
   "source": [
    "## Inference Operator PySDK E2E Expereience"
   ]
  },
  {
   "cell_type": "code",
   "execution_count": 1,
   "id": "3817dd35-6b3d-4e4c-9585-b748544151dc",
   "metadata": {},
   "outputs": [],
   "source": [
    "import sys\n",
    "import warnings\n",
    "import logging\n",
    "\n",
    "logger = logging.getLogger()\n",
    "logger.setLevel(logging.CRITICAL)\n",
    "warnings.filterwarnings(\"ignore\")\n",
    "\n",
    "sys.path.insert(0, '/Users/jzhaoqwa/Documents/GitHub/private-sagemaker-hyperpod-cli-staging/sagemaker-hyperpod/src/sagemaker')"
   ]
  },
  {
   "cell_type": "markdown",
   "id": "1b3ce5c1-3c3d-4139-b7ae-042f360f3032",
   "metadata": {},
   "source": [
    "<b>Prerequisite:</b> Data scientists should list clusters and set cluster context"
   ]
  },
  {
   "cell_type": "code",
   "execution_count": 2,
   "id": "e22c86d6-0d3d-4c51-bef0-3f4c59ce111c",
   "metadata": {},
   "outputs": [],
   "source": [
    "from hyperpod.hyperpod_manager import HyperPodManager\n",
    "hyperpod_manager = HyperPodManager()"
   ]
  },
  {
   "cell_type": "code",
   "execution_count": 3,
   "id": "6127538f-229d-48e5-b847-8fb0bb8d4414",
   "metadata": {},
   "outputs": [
    {
     "name": "stdout",
     "output_type": "stream",
     "text": [
      "Orchestrator    Cluster Name\n",
      "--------------  --------------\n",
      "EKS             ml-cluster-c\n"
     ]
    }
   ],
   "source": [
    "hyperpod_manager.list_clusters(region='us-east-2')"
   ]
  },
  {
   "cell_type": "code",
   "execution_count": 4,
   "id": "9d8f4b6d-7b57-4221-85fa-ecd90e96be1d",
   "metadata": {},
   "outputs": [
    {
     "name": "stdout",
     "output_type": "stream",
     "text": [
      "Updated context arn:aws:eks:us-west-2:728022909529:cluster/sagemaker-hyperpod-eks-cluster in /tmp/kubeconfig\n",
      "Successfully set current cluster: ml-cluster\n"
     ]
    }
   ],
   "source": [
    "# choose the HP cluster user works on\n",
    "hyperpod_manager.set_context('ml-cluster', region='us-east-2')"
   ]
  },
  {
   "cell_type": "code",
   "execution_count": 4,
   "id": "999aa080-78e2-4e2a-9f7f-8dfaaf70512f",
   "metadata": {},
   "outputs": [
    {
     "name": "stdout",
     "output_type": "stream",
     "text": [
      "Current Eks context is: arn:aws:eks:us-east-2:637423555983:cluster/EKSClusterForInf-Beta2try1\n"
     ]
    }
   ],
   "source": [
    "# verify current kube context\n",
    "hyperpod_manager.get_context()"
   ]
  },
  {
   "cell_type": "markdown",
   "id": "a151e55e-0766-48c4-b6c8-734f19e7b6c8",
   "metadata": {},
   "source": [
    "### Create JumpStart model endpoint"
   ]
  },
  {
   "cell_type": "markdown",
   "id": "0628c745-b11e-49dc-a77a-440824d4b95e",
   "metadata": {},
   "source": [
    "#### Create from spec object (for experienced users)"
   ]
  },
  {
   "cell_type": "code",
   "execution_count": 5,
   "id": "c72a1053-6c06-4cb9-a9bc-f6c4ed6e3c59",
   "metadata": {},
   "outputs": [
    {
     "data": {
      "text/html": [
       "<pre style=\"white-space:pre;overflow-x:auto;line-height:normal;font-family:Menlo,'DejaVu Sans Mono',consolas,'Courier New',monospace\"><span style=\"color: #7fbfbf; text-decoration-color: #7fbfbf\">[06/16/25 13:41:09] </span><span style=\"color: #0069ff; text-decoration-color: #0069ff; font-weight: bold\">INFO    </span> Found credentials in shared credentials file: ~<span style=\"color: #e100e1; text-decoration-color: #e100e1\">/.aws/credentials</span>   <a href=\"file:///Users/jzhaoqwa/miniconda3/lib/python3.12/site-packages/botocore/credentials.py\" target=\"_blank\"><span style=\"color: #7f7f7f; text-decoration-color: #7f7f7f\">credentials.py</span></a><span style=\"color: #7f7f7f; text-decoration-color: #7f7f7f\">:</span><a href=\"file:///Users/jzhaoqwa/miniconda3/lib/python3.12/site-packages/botocore/credentials.py#1352\" target=\"_blank\"><span style=\"color: #7f7f7f; text-decoration-color: #7f7f7f\">1352</span></a>\n",
       "</pre>\n"
      ],
      "text/plain": [
       "\u001b[2;36m[06/16/25 13:41:09]\u001b[0m\u001b[2;36m \u001b[0m\u001b[1;38;2;0;105;255mINFO    \u001b[0m Found credentials in shared credentials file: ~\u001b[38;2;225;0;225m/.aws/\u001b[0m\u001b[38;2;225;0;225mcredentials\u001b[0m   \u001b]8;id=675253;file:///Users/jzhaoqwa/miniconda3/lib/python3.12/site-packages/botocore/credentials.py\u001b\\\u001b[2mcredentials.py\u001b[0m\u001b]8;;\u001b\\\u001b[2m:\u001b[0m\u001b]8;id=762417;file:///Users/jzhaoqwa/miniconda3/lib/python3.12/site-packages/botocore/credentials.py#1352\u001b\\\u001b[2m1352\u001b[0m\u001b]8;;\u001b\\\n"
      ]
     },
     "metadata": {},
     "output_type": "display_data"
    },
    {
     "name": "stdout",
     "output_type": "stream",
     "text": [
      "sagemaker.config INFO - Not applying SDK defaults from location: /Library/Application Support/sagemaker/config.yaml\n",
      "sagemaker.config INFO - Not applying SDK defaults from location: /Users/jzhaoqwa/Library/Application Support/sagemaker/config.yaml\n"
     ]
    }
   ],
   "source": [
    "from hyperpod.inference.config.hp_jumpstart_endpoint_config import Model, Server, SageMakerEndpoint, JumpStartModelSpec\n",
    "from hyperpod.inference.jumpstart_model_endpoint import JumpStartModelEndpoint"
   ]
  },
  {
   "cell_type": "code",
   "execution_count": 11,
   "id": "314d48d2-8b6e-4be9-b5dc-31780dd0d1ca",
   "metadata": {},
   "outputs": [],
   "source": [
    "# create configs\n",
    "model=Model(model_id='sklearn-regression-linear')\n",
    "server=Server(instance_type='ml.t3.medium')\n",
    "endpoint_name=SageMakerEndpoint(name='sklearn-regression-/!@#$%^&*()_-linear-endpoint')\n",
    "\n",
    "# create spec\n",
    "spec=JumpStartModelSpec(model=model, server=server, sage_maker_endpoint=endpoint_name)"
   ]
  },
  {
   "cell_type": "code",
   "execution_count": 12,
   "id": "021daf32-17b5-4d4f-8176-be4af042d69c",
   "metadata": {},
   "outputs": [
    {
     "name": "stdout",
     "output_type": "stream",
     "text": [
      "\n",
      "Deploying model and endpoint using config:\n",
      " apiVersion: inference.sagemaker.aws.amazon.com/v1alpha1\n",
      "kind: JumpStartModel\n",
      "metadata:\n",
      "  name: sklearn-regression-linear\n",
      "  namespace: default\n",
      "spec:\n",
      "  maxDeployTimeInSeconds: 3600\n",
      "  model:\n",
      "    acceptEula: false\n",
      "    modelHubName: SageMakerPublicHub\n",
      "    modelId: sklearn-regression-linear\n",
      "  replicas: 1\n",
      "  sageMakerEndpoint:\n",
      "    name: sklearn-regression-/!@#$%^&*()_-linear-endpoint\n",
      "  server:\n",
      "    instanceType: ml.t3.medium\n",
      "\n",
      "\n",
      "Failed to deploy model and its endpoint: (422)\n",
      "Reason: Unprocessable Entity\n",
      "HTTP response headers: HTTPHeaderDict({'Audit-Id': 'e4e15edc-d17c-4156-b447-1fa08b3349b3', 'Cache-Control': 'no-cache, private', 'Content-Type': 'application/json', 'X-Kubernetes-Pf-Flowschema-Uid': 'f8f85dbb-f5aa-4a06-9c36-3d79feebdf24', 'X-Kubernetes-Pf-Prioritylevel-Uid': '5b6e12ee-b997-4f26-a5a6-fc672028f3e5', 'Date': 'Mon, 16 Jun 2025 20:42:05 GMT', 'Content-Length': '758'})\n",
      "HTTP response body: {\"kind\":\"Status\",\"apiVersion\":\"v1\",\"metadata\":{},\"status\":\"Failure\",\"message\":\"JumpStartModel.inference.sagemaker.aws.amazon.com \\\"sklearn-regression-linear\\\" is invalid: spec.sageMakerEndpoint.name: Invalid value: \\\"sklearn-regression-/!@#$%^\\u0026*()_-linear-endpoint\\\": spec.sageMakerEndpoint.name in body should match '^[a-zA-Z0-9](-*[a-zA-Z0-9]){0,62}$'\",\"reason\":\"Invalid\",\"details\":{\"name\":\"sklearn-regression-linear\",\"group\":\"inference.sagemaker.aws.amazon.com\",\"kind\":\"JumpStartModel\",\"causes\":[{\"reason\":\"FieldValueInvalid\",\"message\":\"Invalid value: \\\"sklearn-regression-/!@#$%^\\u0026*()_-linear-endpoint\\\": spec.sageMakerEndpoint.name in body should match '^[a-zA-Z0-9](-*[a-zA-Z0-9]){0,62}$'\",\"field\":\"spec.sageMakerEndpoint.name\"}]},\"code\":422}\n",
      "\n",
      "\n"
     ]
    }
   ],
   "source": [
    "# use spec to deploy\n",
    "JumpStartModelEndpoint.create_from_spec(namespace='default', spec=spec)"
   ]
  },
  {
   "cell_type": "markdown",
   "id": "97115d3b-228a-4a61-964d-eba872322bdd",
   "metadata": {},
   "source": [
    "<b>Note:</b> We auto-generate config class definitions above using script, such as `Model`, `Server`, `SageMakerEndpoint` and `JumpStartModelSpec`. This is based on [Inference CRD file](https://code.amazon.com/packages/AWSCrescendoInferenceOperator/blobs/mainline/--/dist/config/crd/inference.sagemaker.aws.amazon.com_jumpstartmodels.yaml)."
   ]
  },
  {
   "cell_type": "markdown",
   "id": "7755cd15-7013-496e-b7be-86edc366603f",
   "metadata": {},
   "source": [
    "#### Quick create with required inputs only"
   ]
  },
  {
   "cell_type": "markdown",
   "id": "34d02505-dbf8-4d97-b41a-8d608663a4ce",
   "metadata": {},
   "source": [
    "This method overloads `create` function with required inputs. There is validation inside to make sure user cannot enter `spec` and other inputs at the same time."
   ]
  },
  {
   "cell_type": "code",
   "execution_count": 9,
   "id": "4b94deed-1643-44b0-bf31-4799bf117e4f",
   "metadata": {},
   "outputs": [
    {
     "name": "stdout",
     "output_type": "stream",
     "text": [
      "\n",
      "Deploying model and endpoint using config:\n",
      " apiVersion: inference.sagemaker.aws.amazon.com/v1alpha1\n",
      "kind: JumpStartModel\n",
      "metadata:\n",
      "  name: sklearn-regression-linear\n",
      "  namespace: default\n",
      "spec:\n",
      "  maxDeployTimeInSeconds: 3600\n",
      "  model:\n",
      "    acceptEula: false\n",
      "    modelHubName: SageMakerPublicHub\n",
      "    modelId: sklearn-regression-linear\n",
      "  replicas: 1\n",
      "  sageMakerEndpoint:\n",
      "    name: sklearn-regression-linear-250613-122217-491618\n",
      "  server:\n",
      "    instanceType: ml.t3.medium\n",
      "\n",
      "\n",
      "Failed to deploy model and its endpoint: (409)\n",
      "Reason: Conflict\n",
      "HTTP response headers: HTTPHeaderDict({'Audit-Id': '5a01f13a-2195-4d31-b91c-2382b2297aff', 'Cache-Control': 'no-cache, private', 'Content-Type': 'application/json', 'X-Kubernetes-Pf-Flowschema-Uid': 'a63ff61d-2cb1-4dc6-b815-25dc200f4b2c', 'X-Kubernetes-Pf-Prioritylevel-Uid': '30e014a8-613f-408e-b39b-ce6221b3b1be', 'Date': 'Fri, 13 Jun 2025 19:22:18 GMT', 'Content-Length': '330'})\n",
      "HTTP response body: {\"kind\":\"Status\",\"apiVersion\":\"v1\",\"metadata\":{},\"status\":\"Failure\",\"message\":\"jumpstartmodels.inference.sagemaker.aws.amazon.com \\\"sklearn-regression-linear\\\" already exists\",\"reason\":\"AlreadyExists\",\"details\":{\"name\":\"sklearn-regression-linear\",\"group\":\"inference.sagemaker.aws.amazon.com\",\"kind\":\"jumpstartmodels\"},\"code\":409}\n",
      "\n",
      "\n"
     ]
    }
   ],
   "source": [
    "# create with required inputs\n",
    "JumpStartModelEndpoint.create(\n",
    "    namespace='default',\n",
    "    model_id='sklearn-regression-linear',\n",
    "    instance_type='ml.t3.medium',\n",
    ")"
   ]
  },
  {
   "cell_type": "markdown",
   "id": "7c4afc00-f58e-4e41-804f-48ef1c7b7cba",
   "metadata": {},
   "source": [
    "#### Other operations"
   ]
  },
  {
   "cell_type": "code",
   "execution_count": 10,
   "id": "4b8ff190-3452-456e-82c2-ecdab1f11676",
   "metadata": {},
   "outputs": [
    {
     "name": "stdout",
     "output_type": "stream",
     "text": [
      "METADATA NAME              CREATE TIME\n",
      "-------------------------  --------------------\n",
      "sklearn-regression-linear  2025-06-13T19:18:57Z\n"
     ]
    }
   ],
   "source": [
    "# list all deployed endpoints\n",
    "JumpStartModelEndpoint.list_endpoints()\n",
    "\n",
    "# kubectl get jumpstartmodels"
   ]
  },
  {
   "cell_type": "code",
   "execution_count": 11,
   "id": "081d1784-6542-4527-b152-4bbdce1c9845",
   "metadata": {},
   "outputs": [
    {
     "name": "stdout",
     "output_type": "stream",
     "text": [
      "apiVersion: inference.sagemaker.aws.amazon.com/v1alpha1\n",
      "kind: JumpStartModel\n",
      "metadata:\n",
      "  creationTimestamp: '2025-06-13T19:18:57Z'\n",
      "  generation: 1\n",
      "  name: sklearn-regression-linear\n",
      "  namespace: default\n",
      "  resourceVersion: '8415824'\n",
      "  uid: 3c3da046-3c57-4e17-9f91-a2735e6cf470\n",
      "spec:\n",
      "  maxDeployTimeInSeconds: 3600\n",
      "  model:\n",
      "    acceptEula: false\n",
      "    modelHubName: SageMakerPublicHub\n",
      "    modelId: sklearn-regression-linear\n",
      "  replicas: 1\n",
      "  sageMakerEndpoint:\n",
      "    name: sklearn-regression-linear-endpoint\n",
      "  server:\n",
      "    instanceType: ml.t3.medium\n",
      "\n"
     ]
    }
   ],
   "source": [
    "# describe deployed endpoints\n",
    "JumpStartModelEndpoint.describe_endpoint(name='sklearn-regression-linear', namespace='default')\n",
    "\n",
    "# kubectl describe jumpstartmodel sklearn-regression-linear"
   ]
  },
  {
   "cell_type": "code",
   "execution_count": 12,
   "id": "5fe7f3fb-8202-4998-a6d8-3832845ffb31",
   "metadata": {},
   "outputs": [
    {
     "name": "stdout",
     "output_type": "stream",
     "text": [
      "Successful deleted model and endpoint!\n"
     ]
    }
   ],
   "source": [
    "HPJumpStartEndpoint.delete_endpoint(name='sklearn-regression-linear', namespace='default')"
   ]
  },
  {
   "cell_type": "code",
   "execution_count": null,
   "id": "41c1015a-8bdd-4c99-a341-761c5bc157f0",
   "metadata": {},
   "outputs": [],
   "source": [
    "# invoke endpoint\n",
    "endpoint = HPJumpStartEndpoint.get_endpoint(endpoint_name='endpoint-name')\n",
    "\n",
    "body = '{}'\n",
    "endpoint.invoke(body)"
   ]
  }
 ],
 "metadata": {
  "kernelspec": {
   "display_name": "Python 3 (ipykernel)",
   "language": "python",
   "name": "python3"
  },
  "language_info": {
   "codemirror_mode": {
    "name": "ipython",
    "version": 3
   },
   "file_extension": ".py",
   "mimetype": "text/x-python",
   "name": "python",
   "nbconvert_exporter": "python",
   "pygments_lexer": "ipython3",
   "version": "3.12.3"
  }
 },
 "nbformat": 4,
 "nbformat_minor": 5
}
